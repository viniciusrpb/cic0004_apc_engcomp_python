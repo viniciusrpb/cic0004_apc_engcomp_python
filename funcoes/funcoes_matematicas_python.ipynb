{
  "nbformat": 4,
  "nbformat_minor": 0,
  "metadata": {
    "colab": {
      "provenance": [],
      "authorship_tag": "ABX9TyNyylGgWVMCLAUC9/N2BknT",
      "include_colab_link": true
    },
    "kernelspec": {
      "name": "python3",
      "display_name": "Python 3"
    },
    "language_info": {
      "name": "python"
    }
  },
  "cells": [
    {
      "cell_type": "markdown",
      "metadata": {
        "id": "view-in-github",
        "colab_type": "text"
      },
      "source": [
        "<a href=\"https://colab.research.google.com/github/viniciusrpb/cic0004_apc_turma04/blob/main/funcoes/funcoes_matematicas_python.ipynb\" target=\"_parent\"><img src=\"https://colab.research.google.com/assets/colab-badge.svg\" alt=\"Open In Colab\"/></a>"
      ]
    },
    {
      "cell_type": "code",
      "execution_count": 3,
      "metadata": {
        "id": "B76jbgPoxOws"
      },
      "outputs": [],
      "source": [
        "import math\n",
        "\n",
        "real = 3.87"
      ]
    },
    {
      "cell_type": "markdown",
      "source": [
        "Piso"
      ],
      "metadata": {
        "id": "kdHhOx2yxUnO"
      }
    },
    {
      "cell_type": "code",
      "source": [
        "piso = math.floor(real)\n",
        "print(piso)"
      ],
      "metadata": {
        "colab": {
          "base_uri": "https://localhost:8080/"
        },
        "id": "bb0sOrVsxSW6",
        "outputId": "082e31fb-46d1-4a41-ebea-404913de7a40"
      },
      "execution_count": 4,
      "outputs": [
        {
          "output_type": "stream",
          "name": "stdout",
          "text": [
            "3\n"
          ]
        }
      ]
    },
    {
      "cell_type": "markdown",
      "source": [
        "Teto"
      ],
      "metadata": {
        "id": "rGRJXQG-yTcM"
      }
    },
    {
      "cell_type": "code",
      "source": [
        "teto = math.ceil(real)\n",
        "print(teto)"
      ],
      "metadata": {
        "colab": {
          "base_uri": "https://localhost:8080/"
        },
        "id": "WWwAsJMyyTjv",
        "outputId": "67147d65-7066-43b3-c97f-6fbb70850cfc"
      },
      "execution_count": 5,
      "outputs": [
        {
          "output_type": "stream",
          "name": "stdout",
          "text": [
            "4\n"
          ]
        }
      ]
    },
    {
      "cell_type": "markdown",
      "source": [
        "Potência"
      ],
      "metadata": {
        "id": "NV716U_FyY73"
      }
    },
    {
      "cell_type": "code",
      "source": [
        "pot = math.pow(real,4)\n",
        "print(pot)"
      ],
      "metadata": {
        "colab": {
          "base_uri": "https://localhost:8080/"
        },
        "id": "HHMCKNonyZFY",
        "outputId": "c03ca0ae-34a7-4a65-92e8-bc1e4c36692e"
      },
      "execution_count": 7,
      "outputs": [
        {
          "output_type": "stream",
          "name": "stdout",
          "text": [
            "224.30753361000004\n"
          ]
        }
      ]
    },
    {
      "cell_type": "markdown",
      "source": [
        "Raiz Quadrada"
      ],
      "metadata": {
        "id": "v3gWfkx0ygUe"
      }
    },
    {
      "cell_type": "code",
      "source": [
        "raiz_quadrada = math.sqrt(16)\n",
        "print(raiz_quadrada)"
      ],
      "metadata": {
        "colab": {
          "base_uri": "https://localhost:8080/"
        },
        "id": "3FzCVazkyeJr",
        "outputId": "8e54dcb9-3d93-4319-9f7a-ad5057c460b0"
      },
      "execution_count": 9,
      "outputs": [
        {
          "output_type": "stream",
          "name": "stdout",
          "text": [
            "4.0\n"
          ]
        }
      ]
    },
    {
      "cell_type": "markdown",
      "source": [
        "Raiz Cubica"
      ],
      "metadata": {
        "id": "Srnp3By7yrPQ"
      }
    },
    {
      "cell_type": "code",
      "source": [
        "raiz_cubica = 125**(1/3)\n",
        "print(raiz_cubica)"
      ],
      "metadata": {
        "colab": {
          "base_uri": "https://localhost:8080/"
        },
        "id": "4W8M5Cxlyss2",
        "outputId": "a5a5597d-7b04-4584-fdb4-bac1b4a53e92"
      },
      "execution_count": 11,
      "outputs": [
        {
          "output_type": "stream",
          "name": "stdout",
          "text": [
            "4.999999999999999\n"
          ]
        }
      ]
    }
  ]
}