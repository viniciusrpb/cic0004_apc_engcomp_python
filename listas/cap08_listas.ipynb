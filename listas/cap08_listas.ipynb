{
  "nbformat": 4,
  "nbformat_minor": 0,
  "metadata": {
    "colab": {
      "provenance": [],
      "include_colab_link": true
    },
    "kernelspec": {
      "name": "python3",
      "display_name": "Python 3"
    },
    "language_info": {
      "name": "python"
    }
  },
  "cells": [
    {
      "cell_type": "markdown",
      "metadata": {
        "id": "view-in-github",
        "colab_type": "text"
      },
      "source": [
        "<a href=\"https://colab.research.google.com/github/viniciusrpb/cic0004_apc_turma04/blob/main/listas/cap08_listas.ipynb\" target=\"_parent\"><img src=\"https://colab.research.google.com/assets/colab-badge.svg\" alt=\"Open In Colab\"/></a>"
      ]
    },
    {
      "cell_type": "markdown",
      "source": [
        "#Capítulo 8 - Listas\n",
        "\n",
        "Notas de aula"
      ],
      "metadata": {
        "id": "VFXAhaHLEOKS"
      }
    },
    {
      "cell_type": "code",
      "source": [
        "# declarando diretamente os elementos\n",
        "lista = [6,7,0,2,1]"
      ],
      "metadata": {
        "id": "TeTQakr5ENX5"
      },
      "execution_count": 2,
      "outputs": []
    },
    {
      "cell_type": "markdown",
      "source": [
        "Como acessar cada elemento da lista?\n",
        "\n",
        "1) Primeira abordagem"
      ],
      "metadata": {
        "id": "wgl42KCdEllW"
      }
    },
    {
      "cell_type": "code",
      "source": [
        "for elemento in lista:\n",
        "    print(elemento)"
      ],
      "metadata": {
        "colab": {
          "base_uri": "https://localhost:8080/"
        },
        "id": "07ze5bR0Ef07",
        "outputId": "906ac880-e0d0-4cbc-da7c-0d9901f97510"
      },
      "execution_count": 3,
      "outputs": [
        {
          "output_type": "stream",
          "name": "stdout",
          "text": [
            "6\n",
            "7\n",
            "0\n",
            "2\n",
            "1\n"
          ]
        }
      ]
    },
    {
      "cell_type": "markdown",
      "source": [
        "Utilizando o for"
      ],
      "metadata": {
        "id": "Vg_9LhsZFEBr"
      }
    },
    {
      "cell_type": "code",
      "source": [
        "n = len(lista)\n",
        "\n",
        "for i in range(0,n):\n",
        "    print(lista[i])"
      ],
      "metadata": {
        "colab": {
          "base_uri": "https://localhost:8080/"
        },
        "id": "_Egu8g2BE5hO",
        "outputId": "96aa7b06-866e-4da2-e7b2-cc894cff601f"
      },
      "execution_count": 4,
      "outputs": [
        {
          "output_type": "stream",
          "name": "stdout",
          "text": [
            "6\n",
            "7\n",
            "0\n",
            "2\n",
            "1\n"
          ]
        }
      ]
    },
    {
      "cell_type": "markdown",
      "source": [
        "Utilizando o laço while"
      ],
      "metadata": {
        "id": "XgHnlR3CFFkn"
      }
    },
    {
      "cell_type": "code",
      "source": [
        "n = len(lista)\n",
        "\n",
        "i = 0\n",
        "while i < n:\n",
        "    print(lista[i])\n",
        "    i += 1"
      ],
      "metadata": {
        "colab": {
          "base_uri": "https://localhost:8080/"
        },
        "id": "sFn2VFI1FHAf",
        "outputId": "5a75e16b-bc0d-4a27-8338-c95e7a7684e9"
      },
      "execution_count": 5,
      "outputs": [
        {
          "output_type": "stream",
          "name": "stdout",
          "text": [
            "6\n",
            "7\n",
            "0\n",
            "2\n",
            "1\n"
          ]
        }
      ]
    },
    {
      "cell_type": "markdown",
      "source": [
        "## Leitura de dados da entrada para uma lista\n",
        "\n",
        "Leitura de $n$ inteiros separados por espaço em branco em uma **única linha**"
      ],
      "metadata": {
        "id": "NyP-b_R8Fe02"
      }
    },
    {
      "cell_type": "code",
      "source": [
        "lista = [int(x) for x in input().split()]"
      ],
      "metadata": {
        "colab": {
          "base_uri": "https://localhost:8080/"
        },
        "id": "SWeClD91FieW",
        "outputId": "9db08b3f-3d6e-4ecd-b26a-a64900064460"
      },
      "execution_count": 6,
      "outputs": [
        {
          "name": "stdout",
          "output_type": "stream",
          "text": [
            "6 7 2 0 1\n"
          ]
        }
      ]
    },
    {
      "cell_type": "code",
      "source": [
        "lista"
      ],
      "metadata": {
        "colab": {
          "base_uri": "https://localhost:8080/"
        },
        "id": "Gt2oRbesGXKv",
        "outputId": "a7c9e841-1ea3-4f92-8727-dd241f5040e7"
      },
      "execution_count": 7,
      "outputs": [
        {
          "output_type": "execute_result",
          "data": {
            "text/plain": [
              "[6, 7, 2, 0, 1]"
            ]
          },
          "metadata": {},
          "execution_count": 7
        }
      ]
    },
    {
      "cell_type": "markdown",
      "source": [
        "Leitura de $n$ inteiros em várias linhas"
      ],
      "metadata": {
        "id": "zRAhFBhbGlK_"
      }
    },
    {
      "cell_type": "code",
      "source": [
        "n = int(input())\n",
        "lista = []    # a lista inicialmente está vazia\n",
        "\n",
        "for i in range(0,n):\n",
        "    elem = int(input())\n",
        "    lista.append(elem)  # adiciona o elemento\n",
        "                        # no final da lista"
      ],
      "metadata": {
        "colab": {
          "base_uri": "https://localhost:8080/"
        },
        "id": "tsXZmZO0Gotv",
        "outputId": "cbc45d99-2bf7-416e-9ea0-b63546261426"
      },
      "execution_count": 8,
      "outputs": [
        {
          "name": "stdout",
          "output_type": "stream",
          "text": [
            "5\n",
            "6\n",
            "7\n",
            "3\n",
            "0\n",
            "1\n"
          ]
        }
      ]
    },
    {
      "cell_type": "code",
      "source": [
        "lista"
      ],
      "metadata": {
        "colab": {
          "base_uri": "https://localhost:8080/"
        },
        "id": "-my53P7rHQPA",
        "outputId": "5702ed26-7172-460a-959d-aeae7d74059e"
      },
      "execution_count": 9,
      "outputs": [
        {
          "output_type": "execute_result",
          "data": {
            "text/plain": [
              "[6, 7, 3, 0, 1]"
            ]
          },
          "metadata": {},
          "execution_count": 9
        }
      ]
    },
    {
      "cell_type": "markdown",
      "source": [
        "## Inicializações rápidas de strings"
      ],
      "metadata": {
        "id": "qLa4Xnr0H6P8"
      }
    },
    {
      "cell_type": "code",
      "source": [
        "lista = 10*[0]\n",
        "\n",
        "lista"
      ],
      "metadata": {
        "colab": {
          "base_uri": "https://localhost:8080/"
        },
        "id": "MTzLJU1_H8qB",
        "outputId": "291b2187-9c4b-40f0-87b3-98f767695e88"
      },
      "execution_count": 10,
      "outputs": [
        {
          "output_type": "execute_result",
          "data": {
            "text/plain": [
              "[0, 0, 0, 0, 0, 0, 0, 0, 0, 0]"
            ]
          },
          "metadata": {},
          "execution_count": 10
        }
      ]
    },
    {
      "cell_type": "markdown",
      "source": [
        "Exercício:\n",
        "\n",
        "Dada uma string da entrada (contendo apenas caracteres latinos minúsculos), determine a frequência de cada caractere nela presente."
      ],
      "metadata": {
        "id": "EDsKMpQDIISt"
      }
    },
    {
      "cell_type": "code",
      "source": [
        "string = input()\n",
        "\n",
        "histograma =26*[0]\n",
        "\n",
        "for caractere in string:\n",
        "    pos = ord(caractere) - 97\n",
        "    histograma[pos] += 1"
      ],
      "metadata": {
        "colab": {
          "base_uri": "https://localhost:8080/"
        },
        "id": "3FVpTxfFISwk",
        "outputId": "70ffa57b-dd52-463d-bd97-7a1cf5afa03e"
      },
      "execution_count": 13,
      "outputs": [
        {
          "name": "stdout",
          "output_type": "stream",
          "text": [
            "banana\n"
          ]
        }
      ]
    },
    {
      "cell_type": "code",
      "source": [
        "for i in range(0,26):\n",
        "    caractere = chr(97+i)  # pega o codigo ASCII\n",
        "                           # e converte em caractere\n",
        "    print(f\"'{caractere}': {histograma[i]}\")"
      ],
      "metadata": {
        "colab": {
          "base_uri": "https://localhost:8080/"
        },
        "id": "FuLx0gDxLOh7",
        "outputId": "8c6c16cb-3b7a-49f1-96fc-5b093ebfd5fb"
      },
      "execution_count": 14,
      "outputs": [
        {
          "output_type": "stream",
          "name": "stdout",
          "text": [
            "'a': 3\n",
            "'b': 1\n",
            "'c': 0\n",
            "'d': 0\n",
            "'e': 0\n",
            "'f': 0\n",
            "'g': 0\n",
            "'h': 0\n",
            "'i': 0\n",
            "'j': 0\n",
            "'k': 0\n",
            "'l': 0\n",
            "'m': 0\n",
            "'n': 2\n",
            "'o': 0\n",
            "'p': 0\n",
            "'q': 0\n",
            "'r': 0\n",
            "'s': 0\n",
            "'t': 0\n",
            "'u': 0\n",
            "'v': 0\n",
            "'w': 0\n",
            "'x': 0\n",
            "'y': 0\n",
            "'z': 0\n"
          ]
        }
      ]
    },
    {
      "cell_type": "code",
      "source": [
        "lista = []\n",
        "lista.append(1)\n",
        "lista.append(1)\n",
        "lista"
      ],
      "metadata": {
        "colab": {
          "base_uri": "https://localhost:8080/"
        },
        "id": "AWDKlPS7MDIX",
        "outputId": "8174e4b6-9d53-465a-b0f9-5ce8a48064fc"
      },
      "execution_count": 16,
      "outputs": [
        {
          "output_type": "execute_result",
          "data": {
            "text/plain": [
              "[1, 1]"
            ]
          },
          "metadata": {},
          "execution_count": 16
        }
      ]
    },
    {
      "cell_type": "markdown",
      "source": [
        "Fatiamento de listas\n",
        "\n",
        "sempre **retornam uma nova lista** (novo endereço) contendo os elementos em um intervalo [a,b)"
      ],
      "metadata": {
        "id": "KHeoSim4UWxV"
      }
    },
    {
      "cell_type": "code",
      "source": [
        "lista = [1,2,3,4,5,6,7]"
      ],
      "metadata": {
        "id": "Yo5v7Ql4UWJH"
      },
      "execution_count": 17,
      "outputs": []
    },
    {
      "cell_type": "code",
      "source": [
        "lista[1:4]"
      ],
      "metadata": {
        "colab": {
          "base_uri": "https://localhost:8080/"
        },
        "id": "7v_dBZMuUagj",
        "outputId": "10a5043a-609b-428a-d7a8-101b95fe8f54"
      },
      "execution_count": 18,
      "outputs": [
        {
          "output_type": "execute_result",
          "data": {
            "text/plain": [
              "[2, 3, 4]"
            ]
          },
          "metadata": {},
          "execution_count": 18
        }
      ]
    },
    {
      "cell_type": "code",
      "source": [
        "lista[0:5]"
      ],
      "metadata": {
        "colab": {
          "base_uri": "https://localhost:8080/"
        },
        "id": "a9Gf79LXUdeT",
        "outputId": "2badce14-ce7a-4fbe-81c6-148c1712aafe"
      },
      "execution_count": 20,
      "outputs": [
        {
          "output_type": "execute_result",
          "data": {
            "text/plain": [
              "[1, 2, 3, 4, 5]"
            ]
          },
          "metadata": {},
          "execution_count": 20
        }
      ]
    },
    {
      "cell_type": "code",
      "source": [
        "lista[:-1]"
      ],
      "metadata": {
        "colab": {
          "base_uri": "https://localhost:8080/"
        },
        "id": "pLXQAHBSUis9",
        "outputId": "0b7d7209-3410-453b-8c17-3510f152922c"
      },
      "execution_count": 21,
      "outputs": [
        {
          "output_type": "execute_result",
          "data": {
            "text/plain": [
              "[1, 2, 3, 4, 5, 6]"
            ]
          },
          "metadata": {},
          "execution_count": 21
        }
      ]
    },
    {
      "cell_type": "code",
      "source": [
        "lista[:-2]"
      ],
      "metadata": {
        "colab": {
          "base_uri": "https://localhost:8080/"
        },
        "id": "Onv8WaaXUpph",
        "outputId": "bd0f82d7-a8d9-4eba-f282-ad982f46b65a"
      },
      "execution_count": 22,
      "outputs": [
        {
          "output_type": "execute_result",
          "data": {
            "text/plain": [
              "[1, 2, 3, 4, 5]"
            ]
          },
          "metadata": {},
          "execution_count": 22
        }
      ]
    },
    {
      "cell_type": "code",
      "source": [
        "lista[::-1]"
      ],
      "metadata": {
        "colab": {
          "base_uri": "https://localhost:8080/"
        },
        "id": "QnaIFzKKUsX6",
        "outputId": "53ac26a1-fec9-4bde-b1cf-acea7ddd7e9d"
      },
      "execution_count": 23,
      "outputs": [
        {
          "output_type": "execute_result",
          "data": {
            "text/plain": [
              "[7, 6, 5, 4, 3, 2, 1]"
            ]
          },
          "metadata": {},
          "execution_count": 23
        }
      ]
    },
    {
      "cell_type": "markdown",
      "source": [
        "FUnções úteis"
      ],
      "metadata": {
        "id": "ia3NJy31XbAb"
      }
    },
    {
      "cell_type": "code",
      "source": [
        "lista = [6,3,2,7,1,5,4]\n",
        "\n",
        "elem = 3 \n",
        "\n",
        "if elem in lista:\n",
        "    print('3 estah na lista')"
      ],
      "metadata": {
        "colab": {
          "base_uri": "https://localhost:8080/"
        },
        "id": "yrsBzoDOXcM8",
        "outputId": "79a3e23d-278f-45df-a408-00f66c7656d4"
      },
      "execution_count": 38,
      "outputs": [
        {
          "output_type": "stream",
          "name": "stdout",
          "text": [
            "3 estah na lista\n"
          ]
        }
      ]
    },
    {
      "cell_type": "markdown",
      "source": [
        "Tamanho da lista"
      ],
      "metadata": {
        "id": "lCFw--t4XoKw"
      }
    },
    {
      "cell_type": "code",
      "source": [
        "n = len(lista)\n",
        "print(f'Tamanho da lista eh {n}')"
      ],
      "metadata": {
        "colab": {
          "base_uri": "https://localhost:8080/"
        },
        "id": "CiL18_oSXmKk",
        "outputId": "6efff998-0010-470e-da77-8f96af4a80da"
      },
      "execution_count": 39,
      "outputs": [
        {
          "output_type": "stream",
          "name": "stdout",
          "text": [
            "Tamanho da lista eh 7\n"
          ]
        }
      ]
    },
    {
      "cell_type": "markdown",
      "source": [
        "Ordenação\n",
        "\n",
        "O padrão é crescente"
      ],
      "metadata": {
        "id": "gfo6ychcXqoY"
      }
    },
    {
      "cell_type": "code",
      "source": [
        "backup = []\n",
        "for elem in lista:\n",
        "    backup.append(elem)"
      ],
      "metadata": {
        "id": "T15Cn2RIYNsJ"
      },
      "execution_count": 40,
      "outputs": []
    },
    {
      "cell_type": "code",
      "source": [
        "lista.sort()\n",
        "print(lista)"
      ],
      "metadata": {
        "colab": {
          "base_uri": "https://localhost:8080/"
        },
        "id": "dvR9QM5nXsqG",
        "outputId": "edd7ca71-c534-457c-8dfe-fde950bb68e8"
      },
      "execution_count": 43,
      "outputs": [
        {
          "output_type": "stream",
          "name": "stdout",
          "text": [
            "[1, 2, 3, 4, 5, 6, 7]\n"
          ]
        }
      ]
    },
    {
      "cell_type": "code",
      "source": [
        "backup"
      ],
      "metadata": {
        "colab": {
          "base_uri": "https://localhost:8080/"
        },
        "id": "eUj5Ud3dZWMH",
        "outputId": "88a8967d-97b2-4a35-83f3-bd4db5a4f468"
      },
      "execution_count": 44,
      "outputs": [
        {
          "output_type": "execute_result",
          "data": {
            "text/plain": [
              "[6, 3, 2, 7, 1, 5, 4]"
            ]
          },
          "metadata": {},
          "execution_count": 44
        }
      ]
    },
    {
      "cell_type": "markdown",
      "source": [
        "Ordenação decrescente"
      ],
      "metadata": {
        "id": "kQtMuJJgX9Oa"
      }
    },
    {
      "cell_type": "code",
      "source": [
        "lista.sort(reverse=True)\n",
        "print(lista)"
      ],
      "metadata": {
        "colab": {
          "base_uri": "https://localhost:8080/"
        },
        "id": "bxtKI_UYYAQK",
        "outputId": "88260704-7985-4470-9603-2a212924931f"
      },
      "execution_count": 32,
      "outputs": [
        {
          "output_type": "stream",
          "name": "stdout",
          "text": [
            "[7, 6, 5, 4, 3, 2, 1]\n"
          ]
        }
      ]
    },
    {
      "cell_type": "code",
      "source": [
        "a = backup[3:5]\n",
        "a"
      ],
      "metadata": {
        "colab": {
          "base_uri": "https://localhost:8080/"
        },
        "id": "KecOajcjZhoR",
        "outputId": "1174101e-c526-4596-de91-548970efc8b6"
      },
      "execution_count": 46,
      "outputs": [
        {
          "output_type": "execute_result",
          "data": {
            "text/plain": [
              "[7, 1]"
            ]
          },
          "metadata": {},
          "execution_count": 46
        }
      ]
    },
    {
      "cell_type": "code",
      "source": [
        "a.sort()\n",
        "a"
      ],
      "metadata": {
        "colab": {
          "base_uri": "https://localhost:8080/"
        },
        "id": "sH5NEjz9aKwQ",
        "outputId": "0b0ee0dd-edab-48b7-a44c-c16c8b4d40a0"
      },
      "execution_count": 48,
      "outputs": [
        {
          "output_type": "execute_result",
          "data": {
            "text/plain": [
              "[1, 7]"
            ]
          },
          "metadata": {},
          "execution_count": 48
        }
      ]
    },
    {
      "cell_type": "code",
      "source": [
        "backup[3:5].sort()\n",
        "backup[3:5]"
      ],
      "metadata": {
        "colab": {
          "base_uri": "https://localhost:8080/"
        },
        "id": "0vnN3W0FaNiR",
        "outputId": "31f7597f-ca4f-4730-b2a4-5be9212e7feb"
      },
      "execution_count": 51,
      "outputs": [
        {
          "output_type": "execute_result",
          "data": {
            "text/plain": [
              "[7, 1]"
            ]
          },
          "metadata": {},
          "execution_count": 51
        }
      ]
    },
    {
      "cell_type": "markdown",
      "source": [
        "Concatenar duas listas"
      ],
      "metadata": {
        "id": "RmpWl0Wua2LD"
      }
    },
    {
      "cell_type": "code",
      "source": [
        "list1 = [7,2,5]\n",
        "list2 = [1,1,1]\n",
        "\n",
        "novalista = list1+list2\n",
        "novalista"
      ],
      "metadata": {
        "colab": {
          "base_uri": "https://localhost:8080/"
        },
        "id": "x54Wtc3ca16G",
        "outputId": "f5dd8d47-6929-4250-bd0f-924f6c443031"
      },
      "execution_count": 65,
      "outputs": [
        {
          "output_type": "execute_result",
          "data": {
            "text/plain": [
              "[7, 2, 5, 1, 1, 1]"
            ]
          },
          "metadata": {},
          "execution_count": 65
        }
      ]
    },
    {
      "cell_type": "code",
      "source": [
        "list1.sort()\n",
        "list1"
      ],
      "metadata": {
        "colab": {
          "base_uri": "https://localhost:8080/"
        },
        "id": "ccqDfbttcTMm",
        "outputId": "8139e870-b93a-4065-f64f-7278c23c1666"
      },
      "execution_count": 68,
      "outputs": [
        {
          "output_type": "execute_result",
          "data": {
            "text/plain": [
              "[2, 5, 7]"
            ]
          },
          "metadata": {},
          "execution_count": 68
        }
      ]
    },
    {
      "cell_type": "code",
      "source": [
        "novalista"
      ],
      "metadata": {
        "colab": {
          "base_uri": "https://localhost:8080/"
        },
        "id": "xJxbP5TXcWWB",
        "outputId": "4acac9db-6487-4028-fa54-6d2e4dfaf79c"
      },
      "execution_count": 67,
      "outputs": [
        {
          "output_type": "execute_result",
          "data": {
            "text/plain": [
              "[7, 2, 5, 1, 1, 1]"
            ]
          },
          "metadata": {},
          "execution_count": 67
        }
      ]
    },
    {
      "cell_type": "code",
      "source": [
        "a = list1.extend(list2)\n",
        "list1"
      ],
      "metadata": {
        "colab": {
          "base_uri": "https://localhost:8080/"
        },
        "id": "ewf0mLUnbLRd",
        "outputId": "faedd19e-778a-4a5e-c4e0-82c3926dfc43"
      },
      "execution_count": 59,
      "outputs": [
        {
          "output_type": "execute_result",
          "data": {
            "text/plain": [
              "[7, 2, 5, 1, 1, 1]"
            ]
          },
          "metadata": {},
          "execution_count": 59
        }
      ]
    },
    {
      "cell_type": "code",
      "source": [
        "print(a)"
      ],
      "metadata": {
        "colab": {
          "base_uri": "https://localhost:8080/"
        },
        "id": "Pyf3kXmCbOEs",
        "outputId": "f1d18054-c8a5-47cf-d201-b12db39b35ca"
      },
      "execution_count": 61,
      "outputs": [
        {
          "output_type": "stream",
          "name": "stdout",
          "text": [
            "None\n"
          ]
        }
      ]
    },
    {
      "cell_type": "code",
      "source": [
        "list1"
      ],
      "metadata": {
        "colab": {
          "base_uri": "https://localhost:8080/"
        },
        "id": "tcw3a5oobYXZ",
        "outputId": "bf397bc2-7251-4bdf-daa1-c19ba3c53125"
      },
      "execution_count": 62,
      "outputs": [
        {
          "output_type": "execute_result",
          "data": {
            "text/plain": [
              "[7, 2, 5, 1, 1, 1]"
            ]
          },
          "metadata": {},
          "execution_count": 62
        }
      ]
    },
    {
      "cell_type": "code",
      "source": [
        "lista = [1,2,3]\n",
        "lista2 = [4,5]\n",
        "\n",
        "lista.append(lista2)\n",
        "print(lista)"
      ],
      "metadata": {
        "colab": {
          "base_uri": "https://localhost:8080/"
        },
        "id": "19tMeiXGbreB",
        "outputId": "66106edf-4bc7-44d0-b2da-d3866127b87e"
      },
      "execution_count": 63,
      "outputs": [
        {
          "output_type": "stream",
          "name": "stdout",
          "text": [
            "[1, 2, 3, [4, 5]]\n"
          ]
        }
      ]
    },
    {
      "cell_type": "code",
      "source": [
        "for elem in lista:\n",
        "    print(elem)"
      ],
      "metadata": {
        "colab": {
          "base_uri": "https://localhost:8080/"
        },
        "id": "A7-z4hNNcEif",
        "outputId": "36075e50-9d5d-42f8-8d16-600e7e80af1a"
      },
      "execution_count": 64,
      "outputs": [
        {
          "output_type": "stream",
          "name": "stdout",
          "text": [
            "1\n",
            "2\n",
            "3\n",
            "[4, 5]\n"
          ]
        }
      ]
    }
  ]
}