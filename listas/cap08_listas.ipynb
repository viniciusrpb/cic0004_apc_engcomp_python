{
  "nbformat": 4,
  "nbformat_minor": 0,
  "metadata": {
    "colab": {
      "provenance": [],
      "authorship_tag": "ABX9TyNa0S44teAunDN77kcP6LTK",
      "include_colab_link": true
    },
    "kernelspec": {
      "name": "python3",
      "display_name": "Python 3"
    },
    "language_info": {
      "name": "python"
    }
  },
  "cells": [
    {
      "cell_type": "markdown",
      "metadata": {
        "id": "view-in-github",
        "colab_type": "text"
      },
      "source": [
        "<a href=\"https://colab.research.google.com/github/viniciusrpb/cic0004_apc_engcomp/blob/main/listas/cap08_listas.ipynb\" target=\"_parent\"><img src=\"https://colab.research.google.com/assets/colab-badge.svg\" alt=\"Open In Colab\"/></a>"
      ]
    },
    {
      "cell_type": "markdown",
      "source": [
        "# Listas\n"
      ],
      "metadata": {
        "id": "DaYGPlUpjusK"
      }
    },
    {
      "cell_type": "markdown",
      "source": [
        "## Como criar uma lista\n",
        "\n",
        "Cria uma lista vazia:"
      ],
      "metadata": {
        "id": "PXv5qqm7ldsx"
      }
    },
    {
      "cell_type": "code",
      "execution_count": 1,
      "metadata": {
        "id": "2nYiEUUFjpuV"
      },
      "outputs": [],
      "source": [
        "lista = []"
      ]
    },
    {
      "cell_type": "markdown",
      "source": [
        "Preencher a lista com n números inteiros"
      ],
      "metadata": {
        "id": "tnEQOJYwl2H7"
      }
    },
    {
      "cell_type": "code",
      "source": [
        "n = int(input('Digite a quantidade de elementos da lista:'))\n",
        "\n",
        "for _ in range(0,n):\n",
        "\n",
        "    aux = int(input())  # Leitura de uma linha da entrada\n",
        "\n",
        "    lista.append(aux)"
      ],
      "metadata": {
        "id": "mZE8Z5tYl3dg",
        "colab": {
          "base_uri": "https://localhost:8080/"
        },
        "outputId": "30f658f3-0b5b-4477-e80b-9f539a5138ea"
      },
      "execution_count": 2,
      "outputs": [
        {
          "name": "stdout",
          "output_type": "stream",
          "text": [
            "Digite a quantidade de elementos da lista:5\n",
            "6\n",
            "5\n",
            "9\n",
            "1\n",
            "2\n"
          ]
        }
      ]
    },
    {
      "cell_type": "markdown",
      "source": [],
      "metadata": {
        "id": "kDrVEkeKotKw"
      }
    },
    {
      "cell_type": "code",
      "source": [
        "# Imprimir os elementos de uma lista (1 por linha)\n",
        "for elem in lista:\n",
        "    print(elem)"
      ],
      "metadata": {
        "id": "bSLsnpA-ooJ6",
        "colab": {
          "base_uri": "https://localhost:8080/"
        },
        "outputId": "ca830c4d-c531-4d07-f88a-365f44e24c79"
      },
      "execution_count": 3,
      "outputs": [
        {
          "output_type": "stream",
          "name": "stdout",
          "text": [
            "6\n",
            "5\n",
            "9\n",
            "1\n",
            "2\n"
          ]
        }
      ]
    },
    {
      "cell_type": "markdown",
      "source": [],
      "metadata": {
        "id": "kOLa4Qg3otqQ"
      }
    },
    {
      "cell_type": "code",
      "source": [
        "for i in range(0,len(lista)):\n",
        "    print(f'Indice {i} Elemento {lista[i]}')"
      ],
      "metadata": {
        "id": "degIxyH6orhx",
        "colab": {
          "base_uri": "https://localhost:8080/"
        },
        "outputId": "6c0f98bc-fd89-4462-b1e9-0c02d8bdcf2a"
      },
      "execution_count": 4,
      "outputs": [
        {
          "output_type": "stream",
          "name": "stdout",
          "text": [
            "Indice 0 Elemento 6\n",
            "Indice 1 Elemento 5\n",
            "Indice 2 Elemento 9\n",
            "Indice 3 Elemento 1\n",
            "Indice 4 Elemento 2\n"
          ]
        }
      ]
    },
    {
      "cell_type": "markdown",
      "source": [
        "## Como ler n inteiros em uma única linha separados por espaço em branco"
      ],
      "metadata": {
        "id": "rghnTExHouhZ"
      }
    },
    {
      "cell_type": "code",
      "source": [
        "lista = input()"
      ],
      "metadata": {
        "colab": {
          "base_uri": "https://localhost:8080/"
        },
        "id": "f484cIzCo3hR",
        "outputId": "bb0b4d2e-c071-46a5-80dc-c99d9d59db53"
      },
      "execution_count": 5,
      "outputs": [
        {
          "name": "stdout",
          "output_type": "stream",
          "text": [
            "6 5 9 1 2\n"
          ]
        }
      ]
    },
    {
      "cell_type": "code",
      "source": [
        "lista = []\n",
        "\n",
        "for elem in input().split():\n",
        "    int_elem = int(elem)\n",
        "    lista.append(int_elem)\n",
        "\n",
        "print('Elementos da Lista')\n",
        "print(lista)"
      ],
      "metadata": {
        "id": "3k9c1Adtq7Aa",
        "colab": {
          "base_uri": "https://localhost:8080/"
        },
        "outputId": "d0655116-c771-4586-8b3e-865129a93c00"
      },
      "execution_count": 6,
      "outputs": [
        {
          "output_type": "stream",
          "name": "stdout",
          "text": [
            "5 6 9 1 2\n",
            "Elementos da Lista\n",
            "[5, 6, 9, 1, 2]\n"
          ]
        }
      ]
    },
    {
      "cell_type": "markdown",
      "source": [
        "Leitura de n valores inteiros em uma única linha separados por espaço branco utilizando compreensão de listas (list comprehension)"
      ],
      "metadata": {
        "id": "hMMC5KG3q8Dh"
      }
    },
    {
      "cell_type": "code",
      "source": [
        "lista = [int(elem) for elem in input().split()]\n",
        "print('Elementos da Lista')\n",
        "print(lista)"
      ],
      "metadata": {
        "id": "tm_MFtAbuKni",
        "colab": {
          "base_uri": "https://localhost:8080/"
        },
        "outputId": "389ef00c-6609-49b9-8c30-1fbca3437dc6"
      },
      "execution_count": 7,
      "outputs": [
        {
          "output_type": "stream",
          "name": "stdout",
          "text": [
            "5 6 9 1 2\n",
            "Elementos da Lista\n",
            "[5, 6, 9, 1, 2]\n"
          ]
        }
      ]
    },
    {
      "cell_type": "markdown",
      "source": [
        "Alterar elementos da lista"
      ],
      "metadata": {
        "id": "x79737B5uMSB"
      }
    },
    {
      "cell_type": "code",
      "source": [
        "lista = [7,3,9,10,-1,4]\n",
        "print(lista)\n",
        "\n",
        "lista[2] = 6\n",
        "\n",
        "print(lista)"
      ],
      "metadata": {
        "id": "TKunOofWuNkD",
        "colab": {
          "base_uri": "https://localhost:8080/"
        },
        "outputId": "4ee60b97-26e4-43b1-a4d5-6544e4577114"
      },
      "execution_count": 8,
      "outputs": [
        {
          "output_type": "stream",
          "name": "stdout",
          "text": [
            "[7, 3, 9, 10, -1, 4]\n",
            "[7, 3, 6, 10, -1, 4]\n"
          ]
        }
      ]
    },
    {
      "cell_type": "markdown",
      "source": [
        "## Busca Sequencial em uma Lista"
      ],
      "metadata": {
        "id": "IS7VCJ7vuPeh"
      }
    },
    {
      "cell_type": "code",
      "source": [
        "def buscaElemento(lista,chave):\n",
        "\n",
        "    for elem in lista:\n",
        "        if elem == chave:\n",
        "            return True\n",
        "\n",
        "    return False"
      ],
      "metadata": {
        "id": "hj236N4quQ2a"
      },
      "execution_count": 9,
      "outputs": []
    },
    {
      "cell_type": "code",
      "source": [
        "lista = [7,3,9,10,-1,4]\n",
        "print(lista)\n"
      ],
      "metadata": {
        "id": "nlA5g1O4wPMb",
        "colab": {
          "base_uri": "https://localhost:8080/"
        },
        "outputId": "fc3d8131-0df2-4cc7-ec6f-bd009d34f549"
      },
      "execution_count": 10,
      "outputs": [
        {
          "output_type": "stream",
          "name": "stdout",
          "text": [
            "[7, 3, 9, 10, -1, 4]\n"
          ]
        }
      ]
    },
    {
      "cell_type": "code",
      "source": [
        "key = 4\n",
        "ans = buscaElemento(lista,key)\n",
        "if ans == True:\n",
        "    print(f'Elemento {key} estah na lista')\n",
        "else:\n",
        "    print(f'Elemento {key} NAO estah na lista')"
      ],
      "metadata": {
        "id": "kBX5dV2-wQp5",
        "colab": {
          "base_uri": "https://localhost:8080/"
        },
        "outputId": "b20f7b7a-0ebd-4be8-981e-50c17bef6a4d"
      },
      "execution_count": 11,
      "outputs": [
        {
          "output_type": "stream",
          "name": "stdout",
          "text": [
            "Elemento 4 estah na lista\n"
          ]
        }
      ]
    },
    {
      "cell_type": "code",
      "source": [
        "key = 8\n",
        "ans = buscaElemento(lista,key)\n",
        "if ans == True:\n",
        "    print(f'Elemento {key} estah na lista')\n",
        "else:\n",
        "    print(f'Elemento {key} NAO estah na lista')"
      ],
      "metadata": {
        "id": "2myI5KeFwREB",
        "colab": {
          "base_uri": "https://localhost:8080/"
        },
        "outputId": "341a5dc7-3642-41ce-876e-5e5a76cce3f2"
      },
      "execution_count": 12,
      "outputs": [
        {
          "output_type": "stream",
          "name": "stdout",
          "text": [
            "Elemento 8 NAO estah na lista\n"
          ]
        }
      ]
    },
    {
      "cell_type": "markdown",
      "source": [
        "Jeito mais simples de se fazer uma busca de um elemento em uma lista"
      ],
      "metadata": {
        "id": "PYSGAg_TyMhB"
      }
    },
    {
      "cell_type": "code",
      "source": [
        "if key in lista:\n",
        "    print(f'Elemento {key} estah na lista')\n",
        "else:\n",
        "    print(f'Elemento {key} NAO estah na lista')"
      ],
      "metadata": {
        "id": "AJKznfvKyMBq",
        "colab": {
          "base_uri": "https://localhost:8080/"
        },
        "outputId": "0e3d0d3d-c68b-4034-9906-01e6ed2a0f38"
      },
      "execution_count": 13,
      "outputs": [
        {
          "output_type": "stream",
          "name": "stdout",
          "text": [
            "Elemento 8 NAO estah na lista\n"
          ]
        }
      ]
    },
    {
      "cell_type": "markdown",
      "source": [
        "Implementacao de uma funcao \"find\":"
      ],
      "metadata": {
        "id": "IsYjLSWjx6Hf"
      }
    },
    {
      "cell_type": "code",
      "source": [
        "def buscaElemento(lista,chave):\n",
        "\n",
        "    for i in range(0,len(lista)):\n",
        "        if lista[i] == chave:\n",
        "            return i\n",
        "\n",
        "    return -1  # -1 eh um inteiro que simboliza a falha na busca"
      ],
      "metadata": {
        "id": "5qF43V17x6Mx"
      },
      "execution_count": 14,
      "outputs": []
    },
    {
      "cell_type": "markdown",
      "source": [
        "## Remover um elemento key e todas as suas repeticoes em uma lista"
      ],
      "metadata": {
        "id": "bcOBU9X01FVY"
      }
    },
    {
      "cell_type": "code",
      "source": [
        "lista = [1,3,5,3,6,9,8]\n",
        "key = 3\n",
        "while key in lista:\n",
        "    lista.remove(key)\n",
        "\n",
        "print(lista)"
      ],
      "metadata": {
        "id": "gzDNX9Lq1Kg5",
        "colab": {
          "base_uri": "https://localhost:8080/"
        },
        "outputId": "0144e859-c5f6-4136-fa26-1093856d5313"
      },
      "execution_count": 15,
      "outputs": [
        {
          "output_type": "stream",
          "name": "stdout",
          "text": [
            "[1, 5, 6, 9, 8]\n"
          ]
        }
      ]
    },
    {
      "cell_type": "markdown",
      "source": [
        "Atualizar uma lista removendo todos os números pares dela"
      ],
      "metadata": {
        "id": "gR_sIzbl2xzh"
      }
    },
    {
      "cell_type": "code",
      "source": [
        "def removePares(lista_original):\n",
        "\n",
        "    nova_lista = []\n",
        "\n",
        "    for elem in lista_original:\n",
        "        if elem % 2 != 0:\n",
        "            nova_lista.append(elem)\n",
        "\n",
        "    return nova_lista\n",
        "\n",
        "lista = [7,3,56,78,9,4,1,56,8,4,7,9,4]\n",
        "\n",
        "lista = removePares(lista)\n",
        "\n",
        "print(lista)"
      ],
      "metadata": {
        "id": "NYLysbMy2x6T",
        "colab": {
          "base_uri": "https://localhost:8080/"
        },
        "outputId": "592f5c22-add1-4166-af6d-7d76fb13271f"
      },
      "execution_count": 16,
      "outputs": [
        {
          "output_type": "stream",
          "name": "stdout",
          "text": [
            "[7, 3, 9, 1, 7, 9]\n"
          ]
        }
      ]
    },
    {
      "cell_type": "code",
      "source": [],
      "metadata": {
        "id": "aGJR8Xkb5WFK"
      },
      "execution_count": 16,
      "outputs": []
    }
  ]
}