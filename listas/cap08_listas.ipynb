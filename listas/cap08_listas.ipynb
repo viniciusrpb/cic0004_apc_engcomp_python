{
  "nbformat": 4,
  "nbformat_minor": 0,
  "metadata": {
    "colab": {
      "provenance": [],
      "include_colab_link": true
    },
    "kernelspec": {
      "name": "python3",
      "display_name": "Python 3"
    },
    "language_info": {
      "name": "python"
    }
  },
  "cells": [
    {
      "cell_type": "markdown",
      "metadata": {
        "id": "view-in-github",
        "colab_type": "text"
      },
      "source": [
        "<a href=\"https://colab.research.google.com/github/viniciusrpb/cic0004_apc_turma04/blob/main/listas/cap08_listas.ipynb\" target=\"_parent\"><img src=\"https://colab.research.google.com/assets/colab-badge.svg\" alt=\"Open In Colab\"/></a>"
      ]
    },
    {
      "cell_type": "markdown",
      "source": [
        "#Capítulo 8 - Listas\n",
        "\n",
        "Notas de aula"
      ],
      "metadata": {
        "id": "VFXAhaHLEOKS"
      }
    },
    {
      "cell_type": "markdown",
      "source": [
        "## Como inicializar uma lista?\n",
        "\n",
        "Atribuindo diretamente uma lista de elementos para uma variável:"
      ],
      "metadata": {
        "id": "8PZHnrM8lzNg"
      }
    },
    {
      "cell_type": "code",
      "source": [
        "lista = [6,7,0,2,1]"
      ],
      "metadata": {
        "id": "TeTQakr5ENX5"
      },
      "execution_count": 74,
      "outputs": []
    },
    {
      "cell_type": "markdown",
      "source": [
        "Ou criando uma lista vazia:"
      ],
      "metadata": {
        "id": "uVDICmLPl81A"
      }
    },
    {
      "cell_type": "code",
      "source": [
        "lista = []"
      ],
      "metadata": {
        "id": "fJVX5TwqmH3C"
      },
      "execution_count": 75,
      "outputs": []
    },
    {
      "cell_type": "markdown",
      "source": [
        "**Lembre-se:** em Python, uma lista é referenciada internamente por seu endereço de memória! "
      ],
      "metadata": {
        "id": "4-hpgWgSmLXZ"
      }
    },
    {
      "cell_type": "markdown",
      "source": [
        "## Como acessar cada elemento da lista?\n",
        "\n",
        "Primeiramente, é importante pegar a quantidade de elementos da lista utilizando a função **len**:\n"
      ],
      "metadata": {
        "id": "wgl42KCdEllW"
      }
    },
    {
      "cell_type": "code",
      "source": [
        "n = len(lista)"
      ],
      "metadata": {
        "id": "_kO5uwA-mhYi"
      },
      "execution_count": 76,
      "outputs": []
    },
    {
      "cell_type": "markdown",
      "source": [
        "### Primeira abordagem:"
      ],
      "metadata": {
        "id": "8G8y81mKmf9e"
      }
    },
    {
      "cell_type": "code",
      "source": [
        "for elemento in lista:\n",
        "    print(elemento)"
      ],
      "metadata": {
        "id": "07ze5bR0Ef07"
      },
      "execution_count": 77,
      "outputs": []
    },
    {
      "cell_type": "markdown",
      "source": [
        "### Segunda abordagem: utilizando os laços for ou while"
      ],
      "metadata": {
        "id": "Vg_9LhsZFEBr"
      }
    },
    {
      "cell_type": "code",
      "source": [
        "for i in range(0,n):\n",
        "    print(lista[i])"
      ],
      "metadata": {
        "id": "_Egu8g2BE5hO"
      },
      "execution_count": 78,
      "outputs": []
    },
    {
      "cell_type": "markdown",
      "source": [
        "Utilizando o laço while"
      ],
      "metadata": {
        "id": "XgHnlR3CFFkn"
      }
    },
    {
      "cell_type": "code",
      "source": [
        "i = 0\n",
        "while i < n:\n",
        "    print(lista[i])\n",
        "    i += 1"
      ],
      "metadata": {
        "id": "sFn2VFI1FHAf"
      },
      "execution_count": 79,
      "outputs": []
    },
    {
      "cell_type": "markdown",
      "source": [
        "## Leitura de dados da entrada para uma lista\n",
        "\n",
        "### Leitura de $n$ inteiros separados por espaço em branco em uma **única linha**"
      ],
      "metadata": {
        "id": "NyP-b_R8Fe02"
      }
    },
    {
      "cell_type": "code",
      "source": [
        "lista = [int(x) for x in input().split()]\n",
        "print(lista)"
      ],
      "metadata": {
        "colab": {
          "base_uri": "https://localhost:8080/"
        },
        "id": "SWeClD91FieW",
        "outputId": "8c04c423-43dc-4de4-d6d9-ff7e4545fecb"
      },
      "execution_count": 80,
      "outputs": [
        {
          "output_type": "stream",
          "name": "stdout",
          "text": [
            "5\n",
            "[5]\n"
          ]
        }
      ]
    },
    {
      "cell_type": "markdown",
      "source": [
        "**Obs.:** essa abordagem não depende de um valor inteiro $n$ que é geralmente lido de maneira separada na entrada padrão. Entretanto, em muitos problemas no Beecrowd e Codeforces, é importante ler o valor $n$ para viabilizar a leitura dos próximos dados da entrada"
      ],
      "metadata": {
        "id": "ftSPvDZFmzk6"
      }
    },
    {
      "cell_type": "markdown",
      "source": [
        "### Leitura de $n$ inteiros em várias linhas"
      ],
      "metadata": {
        "id": "zRAhFBhbGlK_"
      }
    },
    {
      "cell_type": "code",
      "source": [
        "n = int(input())\n",
        "lista = []    # a lista inicialmente está vazia\n",
        "\n",
        "for i in range(0,n):\n",
        "    elem = int(input())\n",
        "    lista.append(elem)  # adiciona o elemento\n",
        "                        # no final da lista\n",
        "print(lista)"
      ],
      "metadata": {
        "colab": {
          "base_uri": "https://localhost:8080/"
        },
        "id": "tsXZmZO0Gotv",
        "outputId": "f82430be-9121-4174-e57f-4e11c99ffdb1"
      },
      "execution_count": 81,
      "outputs": [
        {
          "output_type": "stream",
          "name": "stdout",
          "text": [
            "6\n",
            "7\n",
            "2\n",
            "0\n",
            "1\n",
            "3\n",
            "5\n",
            "[7, 2, 0, 1, 3, 5]\n"
          ]
        }
      ]
    },
    {
      "cell_type": "markdown",
      "source": [
        "## Inicializações rápidas de listas\n",
        "\n"
      ],
      "metadata": {
        "id": "qLa4Xnr0H6P8"
      }
    },
    {
      "cell_type": "code",
      "source": [
        "lista = 10*[0]\n",
        "\n",
        "print(lista)"
      ],
      "metadata": {
        "colab": {
          "base_uri": "https://localhost:8080/"
        },
        "id": "MTzLJU1_H8qB",
        "outputId": "ac57ce0a-8c38-4113-f75e-d436017304e3"
      },
      "execution_count": 82,
      "outputs": [
        {
          "output_type": "stream",
          "name": "stdout",
          "text": [
            "[0, 0, 0, 0, 0, 0, 0, 0, 0, 0]\n"
          ]
        }
      ]
    },
    {
      "cell_type": "markdown",
      "source": [
        "## Exercício:\n",
        "\n",
        "Dada uma string da entrada (contendo apenas caracteres latinos minúsculos), determine a frequência de cada caractere nela presente."
      ],
      "metadata": {
        "id": "EDsKMpQDIISt"
      }
    },
    {
      "cell_type": "code",
      "source": [
        "string = input()\n",
        "\n",
        "histograma =26*[0]\n",
        "\n",
        "for caractere in string:\n",
        "    pos = ord(caractere) - 97\n",
        "    histograma[pos] += 1"
      ],
      "metadata": {
        "colab": {
          "base_uri": "https://localhost:8080/"
        },
        "id": "3FVpTxfFISwk",
        "outputId": "9d5182aa-aff5-4431-8e12-9278d657a532"
      },
      "execution_count": 83,
      "outputs": [
        {
          "name": "stdout",
          "output_type": "stream",
          "text": [
            "banana\n"
          ]
        }
      ]
    },
    {
      "cell_type": "code",
      "source": [
        "for i in range(0,26):\n",
        "    caractere = chr(97+i)  # pega o codigo ASCII\n",
        "                           # e converte em caractere\n",
        "    print(f\"'{caractere}': {histograma[i]}\")"
      ],
      "metadata": {
        "colab": {
          "base_uri": "https://localhost:8080/"
        },
        "id": "FuLx0gDxLOh7",
        "outputId": "d850ec07-4bf1-4cdb-c8cc-e0b3d4695835"
      },
      "execution_count": 84,
      "outputs": [
        {
          "output_type": "stream",
          "name": "stdout",
          "text": [
            "'a': 3\n",
            "'b': 1\n",
            "'c': 0\n",
            "'d': 0\n",
            "'e': 0\n",
            "'f': 0\n",
            "'g': 0\n",
            "'h': 0\n",
            "'i': 0\n",
            "'j': 0\n",
            "'k': 0\n",
            "'l': 0\n",
            "'m': 0\n",
            "'n': 2\n",
            "'o': 0\n",
            "'p': 0\n",
            "'q': 0\n",
            "'r': 0\n",
            "'s': 0\n",
            "'t': 0\n",
            "'u': 0\n",
            "'v': 0\n",
            "'w': 0\n",
            "'x': 0\n",
            "'y': 0\n",
            "'z': 0\n"
          ]
        }
      ]
    },
    {
      "cell_type": "markdown",
      "source": [
        "### Fatiamento de listas\n",
        "\n",
        "Na técnica do fatiamento, o resultado sempre **retorna uma nova lista** (novo endereço) contendo os elementos da lista orignal em um intervalo de posições [a,b)"
      ],
      "metadata": {
        "id": "KHeoSim4UWxV"
      }
    },
    {
      "cell_type": "code",
      "source": [
        "lista = [1,2,3,4,5,6,7]"
      ],
      "metadata": {
        "id": "Yo5v7Ql4UWJH"
      },
      "execution_count": 85,
      "outputs": []
    },
    {
      "cell_type": "code",
      "source": [
        "sublista = lista[1:4]\n",
        "print(sublista)"
      ],
      "metadata": {
        "colab": {
          "base_uri": "https://localhost:8080/"
        },
        "id": "7v_dBZMuUagj",
        "outputId": "66db1fbb-c65f-452c-c9fb-def3a5df2b7d"
      },
      "execution_count": 86,
      "outputs": [
        {
          "output_type": "stream",
          "name": "stdout",
          "text": [
            "[2, 3, 4]\n"
          ]
        }
      ]
    },
    {
      "cell_type": "code",
      "source": [
        "sublista = lista[0:5]\n",
        "print(sublista)"
      ],
      "metadata": {
        "colab": {
          "base_uri": "https://localhost:8080/"
        },
        "id": "a9Gf79LXUdeT",
        "outputId": "64808f5c-5a74-4030-ded9-e526cace3966"
      },
      "execution_count": 87,
      "outputs": [
        {
          "output_type": "stream",
          "name": "stdout",
          "text": [
            "[1, 2, 3, 4, 5]\n"
          ]
        }
      ]
    },
    {
      "cell_type": "code",
      "source": [
        "sublista = lista[:-1]\n",
        "print(sublista)"
      ],
      "metadata": {
        "colab": {
          "base_uri": "https://localhost:8080/"
        },
        "id": "pLXQAHBSUis9",
        "outputId": "d57111ef-9523-4422-b904-0dcb460bb3bc"
      },
      "execution_count": 88,
      "outputs": [
        {
          "output_type": "stream",
          "name": "stdout",
          "text": [
            "[1, 2, 3, 4, 5, 6]\n"
          ]
        }
      ]
    },
    {
      "cell_type": "code",
      "source": [
        "sublista = lista[:-2]\n",
        "print(sublista)"
      ],
      "metadata": {
        "colab": {
          "base_uri": "https://localhost:8080/"
        },
        "id": "Onv8WaaXUpph",
        "outputId": "d03b3030-197b-4eb3-8347-508e10206ea9"
      },
      "execution_count": 89,
      "outputs": [
        {
          "output_type": "stream",
          "name": "stdout",
          "text": [
            "[1, 2, 3, 4, 5]\n"
          ]
        }
      ]
    },
    {
      "cell_type": "code",
      "source": [
        "sublista = lista[::-1]\n",
        "print(sublista)"
      ],
      "metadata": {
        "colab": {
          "base_uri": "https://localhost:8080/"
        },
        "id": "QnaIFzKKUsX6",
        "outputId": "7db38110-df05-43b8-8656-f9bcb438f10a"
      },
      "execution_count": 90,
      "outputs": [
        {
          "output_type": "stream",
          "name": "stdout",
          "text": [
            "[7, 6, 5, 4, 3, 2, 1]\n"
          ]
        }
      ]
    },
    {
      "cell_type": "markdown",
      "source": [
        "## Outras funcionalidades úteis\n",
        "\n",
        "Verifica se um elemento está (ou não) em uma lista:"
      ],
      "metadata": {
        "id": "ia3NJy31XbAb"
      }
    },
    {
      "cell_type": "code",
      "source": [
        "lista = [6,3,2,7,1,5,4]\n",
        "\n",
        "elem = int(input())\n",
        "\n",
        "if elem in lista:\n",
        "    print(f'{elem} estah na lista')\n",
        "else:\n",
        "    print(f'{elem} nao estah na lista')"
      ],
      "metadata": {
        "colab": {
          "base_uri": "https://localhost:8080/"
        },
        "id": "yrsBzoDOXcM8",
        "outputId": "bb781b29-25e8-49da-f6c3-272c7a76c7c9"
      },
      "execution_count": 91,
      "outputs": [
        {
          "output_type": "stream",
          "name": "stdout",
          "text": [
            "3\n",
            "3 estah na lista\n"
          ]
        }
      ]
    },
    {
      "cell_type": "code",
      "source": [
        "elem = int(input())\n",
        "\n",
        "if elem not in lista:\n",
        "    print(f'{elem} nao estah na lista')\n",
        "else:\n",
        "    print(f'{elem} estah na lista')"
      ],
      "metadata": {
        "colab": {
          "base_uri": "https://localhost:8080/"
        },
        "id": "NSn7SZQ1oc3g",
        "outputId": "eb21f350-55c5-4b71-8035-80bc5f0ad2bf"
      },
      "execution_count": 92,
      "outputs": [
        {
          "output_type": "stream",
          "name": "stdout",
          "text": [
            "8\n",
            "8 nao estah na lista\n"
          ]
        }
      ]
    },
    {
      "cell_type": "markdown",
      "source": [
        "## Ordenação\n",
        "\n",
        "Por padrão, a ordenação é crescente e comporta os tipos de dados inteiro, real e strings."
      ],
      "metadata": {
        "id": "gfo6ychcXqoY"
      }
    },
    {
      "cell_type": "code",
      "source": [
        "lista.sort()\n",
        "\n",
        "print(lista)"
      ],
      "metadata": {
        "colab": {
          "base_uri": "https://localhost:8080/"
        },
        "id": "dvR9QM5nXsqG",
        "outputId": "b000b897-eb33-4591-c21d-c701b4299fe9"
      },
      "execution_count": 93,
      "outputs": [
        {
          "output_type": "stream",
          "name": "stdout",
          "text": [
            "[1, 2, 3, 4, 5, 6, 7]\n"
          ]
        }
      ]
    },
    {
      "cell_type": "markdown",
      "source": [
        "Ordenação decrescente"
      ],
      "metadata": {
        "id": "kQtMuJJgX9Oa"
      }
    },
    {
      "cell_type": "code",
      "source": [
        "lista.sort(reverse=True)\n",
        "print(lista)"
      ],
      "metadata": {
        "colab": {
          "base_uri": "https://localhost:8080/"
        },
        "id": "bxtKI_UYYAQK",
        "outputId": "f025ea1f-c0d9-44f7-bd0e-d48ccb7f2fed"
      },
      "execution_count": 94,
      "outputs": [
        {
          "output_type": "stream",
          "name": "stdout",
          "text": [
            "[7, 6, 5, 4, 3, 2, 1]\n"
          ]
        }
      ]
    },
    {
      "cell_type": "markdown",
      "source": [
        "Observe que a ordenação altera permanentemente a organização original dos elementos da lista. Com isso, pode ser importante manter um backup antes da ordenação como se segue:"
      ],
      "metadata": {
        "id": "w9FGpPmypDKb"
      }
    },
    {
      "cell_type": "code",
      "source": [
        "lista = [6,3,2,7,1,5,4]\n",
        "\n",
        "backup = []\n",
        "for elem in lista:\n",
        "    backup.append(elem)"
      ],
      "metadata": {
        "id": "T15Cn2RIYNsJ"
      },
      "execution_count": 95,
      "outputs": []
    },
    {
      "cell_type": "code",
      "source": [
        "lista.sort()\n",
        "print(lista)"
      ],
      "metadata": {
        "colab": {
          "base_uri": "https://localhost:8080/"
        },
        "id": "KecOajcjZhoR",
        "outputId": "bb26963f-54eb-48c5-f23e-c6b375613ee7"
      },
      "execution_count": 96,
      "outputs": [
        {
          "output_type": "stream",
          "name": "stdout",
          "text": [
            "[1, 2, 3, 4, 5, 6, 7]\n"
          ]
        }
      ]
    },
    {
      "cell_type": "code",
      "source": [
        "print(backup)"
      ],
      "metadata": {
        "colab": {
          "base_uri": "https://localhost:8080/"
        },
        "id": "sH5NEjz9aKwQ",
        "outputId": "8dc09306-bd93-4247-b70f-17d67c8d5b61"
      },
      "execution_count": 97,
      "outputs": [
        {
          "output_type": "stream",
          "name": "stdout",
          "text": [
            "[6, 3, 2, 7, 1, 5, 4]\n"
          ]
        }
      ]
    },
    {
      "cell_type": "markdown",
      "source": [
        "Ordenação de strings segue o critério lexicográfico conforme a ordem dos caracteres da string na Tabela ASCII:"
      ],
      "metadata": {
        "id": "NrbGJJPrp5qQ"
      }
    },
    {
      "cell_type": "code",
      "source": [
        "nomes = ['Ana','ana','10ana','juarez','Walter']\n",
        "nomes.sort()\n",
        "print(nomes)"
      ],
      "metadata": {
        "colab": {
          "base_uri": "https://localhost:8080/"
        },
        "id": "0vnN3W0FaNiR",
        "outputId": "4af42883-9bcd-4683-b248-8bda1d4fe1c0"
      },
      "execution_count": 98,
      "outputs": [
        {
          "output_type": "stream",
          "name": "stdout",
          "text": [
            "['10ana', 'Ana', 'Walter', 'ana', 'juarez']\n"
          ]
        }
      ]
    },
    {
      "cell_type": "markdown",
      "source": [
        "## Concatenar duas listas\n",
        "\n",
        "Duas estratégias. Criando uma nova lista a partir da junção de duas listas diferentes, utilize o operador \"+\":"
      ],
      "metadata": {
        "id": "RmpWl0Wua2LD"
      }
    },
    {
      "cell_type": "code",
      "source": [
        "list1 = [7,2,5]\n",
        "list2 = [1,1,1]\n",
        "\n",
        "novalista = list1+list2\n",
        "print(novalista)"
      ],
      "metadata": {
        "colab": {
          "base_uri": "https://localhost:8080/"
        },
        "id": "x54Wtc3ca16G",
        "outputId": "91ae5d49-350c-486b-832e-79034f4d8f71"
      },
      "execution_count": 99,
      "outputs": [
        {
          "output_type": "stream",
          "name": "stdout",
          "text": [
            "[7, 2, 5, 1, 1, 1]\n"
          ]
        }
      ]
    },
    {
      "cell_type": "markdown",
      "source": [
        "Concatenar uma lista ao final de outra lista, sem criar uma nova lista, utilize o método \"extend\":"
      ],
      "metadata": {
        "id": "riS94XLnqsSI"
      }
    },
    {
      "cell_type": "code",
      "source": [
        "list1.extend(list2)\n",
        "print(list1)"
      ],
      "metadata": {
        "colab": {
          "base_uri": "https://localhost:8080/"
        },
        "id": "ewf0mLUnbLRd",
        "outputId": "438b1f92-e9b9-426a-8985-294c9a14e6d1"
      },
      "execution_count": 100,
      "outputs": [
        {
          "output_type": "stream",
          "name": "stdout",
          "text": [
            "[7, 2, 5, 1, 1, 1]\n"
          ]
        }
      ]
    },
    {
      "cell_type": "markdown",
      "source": [
        "Observe que o método **extend** não retorna nada!\n",
        "\n",
        "Um **caso falho** é tentar utilizar o método **append** como mostra abaixo:"
      ],
      "metadata": {
        "id": "sEn7q-bBrAmA"
      }
    },
    {
      "cell_type": "code",
      "source": [
        "lista = [1,2,3]\n",
        "lista2 = [4,5]\n",
        "\n",
        "lista.append(lista2)\n",
        "print(lista)"
      ],
      "metadata": {
        "colab": {
          "base_uri": "https://localhost:8080/"
        },
        "id": "19tMeiXGbreB",
        "outputId": "3c41ede4-0953-4e58-fa7f-9f2b26a3b8f7"
      },
      "execution_count": 101,
      "outputs": [
        {
          "output_type": "stream",
          "name": "stdout",
          "text": [
            "[1, 2, 3, [4, 5]]\n"
          ]
        }
      ]
    },
    {
      "cell_type": "code",
      "source": [
        "for elem in lista:\n",
        "    print(elem)"
      ],
      "metadata": {
        "colab": {
          "base_uri": "https://localhost:8080/"
        },
        "id": "A7-z4hNNcEif",
        "outputId": "2df4155d-5660-45a1-bed1-12d8ec8addd7"
      },
      "execution_count": 102,
      "outputs": [
        {
          "output_type": "stream",
          "name": "stdout",
          "text": [
            "1\n",
            "2\n",
            "3\n",
            "[4, 5]\n"
          ]
        }
      ]
    },
    {
      "cell_type": "markdown",
      "source": [
        "Nesse caso, a lista2 será considerada como sendo um elemento de lista1."
      ],
      "metadata": {
        "id": "H79QECMDrTPt"
      }
    }
  ]
}