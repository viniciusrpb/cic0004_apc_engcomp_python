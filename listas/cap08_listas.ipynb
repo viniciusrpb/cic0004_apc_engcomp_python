{
  "nbformat": 4,
  "nbformat_minor": 0,
  "metadata": {
    "colab": {
      "provenance": [],
      "include_colab_link": true
    },
    "kernelspec": {
      "name": "python3",
      "display_name": "Python 3"
    },
    "language_info": {
      "name": "python"
    }
  },
  "cells": [
    {
      "cell_type": "markdown",
      "metadata": {
        "id": "view-in-github",
        "colab_type": "text"
      },
      "source": [
        "<a href=\"https://colab.research.google.com/github/viniciusrpb/cic0004_apc_turma04/blob/main/listas/cap08_listas.ipynb\" target=\"_parent\"><img src=\"https://colab.research.google.com/assets/colab-badge.svg\" alt=\"Open In Colab\"/></a>"
      ]
    },
    {
      "cell_type": "markdown",
      "source": [
        "#Capítulo 8 - Listas\n",
        "\n",
        "Notas de aula"
      ],
      "metadata": {
        "id": "VFXAhaHLEOKS"
      }
    },
    {
      "cell_type": "markdown",
      "source": [
        "## Como inicializar uma lista?\n",
        "\n",
        "Atribuindo diretamente uma lista de elementos para uma variável:"
      ],
      "metadata": {
        "id": "8PZHnrM8lzNg"
      }
    },
    {
      "cell_type": "code",
      "source": [
        "lista = [6,7,0,2,1]"
      ],
      "metadata": {
        "id": "TeTQakr5ENX5"
      },
      "execution_count": 1,
      "outputs": []
    },
    {
      "cell_type": "markdown",
      "source": [
        "Ou criando uma lista vazia:"
      ],
      "metadata": {
        "id": "uVDICmLPl81A"
      }
    },
    {
      "cell_type": "code",
      "source": [
        "lista = []"
      ],
      "metadata": {
        "id": "fJVX5TwqmH3C"
      },
      "execution_count": 2,
      "outputs": []
    },
    {
      "cell_type": "markdown",
      "source": [
        "**Lembre-se:** em Python, uma lista é referenciada internamente por seu endereço de memória! "
      ],
      "metadata": {
        "id": "4-hpgWgSmLXZ"
      }
    },
    {
      "cell_type": "markdown",
      "source": [
        "## Como acessar cada elemento da lista?\n",
        "\n",
        "Primeiramente, é importante pegar a quantidade de elementos da lista utilizando a função **len**:\n"
      ],
      "metadata": {
        "id": "wgl42KCdEllW"
      }
    },
    {
      "cell_type": "code",
      "source": [
        "n = len(lista)"
      ],
      "metadata": {
        "id": "_kO5uwA-mhYi"
      },
      "execution_count": 3,
      "outputs": []
    },
    {
      "cell_type": "markdown",
      "source": [
        "### Primeira abordagem:"
      ],
      "metadata": {
        "id": "8G8y81mKmf9e"
      }
    },
    {
      "cell_type": "code",
      "source": [
        "for elemento in lista:\n",
        "    print(elemento)"
      ],
      "metadata": {
        "id": "07ze5bR0Ef07"
      },
      "execution_count": 4,
      "outputs": []
    },
    {
      "cell_type": "markdown",
      "source": [
        "### Segunda abordagem: utilizando os laços for ou while"
      ],
      "metadata": {
        "id": "Vg_9LhsZFEBr"
      }
    },
    {
      "cell_type": "code",
      "source": [
        "for i in range(0,n):\n",
        "    print(lista[i])"
      ],
      "metadata": {
        "id": "_Egu8g2BE5hO"
      },
      "execution_count": 5,
      "outputs": []
    },
    {
      "cell_type": "markdown",
      "source": [
        "Utilizando o laço while"
      ],
      "metadata": {
        "id": "XgHnlR3CFFkn"
      }
    },
    {
      "cell_type": "code",
      "source": [
        "i = 0\n",
        "while i < n:\n",
        "    print(lista[i])\n",
        "    i += 1"
      ],
      "metadata": {
        "id": "sFn2VFI1FHAf"
      },
      "execution_count": 6,
      "outputs": []
    },
    {
      "cell_type": "markdown",
      "source": [
        "## Leitura de dados da entrada para uma lista\n",
        "\n",
        "### Leitura de $n$ inteiros separados por espaço em branco em uma **única linha**\n",
        "\n",
        "A técnica abaixo é conhecida como compreensão de listas:"
      ],
      "metadata": {
        "id": "NyP-b_R8Fe02"
      }
    },
    {
      "cell_type": "code",
      "source": [
        "lista = [int(x) for x in input().split()]\n",
        "print(lista)"
      ],
      "metadata": {
        "colab": {
          "base_uri": "https://localhost:8080/"
        },
        "id": "SWeClD91FieW",
        "outputId": "cd2393c6-c5b0-4207-cd3f-7ec8b7cad928"
      },
      "execution_count": 7,
      "outputs": [
        {
          "output_type": "stream",
          "name": "stdout",
          "text": [
            " 6 7 1 2 0\n",
            "[6, 7, 1, 2, 0]\n"
          ]
        }
      ]
    },
    {
      "cell_type": "markdown",
      "source": [
        "**Obs.:** essa abordagem não depende de um valor inteiro $n$ que é geralmente lido de maneira separada na entrada padrão. Entretanto, em muitos problemas no Beecrowd e Codeforces, é importante ler o valor $n$ para viabilizar a leitura dos próximos dados da entrada"
      ],
      "metadata": {
        "id": "ftSPvDZFmzk6"
      }
    },
    {
      "cell_type": "markdown",
      "source": [
        "### Leitura de $n$ inteiros em várias linhas"
      ],
      "metadata": {
        "id": "zRAhFBhbGlK_"
      }
    },
    {
      "cell_type": "code",
      "source": [
        "n = int(input())\n",
        "lista = []    # a lista inicialmente está vazia\n",
        "\n",
        "for i in range(0,n):\n",
        "    elem = int(input())\n",
        "    lista.append(elem)  # adiciona o elemento\n",
        "                        # no final da lista\n",
        "print(lista)"
      ],
      "metadata": {
        "id": "tsXZmZO0Gotv",
        "colab": {
          "base_uri": "https://localhost:8080/"
        },
        "outputId": "188f8c1c-1263-41af-d3e0-6203834a4f2e"
      },
      "execution_count": 8,
      "outputs": [
        {
          "output_type": "stream",
          "name": "stdout",
          "text": [
            "5\n",
            "6\n",
            "7\n",
            "2\n",
            "0\n",
            "1\n",
            "[6, 7, 2, 0, 1]\n"
          ]
        }
      ]
    },
    {
      "cell_type": "markdown",
      "source": [
        "## Inicializações rápidas de listas\n",
        "\n"
      ],
      "metadata": {
        "id": "qLa4Xnr0H6P8"
      }
    },
    {
      "cell_type": "code",
      "source": [
        "lista = 10*[0]\n",
        "\n",
        "print(lista)"
      ],
      "metadata": {
        "id": "MTzLJU1_H8qB",
        "colab": {
          "base_uri": "https://localhost:8080/"
        },
        "outputId": "0ef2a234-c505-4aa7-f180-152567e156ca"
      },
      "execution_count": 9,
      "outputs": [
        {
          "output_type": "stream",
          "name": "stdout",
          "text": [
            "[0, 0, 0, 0, 0, 0, 0, 0, 0, 0]\n"
          ]
        }
      ]
    },
    {
      "cell_type": "markdown",
      "source": [
        "## Atribuição de listas\n",
        "\n",
        "Muito cuidado ao atribuir listas como se segue:"
      ],
      "metadata": {
        "id": "E8Idq-Tbr1qr"
      }
    },
    {
      "cell_type": "code",
      "source": [
        "lista = [6,7,2,0,1]\n",
        "\n",
        "lista2 = lista\n"
      ],
      "metadata": {
        "id": "CuKlGpwCr6kW"
      },
      "execution_count": 10,
      "outputs": []
    },
    {
      "cell_type": "markdown",
      "source": [
        "Lista:"
      ],
      "metadata": {
        "id": "fCW4euRlsAqd"
      }
    },
    {
      "cell_type": "code",
      "source": [
        "print(lista)"
      ],
      "metadata": {
        "id": "Ixe072UKsA41",
        "colab": {
          "base_uri": "https://localhost:8080/"
        },
        "outputId": "a4e3b4f9-011f-4e8c-cfa6-5eaeda3984b1"
      },
      "execution_count": 11,
      "outputs": [
        {
          "output_type": "stream",
          "name": "stdout",
          "text": [
            "[6, 7, 2, 0, 1]\n"
          ]
        }
      ]
    },
    {
      "cell_type": "markdown",
      "source": [
        "Lista 2:"
      ],
      "metadata": {
        "id": "cU4OHNT-sBAl"
      }
    },
    {
      "cell_type": "code",
      "source": [
        "print(lista2)"
      ],
      "metadata": {
        "id": "XmfNXmfnsBH2",
        "colab": {
          "base_uri": "https://localhost:8080/"
        },
        "outputId": "df9f75f1-f2d6-460a-dfee-f53107ba5f22"
      },
      "execution_count": 12,
      "outputs": [
        {
          "output_type": "stream",
          "name": "stdout",
          "text": [
            "[6, 7, 2, 0, 1]\n"
          ]
        }
      ]
    },
    {
      "cell_type": "markdown",
      "source": [
        "Se alterarmos um elemento de lista, veja o que ocorre:"
      ],
      "metadata": {
        "id": "RXoN8NSMsGrN"
      }
    },
    {
      "cell_type": "code",
      "source": [
        "lista[2] = 4\n",
        "print(lista)"
      ],
      "metadata": {
        "id": "0d6U4jOcsKqN",
        "colab": {
          "base_uri": "https://localhost:8080/"
        },
        "outputId": "219ddd28-793f-4cd9-ad5e-5fe85f797c23"
      },
      "execution_count": 13,
      "outputs": [
        {
          "output_type": "stream",
          "name": "stdout",
          "text": [
            "[6, 7, 4, 0, 1]\n"
          ]
        }
      ]
    },
    {
      "cell_type": "markdown",
      "source": [
        "isso refletirá na lista2, pois a atribuição diz que lista2 recebe o endereço de lista:"
      ],
      "metadata": {
        "id": "dkQW3DWpsOh1"
      }
    },
    {
      "cell_type": "code",
      "source": [
        "print(lista2)"
      ],
      "metadata": {
        "id": "l4yN7vgusKwU",
        "colab": {
          "base_uri": "https://localhost:8080/"
        },
        "outputId": "a8d77f02-2885-470d-a9d1-11ce8274f2a3"
      },
      "execution_count": 14,
      "outputs": [
        {
          "output_type": "stream",
          "name": "stdout",
          "text": [
            "[6, 7, 4, 0, 1]\n"
          ]
        }
      ]
    },
    {
      "cell_type": "markdown",
      "source": [
        "Para evitar esse problema, crie uma nova lista contendo os mesmos elementos da lista original como se segue:"
      ],
      "metadata": {
        "id": "sSBS-WgUsVie"
      }
    },
    {
      "cell_type": "code",
      "source": [
        "lista = [6,3,2,7,1,5,4]\n",
        "\n",
        "backup = []\n",
        "for elem in lista:\n",
        "    backup.append(elem)"
      ],
      "metadata": {
        "id": "MdgLzKO4ytPE"
      },
      "execution_count": 15,
      "outputs": []
    },
    {
      "cell_type": "code",
      "source": [
        "lista[2] = 15"
      ],
      "metadata": {
        "id": "TuWYKkORy8r9"
      },
      "execution_count": 16,
      "outputs": []
    },
    {
      "cell_type": "code",
      "source": [
        "print(lista)"
      ],
      "metadata": {
        "id": "FyznmINezAMX",
        "colab": {
          "base_uri": "https://localhost:8080/"
        },
        "outputId": "0f68f23d-2bdc-418c-91e7-c8d93cb3052f"
      },
      "execution_count": 17,
      "outputs": [
        {
          "output_type": "stream",
          "name": "stdout",
          "text": [
            "[6, 3, 15, 7, 1, 5, 4]\n"
          ]
        }
      ]
    },
    {
      "cell_type": "code",
      "source": [
        "print(backup)"
      ],
      "metadata": {
        "id": "j2gAJ4gCzBPr",
        "colab": {
          "base_uri": "https://localhost:8080/"
        },
        "outputId": "0776b3ad-3f14-4ba9-a699-4d85dc9a4e56"
      },
      "execution_count": 18,
      "outputs": [
        {
          "output_type": "stream",
          "name": "stdout",
          "text": [
            "[6, 3, 2, 7, 1, 5, 4]\n"
          ]
        }
      ]
    },
    {
      "cell_type": "markdown",
      "source": [
        "## Exercício:\n",
        "\n",
        "Dada uma string da entrada (contendo apenas caracteres latinos minúsculos), determine a frequência de cada caractere nela presente."
      ],
      "metadata": {
        "id": "EDsKMpQDIISt"
      }
    },
    {
      "cell_type": "code",
      "source": [
        "string = input()\n",
        "\n",
        "histograma =26*[0]\n",
        "\n",
        "for caractere in string:\n",
        "    pos = ord(caractere) - 97\n",
        "    histograma[pos] += 1"
      ],
      "metadata": {
        "id": "3FVpTxfFISwk",
        "colab": {
          "base_uri": "https://localhost:8080/"
        },
        "outputId": "9f16e892-1d5e-4542-b3d5-15a78fed5f94"
      },
      "execution_count": 19,
      "outputs": [
        {
          "name": "stdout",
          "output_type": "stream",
          "text": [
            "banana\n"
          ]
        }
      ]
    },
    {
      "cell_type": "code",
      "source": [
        "for i in range(0,26):\n",
        "    caractere = chr(97+i)  # pega o codigo ASCII\n",
        "                           # e converte em caractere\n",
        "    print(f\"'{caractere}': {histograma[i]}\")"
      ],
      "metadata": {
        "id": "FuLx0gDxLOh7",
        "colab": {
          "base_uri": "https://localhost:8080/"
        },
        "outputId": "f950c668-a047-4067-cd14-b7e16b5b3112"
      },
      "execution_count": 20,
      "outputs": [
        {
          "output_type": "stream",
          "name": "stdout",
          "text": [
            "'a': 3\n",
            "'b': 1\n",
            "'c': 0\n",
            "'d': 0\n",
            "'e': 0\n",
            "'f': 0\n",
            "'g': 0\n",
            "'h': 0\n",
            "'i': 0\n",
            "'j': 0\n",
            "'k': 0\n",
            "'l': 0\n",
            "'m': 0\n",
            "'n': 2\n",
            "'o': 0\n",
            "'p': 0\n",
            "'q': 0\n",
            "'r': 0\n",
            "'s': 0\n",
            "'t': 0\n",
            "'u': 0\n",
            "'v': 0\n",
            "'w': 0\n",
            "'x': 0\n",
            "'y': 0\n",
            "'z': 0\n"
          ]
        }
      ]
    },
    {
      "cell_type": "markdown",
      "source": [
        "### Fatiamento de listas\n",
        "\n",
        "Na técnica do fatiamento, o resultado sempre **retorna uma nova lista** (novo endereço) contendo os elementos da lista orignal em um intervalo de posições [a,b)"
      ],
      "metadata": {
        "id": "KHeoSim4UWxV"
      }
    },
    {
      "cell_type": "code",
      "source": [
        "lista = [1,2,3,4,5,6,7]"
      ],
      "metadata": {
        "id": "Yo5v7Ql4UWJH"
      },
      "execution_count": 21,
      "outputs": []
    },
    {
      "cell_type": "code",
      "source": [
        "sublista = lista[1:4]\n",
        "print(sublista)"
      ],
      "metadata": {
        "id": "7v_dBZMuUagj",
        "colab": {
          "base_uri": "https://localhost:8080/"
        },
        "outputId": "5aab3502-add7-4e15-8f5b-1c3a6f5ec9ca"
      },
      "execution_count": 22,
      "outputs": [
        {
          "output_type": "stream",
          "name": "stdout",
          "text": [
            "[2, 3, 4]\n"
          ]
        }
      ]
    },
    {
      "cell_type": "code",
      "source": [
        "sublista = lista[0:5]\n",
        "print(sublista)"
      ],
      "metadata": {
        "id": "a9Gf79LXUdeT",
        "colab": {
          "base_uri": "https://localhost:8080/"
        },
        "outputId": "c3970c99-9c50-46b9-db6a-1f5b530d6066"
      },
      "execution_count": 23,
      "outputs": [
        {
          "output_type": "stream",
          "name": "stdout",
          "text": [
            "[1, 2, 3, 4, 5]\n"
          ]
        }
      ]
    },
    {
      "cell_type": "code",
      "source": [
        "sublista = lista[:-1]\n",
        "print(sublista)"
      ],
      "metadata": {
        "id": "pLXQAHBSUis9",
        "colab": {
          "base_uri": "https://localhost:8080/"
        },
        "outputId": "c7c71f7e-bafa-4c1d-8d3d-ffcd00b4ffb7"
      },
      "execution_count": 24,
      "outputs": [
        {
          "output_type": "stream",
          "name": "stdout",
          "text": [
            "[1, 2, 3, 4, 5, 6]\n"
          ]
        }
      ]
    },
    {
      "cell_type": "code",
      "source": [
        "sublista = lista[:-2]\n",
        "print(sublista)"
      ],
      "metadata": {
        "id": "Onv8WaaXUpph",
        "colab": {
          "base_uri": "https://localhost:8080/"
        },
        "outputId": "cffad34b-c501-4953-e8e1-7c75567a04ff"
      },
      "execution_count": 25,
      "outputs": [
        {
          "output_type": "stream",
          "name": "stdout",
          "text": [
            "[1, 2, 3, 4, 5]\n"
          ]
        }
      ]
    },
    {
      "cell_type": "code",
      "source": [
        "sublista = lista[::-1]\n",
        "print(sublista)"
      ],
      "metadata": {
        "id": "QnaIFzKKUsX6",
        "colab": {
          "base_uri": "https://localhost:8080/"
        },
        "outputId": "231e5f8d-1ef9-4445-c368-c329357b5e1c"
      },
      "execution_count": 26,
      "outputs": [
        {
          "output_type": "stream",
          "name": "stdout",
          "text": [
            "[7, 6, 5, 4, 3, 2, 1]\n"
          ]
        }
      ]
    },
    {
      "cell_type": "markdown",
      "source": [
        "## Outras funcionalidades úteis\n",
        "\n",
        "Verifica se um elemento está (ou não) em uma lista:"
      ],
      "metadata": {
        "id": "ia3NJy31XbAb"
      }
    },
    {
      "cell_type": "code",
      "source": [
        "lista = [6,3,2,7,1,5,4]\n",
        "\n",
        "elem = int(input())\n",
        "\n",
        "if elem in lista:\n",
        "    print(f'{elem} estah na lista')\n",
        "else:\n",
        "    print(f'{elem} nao estah na lista')"
      ],
      "metadata": {
        "id": "yrsBzoDOXcM8",
        "colab": {
          "base_uri": "https://localhost:8080/"
        },
        "outputId": "eb84afd9-3d82-4737-c81a-2e51ae6dda32"
      },
      "execution_count": 27,
      "outputs": [
        {
          "output_type": "stream",
          "name": "stdout",
          "text": [
            "3\n",
            "3 estah na lista\n"
          ]
        }
      ]
    },
    {
      "cell_type": "code",
      "source": [
        "elem = int(input())\n",
        "\n",
        "if elem not in lista:\n",
        "    print(f'{elem} nao estah na lista')\n",
        "else:\n",
        "    print(f'{elem} estah na lista')"
      ],
      "metadata": {
        "id": "NSn7SZQ1oc3g",
        "colab": {
          "base_uri": "https://localhost:8080/"
        },
        "outputId": "a2e660fb-8011-4a83-a8f3-9b543344aacd"
      },
      "execution_count": 28,
      "outputs": [
        {
          "output_type": "stream",
          "name": "stdout",
          "text": [
            "8\n",
            "8 nao estah na lista\n"
          ]
        }
      ]
    },
    {
      "cell_type": "markdown",
      "source": [
        "## Ordenação\n",
        "\n",
        "Por padrão, a ordenação é crescente e comporta os tipos de dados inteiro, real e strings."
      ],
      "metadata": {
        "id": "gfo6ychcXqoY"
      }
    },
    {
      "cell_type": "code",
      "source": [
        "lista.sort()\n",
        "\n",
        "print(lista)"
      ],
      "metadata": {
        "id": "dvR9QM5nXsqG",
        "colab": {
          "base_uri": "https://localhost:8080/"
        },
        "outputId": "f5449daa-7961-4946-854b-c4bdec2154a1"
      },
      "execution_count": 29,
      "outputs": [
        {
          "output_type": "stream",
          "name": "stdout",
          "text": [
            "[1, 2, 3, 4, 5, 6, 7]\n"
          ]
        }
      ]
    },
    {
      "cell_type": "markdown",
      "source": [
        "Ordenação decrescente"
      ],
      "metadata": {
        "id": "kQtMuJJgX9Oa"
      }
    },
    {
      "cell_type": "code",
      "source": [
        "lista.sort(reverse=True)\n",
        "print(lista)"
      ],
      "metadata": {
        "id": "bxtKI_UYYAQK",
        "colab": {
          "base_uri": "https://localhost:8080/"
        },
        "outputId": "3385477c-0e4e-4a7e-fd51-0e09d78598b8"
      },
      "execution_count": 30,
      "outputs": [
        {
          "output_type": "stream",
          "name": "stdout",
          "text": [
            "[7, 6, 5, 4, 3, 2, 1]\n"
          ]
        }
      ]
    },
    {
      "cell_type": "markdown",
      "source": [
        "Observe que a ordenação altera permanentemente a organização original dos elementos da lista. Com isso, pode ser importante manter um backup antes da ordenação como se segue:"
      ],
      "metadata": {
        "id": "w9FGpPmypDKb"
      }
    },
    {
      "cell_type": "code",
      "source": [
        "lista = [6,3,2,7,1,5,4]\n",
        "\n",
        "backup = []\n",
        "for elem in lista:\n",
        "    backup.append(elem)"
      ],
      "metadata": {
        "id": "T15Cn2RIYNsJ"
      },
      "execution_count": 31,
      "outputs": []
    },
    {
      "cell_type": "code",
      "source": [
        "lista.sort()\n",
        "print(lista)"
      ],
      "metadata": {
        "id": "KecOajcjZhoR",
        "colab": {
          "base_uri": "https://localhost:8080/"
        },
        "outputId": "2a952238-ffd8-4985-f1a3-52c4ff73efc5"
      },
      "execution_count": 32,
      "outputs": [
        {
          "output_type": "stream",
          "name": "stdout",
          "text": [
            "[1, 2, 3, 4, 5, 6, 7]\n"
          ]
        }
      ]
    },
    {
      "cell_type": "code",
      "source": [
        "print(backup)"
      ],
      "metadata": {
        "id": "sH5NEjz9aKwQ",
        "colab": {
          "base_uri": "https://localhost:8080/"
        },
        "outputId": "16073c82-8156-4159-b48d-dbf90c0daaa9"
      },
      "execution_count": 33,
      "outputs": [
        {
          "output_type": "stream",
          "name": "stdout",
          "text": [
            "[6, 3, 2, 7, 1, 5, 4]\n"
          ]
        }
      ]
    },
    {
      "cell_type": "markdown",
      "source": [
        "Ordenação de strings segue o critério lexicográfico conforme a ordem dos caracteres da string na Tabela ASCII:"
      ],
      "metadata": {
        "id": "NrbGJJPrp5qQ"
      }
    },
    {
      "cell_type": "code",
      "source": [
        "nomes = ['Ana','ana','10ana','juarez','Walter']\n",
        "nomes.sort()\n",
        "print(nomes)"
      ],
      "metadata": {
        "id": "0vnN3W0FaNiR",
        "colab": {
          "base_uri": "https://localhost:8080/"
        },
        "outputId": "cb481d50-d813-4d21-dd8b-9bac9df9debe"
      },
      "execution_count": 34,
      "outputs": [
        {
          "output_type": "stream",
          "name": "stdout",
          "text": [
            "['10ana', 'Ana', 'Walter', 'ana', 'juarez']\n"
          ]
        }
      ]
    },
    {
      "cell_type": "markdown",
      "source": [
        "## Concatenar duas listas\n",
        "\n",
        "Duas estratégias. Criando uma nova lista a partir da junção de duas listas diferentes, utilize o operador \"+\":"
      ],
      "metadata": {
        "id": "RmpWl0Wua2LD"
      }
    },
    {
      "cell_type": "code",
      "source": [
        "list1 = [7,2,5]\n",
        "list2 = [1,1,1]\n",
        "\n",
        "novalista = list1+list2\n",
        "print(novalista)"
      ],
      "metadata": {
        "id": "x54Wtc3ca16G",
        "colab": {
          "base_uri": "https://localhost:8080/"
        },
        "outputId": "3940cbe3-bd5c-4d3c-f68f-2794fe1a7e5a"
      },
      "execution_count": 35,
      "outputs": [
        {
          "output_type": "stream",
          "name": "stdout",
          "text": [
            "[7, 2, 5, 1, 1, 1]\n"
          ]
        }
      ]
    },
    {
      "cell_type": "markdown",
      "source": [
        "Concatenar uma lista ao final de outra lista, sem criar uma nova lista, utilize o método \"extend\":"
      ],
      "metadata": {
        "id": "riS94XLnqsSI"
      }
    },
    {
      "cell_type": "code",
      "source": [
        "list1.extend(list2)\n",
        "print(list1)"
      ],
      "metadata": {
        "id": "ewf0mLUnbLRd",
        "colab": {
          "base_uri": "https://localhost:8080/"
        },
        "outputId": "9d3af02c-e3c1-43ab-b6dc-01f87a1119c1"
      },
      "execution_count": 36,
      "outputs": [
        {
          "output_type": "stream",
          "name": "stdout",
          "text": [
            "[7, 2, 5, 1, 1, 1]\n"
          ]
        }
      ]
    },
    {
      "cell_type": "markdown",
      "source": [
        "Observe que o método **extend** não retorna nada!\n",
        "\n",
        "Um **caso falho** é tentar utilizar o método **append** como mostra abaixo:"
      ],
      "metadata": {
        "id": "sEn7q-bBrAmA"
      }
    },
    {
      "cell_type": "code",
      "source": [
        "lista = [1,2,3]\n",
        "lista2 = [4,5]\n",
        "\n",
        "lista.append(lista2)\n",
        "print(lista)"
      ],
      "metadata": {
        "id": "19tMeiXGbreB",
        "colab": {
          "base_uri": "https://localhost:8080/"
        },
        "outputId": "a6f1fcc8-ef36-41f0-a0b1-4b7f253793a0"
      },
      "execution_count": 37,
      "outputs": [
        {
          "output_type": "stream",
          "name": "stdout",
          "text": [
            "[1, 2, 3, [4, 5]]\n"
          ]
        }
      ]
    },
    {
      "cell_type": "code",
      "source": [
        "for elem in lista:\n",
        "    print(elem)"
      ],
      "metadata": {
        "id": "A7-z4hNNcEif",
        "colab": {
          "base_uri": "https://localhost:8080/"
        },
        "outputId": "00487aeb-dab5-4a67-b842-a55cdac07b1d"
      },
      "execution_count": 38,
      "outputs": [
        {
          "output_type": "stream",
          "name": "stdout",
          "text": [
            "1\n",
            "2\n",
            "3\n",
            "[4, 5]\n"
          ]
        }
      ]
    },
    {
      "cell_type": "markdown",
      "source": [
        "Nesse caso, a lista2 será considerada como sendo um elemento de lista1."
      ],
      "metadata": {
        "id": "H79QECMDrTPt"
      }
    },
    {
      "cell_type": "markdown",
      "source": [
        "## Matrizes"
      ],
      "metadata": {
        "id": "B16RYDP36BL5"
      }
    },
    {
      "cell_type": "code",
      "source": [
        "matriz = []\n",
        "\n",
        "lista = [1,2,3]\n",
        "lista2 = [4,5,6]\n",
        "lista3 = [7,8,9]\n",
        "\n",
        "matriz.append(lista)\n",
        "matriz.append(lista2)\n",
        "matriz.append(lista3)\n",
        "\n",
        "print(matriz)"
      ],
      "metadata": {
        "colab": {
          "base_uri": "https://localhost:8080/"
        },
        "id": "XR_3CcZi5_15",
        "outputId": "f9a3886c-be0b-43bc-9366-4cb921532e22"
      },
      "execution_count": 39,
      "outputs": [
        {
          "output_type": "stream",
          "name": "stdout",
          "text": [
            "[[1, 2, 3], [4, 5, 6], [7, 8, 9]]\n"
          ]
        }
      ]
    },
    {
      "cell_type": "code",
      "source": [
        "print(f'Elemento na linha {1} coluna {2} = {matriz[1][2]}')"
      ],
      "metadata": {
        "colab": {
          "base_uri": "https://localhost:8080/"
        },
        "id": "xqveJEOn777I",
        "outputId": "65c1cc68-d6a5-41fe-a9ba-30b349a449df"
      },
      "execution_count": 40,
      "outputs": [
        {
          "output_type": "stream",
          "name": "stdout",
          "text": [
            "Elemento na linha 1 coluna 2 = 6\n"
          ]
        }
      ]
    },
    {
      "cell_type": "code",
      "source": [
        "n = 3\n",
        "m = 3\n",
        "\n",
        "linha = ''\n",
        "for i in range(0,n):\n",
        "\n",
        "    for j in range(0,m):\n",
        "\n",
        "        linha+=str(matriz[i][j])+\" \"\n",
        "    linha=linha[:-1]+\"\\n\"\n",
        "\n",
        "print(linha)"
      ],
      "metadata": {
        "colab": {
          "base_uri": "https://localhost:8080/"
        },
        "id": "ULuvvEq38RdA",
        "outputId": "34a988ae-b4d3-49e7-ba28-ecebba5cac21"
      },
      "execution_count": 41,
      "outputs": [
        {
          "output_type": "stream",
          "name": "stdout",
          "text": [
            "1 2 3\n",
            "4 5 6\n",
            "7 8 9\n",
            "\n"
          ]
        }
      ]
    },
    {
      "cell_type": "markdown",
      "source": [
        "### Leitura de Matriz da Entrada Padrão\n",
        "\n",
        "Uma matriz contendo $n$ linhas e $m$ colunas pode ser lida da seguinte maneira:"
      ],
      "metadata": {
        "id": "peRnisEs-Y6X"
      }
    },
    {
      "cell_type": "code",
      "source": [
        "n, m = (int(x) for x in input().split())\n",
        "\n",
        "matriz = []\n",
        "\n",
        "for i in range(0,n):\n",
        "    linha = [int(x) for x in input().split()]\n",
        "    matriz.append(linha)"
      ],
      "metadata": {
        "colab": {
          "base_uri": "https://localhost:8080/"
        },
        "id": "g7Aq5O_t-FG-",
        "outputId": "7434b0f2-0a5d-4e5f-86af-7ee590341254"
      },
      "execution_count": 45,
      "outputs": [
        {
          "name": "stdout",
          "output_type": "stream",
          "text": [
            "3 3\n",
            "1 2 3\n",
            "4 5 6\n",
            "7 8 9\n"
          ]
        }
      ]
    },
    {
      "cell_type": "code",
      "source": [
        "print(matriz)"
      ],
      "metadata": {
        "colab": {
          "base_uri": "https://localhost:8080/"
        },
        "id": "XxtOBARd_Bif",
        "outputId": "b08d8ff1-8831-4319-cfde-05057f2edd65"
      },
      "execution_count": 43,
      "outputs": [
        {
          "output_type": "stream",
          "name": "stdout",
          "text": [
            "[[1, 2, 3], [4, 5, 6], [7, 8, 9]]\n"
          ]
        }
      ]
    },
    {
      "cell_type": "markdown",
      "source": [
        "A leitura de uma matriz utilizando compreensão de listas é feita de maneira aninhada:"
      ],
      "metadata": {
        "id": "mbkWr-9V-Ybj"
      }
    },
    {
      "cell_type": "code",
      "source": [
        "n, m = (int(x) for x in input().split())\n",
        "\n",
        "matriz2 = [ [int(x) for x in input().split()] for y in range(0,n)]"
      ],
      "metadata": {
        "colab": {
          "base_uri": "https://localhost:8080/"
        },
        "id": "6AwfBUaa_Fxx",
        "outputId": "da7d6f93-cc9f-46e4-ec99-87ca7b40cb29"
      },
      "execution_count": 47,
      "outputs": [
        {
          "name": "stdout",
          "output_type": "stream",
          "text": [
            "4 3\n",
            "1 2 3\n",
            "4 5 6\n",
            "7 8 9\n",
            "10 11 12\n"
          ]
        }
      ]
    },
    {
      "cell_type": "code",
      "source": [
        "print(matriz2)"
      ],
      "metadata": {
        "colab": {
          "base_uri": "https://localhost:8080/"
        },
        "id": "xCk_iNKu_hvO",
        "outputId": "4f80cbff-468d-4fef-cd6c-745b22fcb982"
      },
      "execution_count": 48,
      "outputs": [
        {
          "output_type": "stream",
          "name": "stdout",
          "text": [
            "[[1, 2, 3], [4, 5, 6], [7, 8, 9], [10, 11, 12]]\n"
          ]
        }
      ]
    }
  ]
}