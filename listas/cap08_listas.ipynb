{
  "nbformat": 4,
  "nbformat_minor": 0,
  "metadata": {
    "colab": {
      "provenance": [],
      "include_colab_link": true
    },
    "kernelspec": {
      "name": "python3",
      "display_name": "Python 3"
    },
    "language_info": {
      "name": "python"
    }
  },
  "cells": [
    {
      "cell_type": "markdown",
      "metadata": {
        "id": "view-in-github",
        "colab_type": "text"
      },
      "source": [
        "<a href=\"https://colab.research.google.com/github/viniciusrpb/cic0004_apc_turma04/blob/main/listas/cap08_listas.ipynb\" target=\"_parent\"><img src=\"https://colab.research.google.com/assets/colab-badge.svg\" alt=\"Open In Colab\"/></a>"
      ]
    },
    {
      "cell_type": "markdown",
      "source": [
        "#Capítulo 8 - Listas\n",
        "\n",
        "Notas de aula"
      ],
      "metadata": {
        "id": "VFXAhaHLEOKS"
      }
    },
    {
      "cell_type": "markdown",
      "source": [
        "## Como inicializar uma lista?\n",
        "\n",
        "Atribuindo diretamente uma lista de elementos para uma variável:"
      ],
      "metadata": {
        "id": "8PZHnrM8lzNg"
      }
    },
    {
      "cell_type": "code",
      "source": [
        "lista = [6,7,0,2,1]"
      ],
      "metadata": {
        "id": "TeTQakr5ENX5"
      },
      "execution_count": null,
      "outputs": []
    },
    {
      "cell_type": "markdown",
      "source": [
        "Ou criando uma lista vazia:"
      ],
      "metadata": {
        "id": "uVDICmLPl81A"
      }
    },
    {
      "cell_type": "code",
      "source": [
        "lista = []"
      ],
      "metadata": {
        "id": "fJVX5TwqmH3C"
      },
      "execution_count": null,
      "outputs": []
    },
    {
      "cell_type": "markdown",
      "source": [
        "**Lembre-se:** em Python, uma lista é referenciada internamente por seu endereço de memória! "
      ],
      "metadata": {
        "id": "4-hpgWgSmLXZ"
      }
    },
    {
      "cell_type": "markdown",
      "source": [
        "## Como acessar cada elemento da lista?\n",
        "\n",
        "Primeiramente, é importante pegar a quantidade de elementos da lista utilizando a função **len**:\n"
      ],
      "metadata": {
        "id": "wgl42KCdEllW"
      }
    },
    {
      "cell_type": "code",
      "source": [
        "n = len(lista)"
      ],
      "metadata": {
        "id": "_kO5uwA-mhYi"
      },
      "execution_count": null,
      "outputs": []
    },
    {
      "cell_type": "markdown",
      "source": [
        "### Primeira abordagem:"
      ],
      "metadata": {
        "id": "8G8y81mKmf9e"
      }
    },
    {
      "cell_type": "code",
      "source": [
        "for elemento in lista:\n",
        "    print(elemento)"
      ],
      "metadata": {
        "id": "07ze5bR0Ef07"
      },
      "execution_count": null,
      "outputs": []
    },
    {
      "cell_type": "markdown",
      "source": [
        "### Segunda abordagem: utilizando os laços for ou while"
      ],
      "metadata": {
        "id": "Vg_9LhsZFEBr"
      }
    },
    {
      "cell_type": "code",
      "source": [
        "for i in range(0,n):\n",
        "    print(lista[i])"
      ],
      "metadata": {
        "id": "_Egu8g2BE5hO"
      },
      "execution_count": null,
      "outputs": []
    },
    {
      "cell_type": "markdown",
      "source": [
        "Utilizando o laço while"
      ],
      "metadata": {
        "id": "XgHnlR3CFFkn"
      }
    },
    {
      "cell_type": "code",
      "source": [
        "i = 0\n",
        "while i < n:\n",
        "    print(lista[i])\n",
        "    i += 1"
      ],
      "metadata": {
        "id": "sFn2VFI1FHAf"
      },
      "execution_count": null,
      "outputs": []
    },
    {
      "cell_type": "markdown",
      "source": [
        "## Leitura de dados da entrada para uma lista\n",
        "\n",
        "### Leitura de $n$ inteiros separados por espaço em branco em uma **única linha**\n",
        "\n",
        "A técnica abaixo é conhecida como compreensão de listas:"
      ],
      "metadata": {
        "id": "NyP-b_R8Fe02"
      }
    },
    {
      "cell_type": "code",
      "source": [
        "lista = [int(x) for x in input().split()]\n",
        "print(lista)"
      ],
      "metadata": {
        "colab": {
          "base_uri": "https://localhost:8080/",
          "height": 441
        },
        "id": "SWeClD91FieW",
        "outputId": "b8d4f123-e687-49bc-ce42-761cbab29f7c"
      },
      "execution_count": null,
      "outputs": [
        {
          "output_type": "error",
          "ename": "KeyboardInterrupt",
          "evalue": "ignored",
          "traceback": [
            "\u001b[0;31m---------------------------------------------------------------------------\u001b[0m",
            "\u001b[0;31mKeyboardInterrupt\u001b[0m                         Traceback (most recent call last)",
            "\u001b[0;32m<ipython-input-8-8c6f2697bf2c>\u001b[0m in \u001b[0;36m<module>\u001b[0;34m\u001b[0m\n\u001b[0;32m----> 1\u001b[0;31m \u001b[0mlista\u001b[0m \u001b[0;34m=\u001b[0m \u001b[0;34m[\u001b[0m\u001b[0mint\u001b[0m\u001b[0;34m(\u001b[0m\u001b[0mx\u001b[0m\u001b[0;34m)\u001b[0m \u001b[0;32mfor\u001b[0m \u001b[0mx\u001b[0m \u001b[0;32min\u001b[0m \u001b[0minput\u001b[0m\u001b[0;34m(\u001b[0m\u001b[0;34m)\u001b[0m\u001b[0;34m.\u001b[0m\u001b[0msplit\u001b[0m\u001b[0;34m(\u001b[0m\u001b[0;34m)\u001b[0m\u001b[0;34m]\u001b[0m\u001b[0;34m\u001b[0m\u001b[0;34m\u001b[0m\u001b[0m\n\u001b[0m\u001b[1;32m      2\u001b[0m \u001b[0mprint\u001b[0m\u001b[0;34m(\u001b[0m\u001b[0mlista\u001b[0m\u001b[0;34m)\u001b[0m\u001b[0;34m\u001b[0m\u001b[0;34m\u001b[0m\u001b[0m\n",
            "\u001b[0;32m/usr/local/lib/python3.8/dist-packages/ipykernel/kernelbase.py\u001b[0m in \u001b[0;36mraw_input\u001b[0;34m(self, prompt)\u001b[0m\n\u001b[1;32m    858\u001b[0m                 \u001b[0;34m\"raw_input was called, but this frontend does not support input requests.\"\u001b[0m\u001b[0;34m\u001b[0m\u001b[0;34m\u001b[0m\u001b[0m\n\u001b[1;32m    859\u001b[0m             )\n\u001b[0;32m--> 860\u001b[0;31m         return self._input_request(str(prompt),\n\u001b[0m\u001b[1;32m    861\u001b[0m             \u001b[0mself\u001b[0m\u001b[0;34m.\u001b[0m\u001b[0m_parent_ident\u001b[0m\u001b[0;34m,\u001b[0m\u001b[0;34m\u001b[0m\u001b[0;34m\u001b[0m\u001b[0m\n\u001b[1;32m    862\u001b[0m             \u001b[0mself\u001b[0m\u001b[0;34m.\u001b[0m\u001b[0m_parent_header\u001b[0m\u001b[0;34m,\u001b[0m\u001b[0;34m\u001b[0m\u001b[0;34m\u001b[0m\u001b[0m\n",
            "\u001b[0;32m/usr/local/lib/python3.8/dist-packages/ipykernel/kernelbase.py\u001b[0m in \u001b[0;36m_input_request\u001b[0;34m(self, prompt, ident, parent, password)\u001b[0m\n\u001b[1;32m    902\u001b[0m             \u001b[0;32mexcept\u001b[0m \u001b[0mKeyboardInterrupt\u001b[0m\u001b[0;34m:\u001b[0m\u001b[0;34m\u001b[0m\u001b[0;34m\u001b[0m\u001b[0m\n\u001b[1;32m    903\u001b[0m                 \u001b[0;31m# re-raise KeyboardInterrupt, to truncate traceback\u001b[0m\u001b[0;34m\u001b[0m\u001b[0;34m\u001b[0m\u001b[0;34m\u001b[0m\u001b[0m\n\u001b[0;32m--> 904\u001b[0;31m                 \u001b[0;32mraise\u001b[0m \u001b[0mKeyboardInterrupt\u001b[0m\u001b[0;34m(\u001b[0m\u001b[0;34m\"Interrupted by user\"\u001b[0m\u001b[0;34m)\u001b[0m \u001b[0;32mfrom\u001b[0m \u001b[0;32mNone\u001b[0m\u001b[0;34m\u001b[0m\u001b[0;34m\u001b[0m\u001b[0m\n\u001b[0m\u001b[1;32m    905\u001b[0m             \u001b[0;32mexcept\u001b[0m \u001b[0mException\u001b[0m \u001b[0;32mas\u001b[0m \u001b[0me\u001b[0m\u001b[0;34m:\u001b[0m\u001b[0;34m\u001b[0m\u001b[0;34m\u001b[0m\u001b[0m\n\u001b[1;32m    906\u001b[0m                 \u001b[0mself\u001b[0m\u001b[0;34m.\u001b[0m\u001b[0mlog\u001b[0m\u001b[0;34m.\u001b[0m\u001b[0mwarning\u001b[0m\u001b[0;34m(\u001b[0m\u001b[0;34m\"Invalid Message:\"\u001b[0m\u001b[0;34m,\u001b[0m \u001b[0mexc_info\u001b[0m\u001b[0;34m=\u001b[0m\u001b[0;32mTrue\u001b[0m\u001b[0;34m)\u001b[0m\u001b[0;34m\u001b[0m\u001b[0;34m\u001b[0m\u001b[0m\n",
            "\u001b[0;31mKeyboardInterrupt\u001b[0m: Interrupted by user"
          ]
        }
      ]
    },
    {
      "cell_type": "markdown",
      "source": [
        "**Obs.:** essa abordagem não depende de um valor inteiro $n$ que é geralmente lido de maneira separada na entrada padrão. Entretanto, em muitos problemas no Beecrowd e Codeforces, é importante ler o valor $n$ para viabilizar a leitura dos próximos dados da entrada"
      ],
      "metadata": {
        "id": "ftSPvDZFmzk6"
      }
    },
    {
      "cell_type": "markdown",
      "source": [
        "### Leitura de $n$ inteiros em várias linhas"
      ],
      "metadata": {
        "id": "zRAhFBhbGlK_"
      }
    },
    {
      "cell_type": "code",
      "source": [
        "n = int(input())\n",
        "lista = []    # a lista inicialmente está vazia\n",
        "\n",
        "for i in range(0,n):\n",
        "    elem = int(input())\n",
        "    lista.append(elem)  # adiciona o elemento\n",
        "                        # no final da lista\n",
        "print(lista)"
      ],
      "metadata": {
        "id": "tsXZmZO0Gotv"
      },
      "execution_count": null,
      "outputs": []
    },
    {
      "cell_type": "markdown",
      "source": [
        "## Inicializações rápidas de listas\n",
        "\n"
      ],
      "metadata": {
        "id": "qLa4Xnr0H6P8"
      }
    },
    {
      "cell_type": "code",
      "source": [
        "lista = 10*[0]\n",
        "\n",
        "print(lista)"
      ],
      "metadata": {
        "id": "MTzLJU1_H8qB"
      },
      "execution_count": null,
      "outputs": []
    },
    {
      "cell_type": "markdown",
      "source": [
        "## Atribuição de listas\n",
        "\n",
        "Muito cuidado ao atribuir listas como se segue:"
      ],
      "metadata": {
        "id": "E8Idq-Tbr1qr"
      }
    },
    {
      "cell_type": "code",
      "source": [
        "lista = [6,7,2,0,1]\n",
        "\n",
        "lista2 = lista\n"
      ],
      "metadata": {
        "id": "CuKlGpwCr6kW"
      },
      "execution_count": null,
      "outputs": []
    },
    {
      "cell_type": "markdown",
      "source": [
        "Lista:"
      ],
      "metadata": {
        "id": "fCW4euRlsAqd"
      }
    },
    {
      "cell_type": "code",
      "source": [
        "print(lista)"
      ],
      "metadata": {
        "id": "Ixe072UKsA41"
      },
      "execution_count": null,
      "outputs": []
    },
    {
      "cell_type": "markdown",
      "source": [
        "Lista 2:"
      ],
      "metadata": {
        "id": "cU4OHNT-sBAl"
      }
    },
    {
      "cell_type": "code",
      "source": [
        "print(lista2)"
      ],
      "metadata": {
        "id": "XmfNXmfnsBH2"
      },
      "execution_count": null,
      "outputs": []
    },
    {
      "cell_type": "markdown",
      "source": [
        "Se alterarmos um elemento de lista, veja o que ocorre:"
      ],
      "metadata": {
        "id": "RXoN8NSMsGrN"
      }
    },
    {
      "cell_type": "code",
      "source": [
        "lista[2] = 4\n",
        "print(lista)"
      ],
      "metadata": {
        "id": "0d6U4jOcsKqN"
      },
      "execution_count": null,
      "outputs": []
    },
    {
      "cell_type": "markdown",
      "source": [
        "isso refletirá na lista2, pois a atribuição diz que lista2 recebe o endereço de lista:"
      ],
      "metadata": {
        "id": "dkQW3DWpsOh1"
      }
    },
    {
      "cell_type": "code",
      "source": [
        "print(lista2)"
      ],
      "metadata": {
        "id": "l4yN7vgusKwU"
      },
      "execution_count": null,
      "outputs": []
    },
    {
      "cell_type": "markdown",
      "source": [
        "Para evitar esse problema, crie uma nova lista contendo os mesmos elementos da lista original como se segue:"
      ],
      "metadata": {
        "id": "sSBS-WgUsVie"
      }
    },
    {
      "cell_type": "code",
      "source": [
        "lista = [6,3,2,7,1,5,4]\n",
        "\n",
        "backup = []\n",
        "for elem in lista:\n",
        "    backup.append(elem)"
      ],
      "metadata": {
        "id": "MdgLzKO4ytPE"
      },
      "execution_count": null,
      "outputs": []
    },
    {
      "cell_type": "code",
      "source": [
        "lista[2] = 15"
      ],
      "metadata": {
        "id": "TuWYKkORy8r9"
      },
      "execution_count": null,
      "outputs": []
    },
    {
      "cell_type": "code",
      "source": [
        "print(lista)"
      ],
      "metadata": {
        "id": "FyznmINezAMX"
      },
      "execution_count": null,
      "outputs": []
    },
    {
      "cell_type": "code",
      "source": [
        "print(backup)"
      ],
      "metadata": {
        "id": "j2gAJ4gCzBPr"
      },
      "execution_count": null,
      "outputs": []
    },
    {
      "cell_type": "markdown",
      "source": [
        "## Exercício:\n",
        "\n",
        "Dada uma string da entrada (contendo apenas caracteres latinos minúsculos), determine a frequência de cada caractere nela presente."
      ],
      "metadata": {
        "id": "EDsKMpQDIISt"
      }
    },
    {
      "cell_type": "code",
      "source": [
        "string = input()\n",
        "\n",
        "histograma =26*[0]\n",
        "\n",
        "for caractere in string:\n",
        "    pos = ord(caractere) - 97\n",
        "    histograma[pos] += 1"
      ],
      "metadata": {
        "id": "3FVpTxfFISwk"
      },
      "execution_count": null,
      "outputs": []
    },
    {
      "cell_type": "code",
      "source": [
        "for i in range(0,26):\n",
        "    caractere = chr(97+i)  # pega o codigo ASCII\n",
        "                           # e converte em caractere\n",
        "    print(f\"'{caractere}': {histograma[i]}\")"
      ],
      "metadata": {
        "id": "FuLx0gDxLOh7"
      },
      "execution_count": null,
      "outputs": []
    },
    {
      "cell_type": "markdown",
      "source": [
        "### Fatiamento de listas\n",
        "\n",
        "Na técnica do fatiamento, o resultado sempre **retorna uma nova lista** (novo endereço) contendo os elementos da lista orignal em um intervalo de posições [a,b)"
      ],
      "metadata": {
        "id": "KHeoSim4UWxV"
      }
    },
    {
      "cell_type": "code",
      "source": [
        "lista = [1,2,3,4,5,6,7]"
      ],
      "metadata": {
        "id": "Yo5v7Ql4UWJH"
      },
      "execution_count": null,
      "outputs": []
    },
    {
      "cell_type": "code",
      "source": [
        "sublista = lista[1:4]\n",
        "print(sublista)"
      ],
      "metadata": {
        "id": "7v_dBZMuUagj"
      },
      "execution_count": null,
      "outputs": []
    },
    {
      "cell_type": "code",
      "source": [
        "sublista = lista[0:5]\n",
        "print(sublista)"
      ],
      "metadata": {
        "id": "a9Gf79LXUdeT"
      },
      "execution_count": null,
      "outputs": []
    },
    {
      "cell_type": "code",
      "source": [
        "sublista = lista[:-1]\n",
        "print(sublista)"
      ],
      "metadata": {
        "id": "pLXQAHBSUis9"
      },
      "execution_count": null,
      "outputs": []
    },
    {
      "cell_type": "code",
      "source": [
        "sublista = lista[:-2]\n",
        "print(sublista)"
      ],
      "metadata": {
        "id": "Onv8WaaXUpph"
      },
      "execution_count": null,
      "outputs": []
    },
    {
      "cell_type": "code",
      "source": [
        "sublista = lista[::-1]\n",
        "print(sublista)"
      ],
      "metadata": {
        "id": "QnaIFzKKUsX6"
      },
      "execution_count": null,
      "outputs": []
    },
    {
      "cell_type": "markdown",
      "source": [
        "## Outras funcionalidades úteis\n",
        "\n",
        "Verifica se um elemento está (ou não) em uma lista:"
      ],
      "metadata": {
        "id": "ia3NJy31XbAb"
      }
    },
    {
      "cell_type": "code",
      "source": [
        "lista = [6,3,2,7,1,5,4]\n",
        "\n",
        "elem = int(input())\n",
        "\n",
        "if elem in lista:\n",
        "    print(f'{elem} estah na lista')\n",
        "else:\n",
        "    print(f'{elem} nao estah na lista')"
      ],
      "metadata": {
        "id": "yrsBzoDOXcM8"
      },
      "execution_count": null,
      "outputs": []
    },
    {
      "cell_type": "code",
      "source": [
        "elem = int(input())\n",
        "\n",
        "if elem not in lista:\n",
        "    print(f'{elem} nao estah na lista')\n",
        "else:\n",
        "    print(f'{elem} estah na lista')"
      ],
      "metadata": {
        "id": "NSn7SZQ1oc3g"
      },
      "execution_count": null,
      "outputs": []
    },
    {
      "cell_type": "markdown",
      "source": [
        "## Ordenação\n",
        "\n",
        "Por padrão, a ordenação é crescente e comporta os tipos de dados inteiro, real e strings."
      ],
      "metadata": {
        "id": "gfo6ychcXqoY"
      }
    },
    {
      "cell_type": "code",
      "source": [
        "lista.sort()\n",
        "\n",
        "print(lista)"
      ],
      "metadata": {
        "id": "dvR9QM5nXsqG"
      },
      "execution_count": null,
      "outputs": []
    },
    {
      "cell_type": "markdown",
      "source": [
        "Ordenação decrescente"
      ],
      "metadata": {
        "id": "kQtMuJJgX9Oa"
      }
    },
    {
      "cell_type": "code",
      "source": [
        "lista.sort(reverse=True)\n",
        "print(lista)"
      ],
      "metadata": {
        "id": "bxtKI_UYYAQK"
      },
      "execution_count": null,
      "outputs": []
    },
    {
      "cell_type": "markdown",
      "source": [
        "Observe que a ordenação altera permanentemente a organização original dos elementos da lista. Com isso, pode ser importante manter um backup antes da ordenação como se segue:"
      ],
      "metadata": {
        "id": "w9FGpPmypDKb"
      }
    },
    {
      "cell_type": "code",
      "source": [
        "lista = [6,3,2,7,1,5,4]\n",
        "\n",
        "backup = []\n",
        "for elem in lista:\n",
        "    backup.append(elem)"
      ],
      "metadata": {
        "id": "T15Cn2RIYNsJ"
      },
      "execution_count": null,
      "outputs": []
    },
    {
      "cell_type": "code",
      "source": [
        "lista.sort()\n",
        "print(lista)"
      ],
      "metadata": {
        "id": "KecOajcjZhoR"
      },
      "execution_count": null,
      "outputs": []
    },
    {
      "cell_type": "code",
      "source": [
        "print(backup)"
      ],
      "metadata": {
        "id": "sH5NEjz9aKwQ"
      },
      "execution_count": null,
      "outputs": []
    },
    {
      "cell_type": "markdown",
      "source": [
        "Ordenação de strings segue o critério lexicográfico conforme a ordem dos caracteres da string na Tabela ASCII:"
      ],
      "metadata": {
        "id": "NrbGJJPrp5qQ"
      }
    },
    {
      "cell_type": "code",
      "source": [
        "nomes = ['Ana','ana','10ana','juarez','Walter']\n",
        "nomes.sort()\n",
        "print(nomes)"
      ],
      "metadata": {
        "id": "0vnN3W0FaNiR"
      },
      "execution_count": null,
      "outputs": []
    },
    {
      "cell_type": "markdown",
      "source": [
        "## Concatenar duas listas\n",
        "\n",
        "Duas estratégias. Criando uma nova lista a partir da junção de duas listas diferentes, utilize o operador \"+\":"
      ],
      "metadata": {
        "id": "RmpWl0Wua2LD"
      }
    },
    {
      "cell_type": "code",
      "source": [
        "list1 = [7,2,5]\n",
        "list2 = [1,1,1]\n",
        "\n",
        "novalista = list1+list2\n",
        "print(novalista)"
      ],
      "metadata": {
        "id": "x54Wtc3ca16G"
      },
      "execution_count": null,
      "outputs": []
    },
    {
      "cell_type": "markdown",
      "source": [
        "Concatenar uma lista ao final de outra lista, sem criar uma nova lista, utilize o método \"extend\":"
      ],
      "metadata": {
        "id": "riS94XLnqsSI"
      }
    },
    {
      "cell_type": "code",
      "source": [
        "list1.extend(list2)\n",
        "print(list1)"
      ],
      "metadata": {
        "id": "ewf0mLUnbLRd"
      },
      "execution_count": null,
      "outputs": []
    },
    {
      "cell_type": "markdown",
      "source": [
        "Observe que o método **extend** não retorna nada!\n",
        "\n",
        "Um **caso falho** é tentar utilizar o método **append** como mostra abaixo:"
      ],
      "metadata": {
        "id": "sEn7q-bBrAmA"
      }
    },
    {
      "cell_type": "code",
      "source": [
        "lista = [1,2,3]\n",
        "lista2 = [4,5]\n",
        "\n",
        "lista.append(lista2)\n",
        "print(lista)"
      ],
      "metadata": {
        "id": "19tMeiXGbreB"
      },
      "execution_count": null,
      "outputs": []
    },
    {
      "cell_type": "code",
      "source": [
        "for elem in lista:\n",
        "    print(elem)"
      ],
      "metadata": {
        "id": "A7-z4hNNcEif"
      },
      "execution_count": null,
      "outputs": []
    },
    {
      "cell_type": "markdown",
      "source": [
        "Nesse caso, a lista2 será considerada como sendo um elemento de lista1."
      ],
      "metadata": {
        "id": "H79QECMDrTPt"
      }
    },
    {
      "cell_type": "markdown",
      "source": [
        "## Matrizes"
      ],
      "metadata": {
        "id": "B16RYDP36BL5"
      }
    },
    {
      "cell_type": "code",
      "source": [
        "matriz = []\n",
        "\n",
        "lista = [1,2,3]\n",
        "lista2 = [4,5,6]\n",
        "lista3 = [7,8,9]\n",
        "\n",
        "matriz.append(lista)\n",
        "matriz.append(lista2)\n",
        "matriz.append(lista3)\n",
        "\n",
        "print(matriz)"
      ],
      "metadata": {
        "colab": {
          "base_uri": "https://localhost:8080/"
        },
        "id": "XR_3CcZi5_15",
        "outputId": "ee9c1466-2f5b-4a2a-83a1-21a5dbd6f088"
      },
      "execution_count": null,
      "outputs": [
        {
          "output_type": "stream",
          "name": "stdout",
          "text": [
            "[[1, 2, 3], [4, 5, 6], [7, 8, 9]]\n"
          ]
        }
      ]
    },
    {
      "cell_type": "code",
      "source": [
        "print(f'Elemento na linha {1} coluna {2} = {matriz[1][2]}')"
      ],
      "metadata": {
        "colab": {
          "base_uri": "https://localhost:8080/"
        },
        "id": "xqveJEOn777I",
        "outputId": "4de38c09-71bc-43e9-9554-52706d558376"
      },
      "execution_count": null,
      "outputs": [
        {
          "output_type": "stream",
          "name": "stdout",
          "text": [
            "Elemento na linha 1 coluna 2 = 6\n"
          ]
        }
      ]
    },
    {
      "cell_type": "code",
      "source": [
        "n = 3\n",
        "m = 3\n",
        "\n",
        "linha = ''\n",
        "for i in range(0,n):\n",
        "\n",
        "    for j in range(0,m):\n",
        "\n",
        "        linha+=str(matriz[i][j])+\" \"\n",
        "    linha=linha[:-1]+\"\\n\"\n",
        "\n",
        "print(linha)"
      ],
      "metadata": {
        "colab": {
          "base_uri": "https://localhost:8080/"
        },
        "id": "ULuvvEq38RdA",
        "outputId": "9a198924-6714-43c0-bf31-d452d01d06b3"
      },
      "execution_count": null,
      "outputs": [
        {
          "output_type": "stream",
          "name": "stdout",
          "text": [
            "1 2 3 \n",
            "4 5 6 \n",
            "7 8 9 \n",
            "\n"
          ]
        }
      ]
    },
    {
      "cell_type": "markdown",
      "source": [
        "### Leitura de Matriz da Entrada Padrão\n",
        "\n",
        "Uma matriz contendo $n$ linhas e $m$ colunas pode ser lida da seguinte maneira:"
      ],
      "metadata": {
        "id": "peRnisEs-Y6X"
      }
    },
    {
      "cell_type": "code",
      "source": [
        "n, m = (int(x) for x in input().split())\n",
        "\n",
        "matriz = []\n",
        "\n",
        "for i in range(0,n):\n",
        "    linha = [int(x) for x in input().split()]\n",
        "    matriz.append(linha)"
      ],
      "metadata": {
        "colab": {
          "base_uri": "https://localhost:8080/"
        },
        "id": "g7Aq5O_t-FG-",
        "outputId": "7aff6d7e-6099-4b4f-a50a-8cdc5cf4261e"
      },
      "execution_count": null,
      "outputs": [
        {
          "name": "stdout",
          "output_type": "stream",
          "text": [
            "3 3\n",
            "1 2 3\n",
            "7 8 9\n",
            "4 5 6\n"
          ]
        }
      ]
    },
    {
      "cell_type": "code",
      "source": [
        "print(matriz)"
      ],
      "metadata": {
        "colab": {
          "base_uri": "https://localhost:8080/"
        },
        "id": "XxtOBARd_Bif",
        "outputId": "5178a164-7b4c-45ce-b6e5-6b71d20c0f0c"
      },
      "execution_count": null,
      "outputs": [
        {
          "output_type": "stream",
          "name": "stdout",
          "text": [
            "[[1, 2, 3], [7, 8, 9], [4, 5, 6]]\n"
          ]
        }
      ]
    },
    {
      "cell_type": "markdown",
      "source": [
        "A leitura de uma matriz utilizando compreensão de listas é feita de maneira aninhada:"
      ],
      "metadata": {
        "id": "mbkWr-9V-Ybj"
      }
    },
    {
      "cell_type": "code",
      "source": [
        "matriz2 = [ [int(x) for x in input().split()] for y in range(0,n)]"
      ],
      "metadata": {
        "colab": {
          "base_uri": "https://localhost:8080/"
        },
        "id": "6AwfBUaa_Fxx",
        "outputId": "7a47e23d-1c9e-4b12-e43c-42751ed2c92f"
      },
      "execution_count": null,
      "outputs": [
        {
          "name": "stdout",
          "output_type": "stream",
          "text": [
            "1 2 3\n",
            "8 8 8\n",
            "7 7 7\n"
          ]
        }
      ]
    },
    {
      "cell_type": "code",
      "source": [
        "matriz2"
      ],
      "metadata": {
        "colab": {
          "base_uri": "https://localhost:8080/"
        },
        "id": "xCk_iNKu_hvO",
        "outputId": "1e5b0450-1e1b-4d72-cd47-ea181e68220c"
      },
      "execution_count": null,
      "outputs": [
        {
          "output_type": "execute_result",
          "data": {
            "text/plain": [
              "[[1, 2, 3], [8, 8, 8], [7, 7, 7]]"
            ]
          },
          "metadata": {},
          "execution_count": 15
        }
      ]
    }
  ]
}