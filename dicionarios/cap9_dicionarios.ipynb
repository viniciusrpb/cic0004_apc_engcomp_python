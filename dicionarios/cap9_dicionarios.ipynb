{
  "nbformat": 4,
  "nbformat_minor": 0,
  "metadata": {
    "colab": {
      "provenance": [],
      "authorship_tag": "ABX9TyMsGGgt/zYC1vw43cJJld3i",
      "include_colab_link": true
    },
    "kernelspec": {
      "name": "python3",
      "display_name": "Python 3"
    },
    "language_info": {
      "name": "python"
    }
  },
  "cells": [
    {
      "cell_type": "markdown",
      "metadata": {
        "id": "view-in-github",
        "colab_type": "text"
      },
      "source": [
        "<a href=\"https://colab.research.google.com/github/viniciusrpb/cic0004_apc_engcomp/blob/main/dicionarios/cap9_dicionarios.ipynb\" target=\"_parent\"><img src=\"https://colab.research.google.com/assets/colab-badge.svg\" alt=\"Open In Colab\"/></a>"
      ]
    },
    {
      "cell_type": "markdown",
      "source": [
        "# Dicionários\n",
        "\n",
        "São estruturas de dados do tipo chave-valor que permitem acesso aos dados de maneira indexada, mas que os índices não necessitam ser contíguos ou apenas valores inteiros.\n",
        "\n",
        "Dicionários não permitem chaves duplicadas."
      ],
      "metadata": {
        "id": "RddnbUftrbea"
      }
    },
    {
      "cell_type": "markdown",
      "source": [
        "Como criar um dicionário.\n",
        "\n",
        "## Estratégia 1\n",
        "\n",
        "Dicionário vazio"
      ],
      "metadata": {
        "id": "_O40OwtMrbiK"
      }
    },
    {
      "cell_type": "code",
      "execution_count": 1,
      "metadata": {
        "id": "m129-HlUqDzr"
      },
      "outputs": [],
      "source": [
        "dicionario = dict()"
      ]
    },
    {
      "cell_type": "code",
      "source": [
        "dicionario = {}"
      ],
      "metadata": {
        "id": "RDsB1Mo8rqYj"
      },
      "execution_count": 2,
      "outputs": []
    },
    {
      "cell_type": "markdown",
      "source": [
        "Incluir um par chave-valor no dicionario"
      ],
      "metadata": {
        "id": "6--zWG5_vSys"
      }
    },
    {
      "cell_type": "code",
      "source": [
        "dicionario['athletico'] = 50\n",
        "dicionario['guarani'] = 3\n",
        "dicionario['santa cruz'] = 89"
      ],
      "metadata": {
        "id": "ZPagnvbVvTN6"
      },
      "execution_count": 3,
      "outputs": []
    },
    {
      "cell_type": "code",
      "source": [
        "dicionario"
      ],
      "metadata": {
        "colab": {
          "base_uri": "https://localhost:8080/"
        },
        "id": "tX3lgPbwvZIx",
        "outputId": "baf41f7f-6b94-4d51-b73c-37de87f7b369"
      },
      "execution_count": 4,
      "outputs": [
        {
          "output_type": "execute_result",
          "data": {
            "text/plain": [
              "{'athletico': 50, 'guarani': 3, 'santa cruz': 89}"
            ]
          },
          "metadata": {},
          "execution_count": 4
        }
      ]
    },
    {
      "cell_type": "markdown",
      "source": [
        "Alterar um valor de uma chave no dicionário"
      ],
      "metadata": {
        "id": "NtUg_aPMIb9L"
      }
    },
    {
      "cell_type": "code",
      "source": [
        "dicionario['guarani'] = 6"
      ],
      "metadata": {
        "id": "MC5m0lbRvkqi"
      },
      "execution_count": 5,
      "outputs": []
    },
    {
      "cell_type": "markdown",
      "source": [
        "resultado:"
      ],
      "metadata": {
        "id": "-SVXCScjIeiQ"
      }
    },
    {
      "cell_type": "code",
      "source": [
        "dicionario"
      ],
      "metadata": {
        "colab": {
          "base_uri": "https://localhost:8080/"
        },
        "id": "_radGWUuvpPj",
        "outputId": "82c62bac-79e0-417a-be25-c322ee4a8e25"
      },
      "execution_count": 6,
      "outputs": [
        {
          "output_type": "execute_result",
          "data": {
            "text/plain": [
              "{'athletico': 50, 'guarani': 6, 'santa cruz': 89}"
            ]
          },
          "metadata": {},
          "execution_count": 6
        }
      ]
    },
    {
      "cell_type": "markdown",
      "source": [
        "#Estratégia 2\n",
        "\n",
        "Dicionário com alguns pares chave-valor já inclusos:"
      ],
      "metadata": {
        "id": "3tuA5oTwsdjb"
      }
    },
    {
      "cell_type": "code",
      "source": [
        "dicionario = {'brasilia' : 11, 'fortaleza': 20, 'santos': 13, 'athletico': 50}"
      ],
      "metadata": {
        "id": "nsio_cqhshTJ"
      },
      "execution_count": 7,
      "outputs": []
    },
    {
      "cell_type": "code",
      "source": [
        "dicionario"
      ],
      "metadata": {
        "colab": {
          "base_uri": "https://localhost:8080/"
        },
        "id": "cQkoRBodspXZ",
        "outputId": "1dbc7f87-e890-434e-f09c-a52c663432af"
      },
      "execution_count": 8,
      "outputs": [
        {
          "output_type": "execute_result",
          "data": {
            "text/plain": [
              "{'brasilia': 11, 'fortaleza': 20, 'santos': 13, 'athletico': 50}"
            ]
          },
          "metadata": {},
          "execution_count": 8
        }
      ]
    },
    {
      "cell_type": "markdown",
      "source": [
        "## Acesso aos elementos de um dicionário"
      ],
      "metadata": {
        "id": "a_19WHKmstF5"
      }
    },
    {
      "cell_type": "code",
      "source": [
        "for chave in dicionario:\n",
        "    valor = dicionario[chave]\n",
        "    print(f'Chave: {chave} Valor: {valor}')"
      ],
      "metadata": {
        "colab": {
          "base_uri": "https://localhost:8080/"
        },
        "id": "eJpVjRfCsvJy",
        "outputId": "3c721fbe-75ab-4344-b48d-cef9abfa52fb"
      },
      "execution_count": 9,
      "outputs": [
        {
          "output_type": "stream",
          "name": "stdout",
          "text": [
            "Chave: brasilia Valor: 11\n",
            "Chave: fortaleza Valor: 20\n",
            "Chave: santos Valor: 13\n",
            "Chave: athletico Valor: 50\n"
          ]
        }
      ]
    },
    {
      "cell_type": "markdown",
      "source": [
        "#### Exemplo 1:"
      ],
      "metadata": {
        "id": "o0pbfFLut5oK"
      }
    },
    {
      "cell_type": "code",
      "source": [
        "N = 4"
      ],
      "metadata": {
        "id": "QoJ9QvaAt71z"
      },
      "execution_count": 10,
      "outputs": []
    },
    {
      "cell_type": "code",
      "source": [
        "frequencia = {}"
      ],
      "metadata": {
        "id": "BPbhKiX6u0y7"
      },
      "execution_count": 11,
      "outputs": []
    },
    {
      "cell_type": "code",
      "source": [
        "for _ in range(N):\n",
        "    chamada = input().split()\n",
        "\n",
        "    for nome in chamada:\n",
        "        if nome in frequencia:\n",
        "            frequencia[nome]+=1\n",
        "        else:\n",
        "            frequencia[nome]=1"
      ],
      "metadata": {
        "colab": {
          "base_uri": "https://localhost:8080/"
        },
        "id": "vQbQT_O2uE8Z",
        "outputId": "911100a6-5f4c-4076-da9b-af55db63e0a2"
      },
      "execution_count": 12,
      "outputs": [
        {
          "name": "stdout",
          "output_type": "stream",
          "text": [
            "carlos edina sofia raul\n",
            "raul edina\n",
            "edina sofia\n",
            "sofia carlos edina\n"
          ]
        }
      ]
    },
    {
      "cell_type": "code",
      "source": [
        "frequencia"
      ],
      "metadata": {
        "colab": {
          "base_uri": "https://localhost:8080/"
        },
        "id": "_lKVAR0ru6q2",
        "outputId": "69902a30-ea83-4a5d-b22a-f63a00e4fecd"
      },
      "execution_count": 13,
      "outputs": [
        {
          "output_type": "execute_result",
          "data": {
            "text/plain": [
              "{'carlos': 2, 'edina': 4, 'sofia': 3, 'raul': 2}"
            ]
          },
          "metadata": {},
          "execution_count": 13
        }
      ]
    },
    {
      "cell_type": "markdown",
      "source": [
        "### invertendo um dicionario\n",
        "\n",
        "temos que tomar o cuidado de tratar os valores que, por ventura, venham a ser chaves duplicadas no novo dicionário (invertido)"
      ],
      "metadata": {
        "id": "EMIzwXpv0uw6"
      }
    },
    {
      "cell_type": "code",
      "source": [
        "inv_frequencia = {}"
      ],
      "metadata": {
        "id": "5L3BTst10wY9"
      },
      "execution_count": 14,
      "outputs": []
    },
    {
      "cell_type": "code",
      "source": [
        "for chave in frequencia:\n",
        "    valor = frequencia[chave]\n",
        "    if valor in inv_frequencia:\n",
        "        inv_frequencia[valor].append(chave)\n",
        "    else:\n",
        "        inv_frequencia[valor] = [chave]\n"
      ],
      "metadata": {
        "id": "IWXD_VE20zb6"
      },
      "execution_count": 15,
      "outputs": []
    },
    {
      "cell_type": "code",
      "source": [
        "inv_frequencia"
      ],
      "metadata": {
        "colab": {
          "base_uri": "https://localhost:8080/"
        },
        "id": "SGU7ZI-C2pj8",
        "outputId": "624a91d6-05b1-4c2f-8f16-b2c7c4141d23"
      },
      "execution_count": 16,
      "outputs": [
        {
          "output_type": "execute_result",
          "data": {
            "text/plain": [
              "{2: ['carlos', 'raul'], 4: ['edina'], 3: ['sofia']}"
            ]
          },
          "metadata": {},
          "execution_count": 16
        }
      ]
    },
    {
      "cell_type": "markdown",
      "source": [
        "Busca em dicionario: quero buscar um valor x dentro do dicionario"
      ],
      "metadata": {
        "id": "CYC4yOyt29cy"
      }
    },
    {
      "cell_type": "code",
      "source": [
        "def buscaValorDicionario(didi,x):\n",
        "    # leitura de chave por chave ateh encontrar\n",
        "    # o valor x que voce quer\n",
        "    for chave in didi:\n",
        "        valor = didi[chave]\n",
        "        if x == valor:\n",
        "            return True\n",
        "    return False\n",
        "\n",
        "dicc = {'raul': 2, 'carlos': 2, 'sofia': 3, 'edina': 4}\n",
        "\n",
        "elem_valor =4\n",
        "\n",
        "ans = buscaValorDicionario(dicc,elem_valor)\n",
        "if ans == True:\n",
        "    print('Elemento encontrado')\n",
        "else:\n",
        "    print('Elemento nao encontrado')"
      ],
      "metadata": {
        "id": "2bVn-tpt3BGT",
        "colab": {
          "base_uri": "https://localhost:8080/"
        },
        "outputId": "ecce09cb-82ac-4119-979e-f10906337b03"
      },
      "execution_count": 18,
      "outputs": [
        {
          "output_type": "stream",
          "name": "stdout",
          "text": [
            "Elemento encontrado\n"
          ]
        }
      ]
    },
    {
      "cell_type": "markdown",
      "source": [
        "### Ordenando um dicionário\n",
        "\n",
        "Não é possível ordenar diretamente um dicionário. O que se pode fazer é obter suas chaves ordenadas em uma lista como se segue:"
      ],
      "metadata": {
        "id": "H4I4sP2QJT5R"
      }
    },
    {
      "cell_type": "code",
      "source": [
        "dicionario = {4: 'b', 8: 'i', 2: 'h', 5: 'o', 1: 't'}\n",
        "\n",
        "lista_chaves_ordenadas = sorted(dicionario)\n",
        "\n",
        "print(lista_chaves_ordenadas)"
      ],
      "metadata": {
        "colab": {
          "base_uri": "https://localhost:8080/"
        },
        "id": "yUNQdqxoJVGx",
        "outputId": "b9732bdd-4700-4697-bfa0-d2731509b7c9"
      },
      "execution_count": 19,
      "outputs": [
        {
          "output_type": "stream",
          "name": "stdout",
          "text": [
            "[1, 2, 4, 5, 8]\n"
          ]
        }
      ]
    },
    {
      "cell_type": "code",
      "source": [
        "for chave in lista_chaves_ordenadas:\n",
        "    print(f'Chave: {chave} Valor: {dicionario[chave]}')"
      ],
      "metadata": {
        "colab": {
          "base_uri": "https://localhost:8080/"
        },
        "id": "Amt02xHcPmVp",
        "outputId": "63b29af5-23d4-4d9a-d4df-836c8027970d"
      },
      "execution_count": 20,
      "outputs": [
        {
          "output_type": "stream",
          "name": "stdout",
          "text": [
            "Chave: 1 Valor: t\n",
            "Chave: 2 Valor: h\n",
            "Chave: 4 Valor: b\n",
            "Chave: 5 Valor: o\n",
            "Chave: 8 Valor: i\n"
          ]
        }
      ]
    },
    {
      "cell_type": "markdown",
      "source": [
        "para obter as chaves ordenadas de maneira descendente, faça:"
      ],
      "metadata": {
        "id": "DlV8ZhDePkcb"
      }
    },
    {
      "cell_type": "code",
      "source": [
        "lista_chaves_ordenadas = sorted(dicionario, reverse=True)\n",
        "\n",
        "print(lista_chaves_ordenadas)"
      ],
      "metadata": {
        "colab": {
          "base_uri": "https://localhost:8080/"
        },
        "id": "hLO_F57VPxsZ",
        "outputId": "a134a868-b467-4231-9b28-35e420c711f1"
      },
      "execution_count": 21,
      "outputs": [
        {
          "output_type": "stream",
          "name": "stdout",
          "text": [
            "[8, 5, 4, 2, 1]\n"
          ]
        }
      ]
    },
    {
      "cell_type": "markdown",
      "source": [
        "Pegar itens (pares chave-valor) de um dicionário"
      ],
      "metadata": {
        "id": "8iTjEIByJPSD"
      }
    },
    {
      "cell_type": "code",
      "source": [
        "elem_valor = dicionario.items()\n",
        "\n",
        "print(elem_valor)"
      ],
      "metadata": {
        "colab": {
          "base_uri": "https://localhost:8080/"
        },
        "id": "s04RdwHhJR4J",
        "outputId": "4fdc5a61-5832-4393-ada3-19adf1325a1d"
      },
      "execution_count": 22,
      "outputs": [
        {
          "output_type": "stream",
          "name": "stdout",
          "text": [
            "dict_items([(4, 'b'), (8, 'i'), (2, 'h'), (5, 'o'), (1, 't')])\n"
          ]
        }
      ]
    },
    {
      "cell_type": "markdown",
      "source": [
        "Observe que temos uma lista de tuplas, em que cada tupla possui dois elementos. À esquerda temos a chave e à direita o valor."
      ],
      "metadata": {
        "id": "jnxFkT0gQSny"
      }
    }
  ]
}