{
  "nbformat": 4,
  "nbformat_minor": 0,
  "metadata": {
    "colab": {
      "provenance": [],
      "authorship_tag": "ABX9TyNY07EYOWxA1tWNHBHDJ+Ni",
      "include_colab_link": true
    },
    "kernelspec": {
      "name": "python3",
      "display_name": "Python 3"
    },
    "language_info": {
      "name": "python"
    }
  },
  "cells": [
    {
      "cell_type": "markdown",
      "metadata": {
        "id": "view-in-github",
        "colab_type": "text"
      },
      "source": [
        "<a href=\"https://colab.research.google.com/github/viniciusrpb/cic0004_apc_turma04/blob/main/dicionarios/cap9_dicionarios.ipynb\" target=\"_parent\"><img src=\"https://colab.research.google.com/assets/colab-badge.svg\" alt=\"Open In Colab\"/></a>"
      ]
    },
    {
      "cell_type": "markdown",
      "source": [
        "Como criar um dicionario"
      ],
      "metadata": {
        "id": "4vqqJiiVvB0C"
      }
    },
    {
      "cell_type": "code",
      "execution_count": 2,
      "metadata": {
        "id": "cCEJ-LQgow4b"
      },
      "outputs": [],
      "source": [
        "dicionario = {}"
      ]
    },
    {
      "cell_type": "code",
      "source": [
        "dicionario = dict()"
      ],
      "metadata": {
        "id": "15RfJCGOvHsh"
      },
      "execution_count": 3,
      "outputs": []
    },
    {
      "cell_type": "markdown",
      "source": [
        "Como povoar um dicionario?"
      ],
      "metadata": {
        "id": "eEiW2MTmvNZP"
      }
    },
    {
      "cell_type": "code",
      "source": [
        "dicionario = {4:3, 5:2, 'teste':6}\n",
        "print(dicionario)"
      ],
      "metadata": {
        "colab": {
          "base_uri": "https://localhost:8080/"
        },
        "id": "MPxU2tOcvMvt",
        "outputId": "2d3dc072-807a-4630-8397-54b3f66e190f"
      },
      "execution_count": 5,
      "outputs": [
        {
          "output_type": "stream",
          "name": "stdout",
          "text": [
            "{4: 3, 5: 2, 'teste': 6}\n"
          ]
        }
      ]
    },
    {
      "cell_type": "code",
      "source": [
        "dicionario['teste']"
      ],
      "metadata": {
        "colab": {
          "base_uri": "https://localhost:8080/"
        },
        "id": "mnkYUbRzvbc3",
        "outputId": "3884cb81-6fc7-4e3f-919d-7f8dcf01dc71"
      },
      "execution_count": 6,
      "outputs": [
        {
          "output_type": "execute_result",
          "data": {
            "text/plain": [
              "6"
            ]
          },
          "metadata": {},
          "execution_count": 6
        }
      ]
    },
    {
      "cell_type": "code",
      "source": [
        "dicionario[5]"
      ],
      "metadata": {
        "colab": {
          "base_uri": "https://localhost:8080/"
        },
        "id": "UAXWdNTfvWvN",
        "outputId": "7a056c04-4deb-4224-f0e3-69e2a2a083a2"
      },
      "execution_count": 7,
      "outputs": [
        {
          "output_type": "execute_result",
          "data": {
            "text/plain": [
              "2"
            ]
          },
          "metadata": {},
          "execution_count": 7
        }
      ]
    },
    {
      "cell_type": "markdown",
      "source": [
        "Segunda maneira, leitura de valores da entrada\n",
        "\n",
        "Caso da lista de presença\n",
        "\n",
        "Entrada"
      ],
      "metadata": {
        "id": "PvGNmzj4vmXs"
      }
    },
    {
      "cell_type": "code",
      "source": [
        "dicionario = {}\n",
        "n_dias = int(input())\n",
        "\n",
        "for i in range(0,n_dias):\n",
        "    lista_presenca = input().split()\n",
        "\n",
        "    for nome in lista_presenca:\n",
        "\n",
        "        if nome in dicionario:\n",
        "            dicionario[nome]+=1\n",
        "        else:\n",
        "            dicionario[nome]=1"
      ],
      "metadata": {
        "colab": {
          "base_uri": "https://localhost:8080/"
        },
        "id": "p3MF_5cxvrlR",
        "outputId": "02052994-da7e-4d08-cd37-2d6f8d6c080c"
      },
      "execution_count": 9,
      "outputs": [
        {
          "name": "stdout",
          "output_type": "stream",
          "text": [
            "3\n",
            "carlos celestino juarez ana amarildo josefa elvis ana\n",
            "lurdinha carlos celestino jorge donato\n",
            "gabriel juarez ana lurdinha celestino donato josefa\n"
          ]
        }
      ]
    },
    {
      "cell_type": "code",
      "source": [
        "print(dicionario)"
      ],
      "metadata": {
        "colab": {
          "base_uri": "https://localhost:8080/"
        },
        "id": "paUNDe0twud7",
        "outputId": "6838c2ce-c52e-482d-e431-4e75648a2c4d"
      },
      "execution_count": 10,
      "outputs": [
        {
          "output_type": "stream",
          "name": "stdout",
          "text": [
            "{'carlos': 2, 'celestino': 3, 'juarez': 2, 'ana': 3, 'amarildo': 1, 'josefa': 2, 'elvis': 1, 'lurdinha': 2, 'jorge': 1, 'donato': 2, 'gabriel': 1}\n"
          ]
        }
      ]
    },
    {
      "cell_type": "markdown",
      "source": [
        "imprimindo bonitinho"
      ],
      "metadata": {
        "id": "4KEUWU6Tw0MU"
      }
    },
    {
      "cell_type": "code",
      "source": [
        "for chave in dicionario:\n",
        "    valor = dicionario[chave]\n",
        "    print(f'{chave}: {valor}')"
      ],
      "metadata": {
        "colab": {
          "base_uri": "https://localhost:8080/"
        },
        "id": "eePV9IK3w18a",
        "outputId": "800b387e-1e18-4b8e-ff3e-18a1eaccadb5"
      },
      "execution_count": 11,
      "outputs": [
        {
          "output_type": "stream",
          "name": "stdout",
          "text": [
            "carlos: 2\n",
            "celestino: 3\n",
            "juarez: 2\n",
            "ana: 3\n",
            "amarildo: 1\n",
            "josefa: 2\n",
            "elvis: 1\n",
            "lurdinha: 2\n",
            "jorge: 1\n",
            "donato: 2\n",
            "gabriel: 1\n"
          ]
        }
      ]
    },
    {
      "cell_type": "markdown",
      "source": [
        "calculando o dicionário invertido"
      ],
      "metadata": {
        "id": "uc0j6RxvxeFo"
      }
    },
    {
      "cell_type": "code",
      "source": [
        "dicionario_invertido = {}\n",
        "for chave in dicionario:\n",
        "    valor = dicionario[chave]\n",
        "    dicionario_invertido[valor] = chave"
      ],
      "metadata": {
        "id": "-8fa9wiVxg0r"
      },
      "execution_count": 12,
      "outputs": []
    },
    {
      "cell_type": "code",
      "source": [
        "print(dicionario_invertido)"
      ],
      "metadata": {
        "colab": {
          "base_uri": "https://localhost:8080/"
        },
        "id": "Jzsqi_-8xubO",
        "outputId": "c975ca55-aede-4469-ac7a-67db007c00bf"
      },
      "execution_count": 13,
      "outputs": [
        {
          "output_type": "stream",
          "name": "stdout",
          "text": [
            "{2: 'donato', 3: 'ana', 1: 'gabriel'}\n"
          ]
        }
      ]
    },
    {
      "cell_type": "markdown",
      "source": [
        "corrigindo..."
      ],
      "metadata": {
        "id": "g_nSRtOwytZx"
      }
    },
    {
      "cell_type": "code",
      "source": [
        "dicionario_invertido = {}\n",
        "for chave in dicionario:\n",
        "\n",
        "    valor = dicionario[chave]\n",
        "\n",
        "    if valor in dicionario_invertido:\n",
        "        dicionario_invertido[valor].append(chave)\n",
        "    else:\n",
        "        dicionario_invertido[valor] = [chave]"
      ],
      "metadata": {
        "id": "GlHfkVzLyuQK"
      },
      "execution_count": 14,
      "outputs": []
    },
    {
      "cell_type": "code",
      "source": [
        "print(dicionario_invertido[1])"
      ],
      "metadata": {
        "colab": {
          "base_uri": "https://localhost:8080/"
        },
        "id": "9X0NczeYzIG1",
        "outputId": "07ec7f1d-53cd-4c96-866a-08ec2a5c044f"
      },
      "execution_count": 16,
      "outputs": [
        {
          "output_type": "stream",
          "name": "stdout",
          "text": [
            "['amarildo', 'elvis', 'jorge', 'gabriel']\n"
          ]
        }
      ]
    },
    {
      "cell_type": "code",
      "source": [
        "print(dicionario_invertido[2])"
      ],
      "metadata": {
        "colab": {
          "base_uri": "https://localhost:8080/"
        },
        "id": "QOmIVTxtzSze",
        "outputId": "cd0e3601-b3b8-49f0-bad1-a933f2b78753"
      },
      "execution_count": 17,
      "outputs": [
        {
          "output_type": "stream",
          "name": "stdout",
          "text": [
            "['carlos', 'juarez', 'josefa', 'lurdinha', 'donato']\n"
          ]
        }
      ]
    },
    {
      "cell_type": "code",
      "source": [
        "print(dicionario_invertido[3])"
      ],
      "metadata": {
        "colab": {
          "base_uri": "https://localhost:8080/"
        },
        "id": "Suiuit2qzVlG",
        "outputId": "6b5124e3-8618-4bc5-a59f-824bdeee9e94"
      },
      "execution_count": 18,
      "outputs": [
        {
          "output_type": "stream",
          "name": "stdout",
          "text": [
            "['celestino', 'ana']\n"
          ]
        }
      ]
    },
    {
      "cell_type": "code",
      "source": [
        "for chave in range(1,3):\n",
        "    print(f'Freq {chave}')\n",
        "    print(dicionario_invertido[chave])"
      ],
      "metadata": {
        "colab": {
          "base_uri": "https://localhost:8080/"
        },
        "id": "cbGwnKlVzh23",
        "outputId": "2efc30a7-7546-4041-ed09-15bad3309ccb"
      },
      "execution_count": 21,
      "outputs": [
        {
          "output_type": "stream",
          "name": "stdout",
          "text": [
            "Freq 1\n",
            "['amarildo', 'elvis', 'jorge', 'gabriel']\n",
            "Freq 2\n",
            "['carlos', 'juarez', 'josefa', 'lurdinha', 'donato']\n"
          ]
        }
      ]
    },
    {
      "cell_type": "markdown",
      "source": [
        "Ordenação"
      ],
      "metadata": {
        "id": "MNqQZC21zyVO"
      }
    },
    {
      "cell_type": "code",
      "source": [
        "for chave in sorted(dicionario):\n",
        "    valor = dicionario[chave]\n",
        "    print(f'Chave: {chave} Valor: {valor}')"
      ],
      "metadata": {
        "colab": {
          "base_uri": "https://localhost:8080/"
        },
        "id": "BWCELZyozznT",
        "outputId": "c33f86c2-5f15-4498-a588-5673aaff9197"
      },
      "execution_count": 23,
      "outputs": [
        {
          "output_type": "stream",
          "name": "stdout",
          "text": [
            "Chave: amarildo Valor: 1\n",
            "Chave: ana Valor: 3\n",
            "Chave: carlos Valor: 2\n",
            "Chave: celestino Valor: 3\n",
            "Chave: donato Valor: 2\n",
            "Chave: elvis Valor: 1\n",
            "Chave: gabriel Valor: 1\n",
            "Chave: jorge Valor: 1\n",
            "Chave: josefa Valor: 2\n",
            "Chave: juarez Valor: 2\n",
            "Chave: lurdinha Valor: 2\n"
          ]
        }
      ]
    }
  ]
}