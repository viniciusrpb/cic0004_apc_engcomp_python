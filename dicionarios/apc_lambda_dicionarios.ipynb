{
  "nbformat": 4,
  "nbformat_minor": 0,
  "metadata": {
    "colab": {
      "name": "apc_lambda_dicionarios.ipynb",
      "provenance": [],
      "authorship_tag": "ABX9TyPRnhlb/VcLyKBCw30Al7Sx",
      "include_colab_link": true
    },
    "kernelspec": {
      "name": "python3",
      "display_name": "Python 3"
    },
    "language_info": {
      "name": "python"
    }
  },
  "cells": [
    {
      "cell_type": "markdown",
      "metadata": {
        "id": "view-in-github",
        "colab_type": "text"
      },
      "source": [
        "<a href=\"https://colab.research.google.com/github/viniciusrpb/cic0004_turma11_20221/blob/main/dicionarios/apc_lambda_dicionarios.ipynb\" target=\"_parent\"><img src=\"https://colab.research.google.com/assets/colab-badge.svg\" alt=\"Open In Colab\"/></a>"
      ]
    },
    {
      "cell_type": "code",
      "execution_count": 1,
      "metadata": {
        "id": "Ft7QuNXIGXw6"
      },
      "outputs": [],
      "source": [
        "def f(x):\n",
        "    return x*x"
      ]
    },
    {
      "cell_type": "code",
      "source": [
        "f(2)"
      ],
      "metadata": {
        "colab": {
          "base_uri": "https://localhost:8080/"
        },
        "id": "w2agkDpuGpWS",
        "outputId": "468cb5eb-3ded-412f-9ae9-caaad83b31d0"
      },
      "execution_count": 2,
      "outputs": [
        {
          "output_type": "execute_result",
          "data": {
            "text/plain": [
              "4"
            ]
          },
          "metadata": {},
          "execution_count": 2
        }
      ]
    },
    {
      "cell_type": "code",
      "source": [
        "y = lambda x : x*x"
      ],
      "metadata": {
        "id": "6x_Y0mbMG7uK"
      },
      "execution_count": 3,
      "outputs": []
    },
    {
      "cell_type": "code",
      "source": [
        "y"
      ],
      "metadata": {
        "colab": {
          "base_uri": "https://localhost:8080/"
        },
        "id": "aSyktHMlHDry",
        "outputId": "a112de60-41cb-41bc-e1d5-3ac31c9f5cc6"
      },
      "execution_count": 4,
      "outputs": [
        {
          "output_type": "execute_result",
          "data": {
            "text/plain": [
              "<function __main__.<lambda>(x)>"
            ]
          },
          "metadata": {},
          "execution_count": 4
        }
      ]
    },
    {
      "cell_type": "code",
      "source": [
        "y(2)"
      ],
      "metadata": {
        "colab": {
          "base_uri": "https://localhost:8080/"
        },
        "id": "qIyW8u3nHWx2",
        "outputId": "9aa59710-0bf8-4b99-a5a5-92ec06f09ab1"
      },
      "execution_count": 5,
      "outputs": [
        {
          "output_type": "execute_result",
          "data": {
            "text/plain": [
              "4"
            ]
          },
          "metadata": {},
          "execution_count": 5
        }
      ]
    },
    {
      "cell_type": "code",
      "source": [
        "leitura = lambda : [int(x) for x in input().split()]"
      ],
      "metadata": {
        "id": "twupszA5Hee1"
      },
      "execution_count": 6,
      "outputs": []
    },
    {
      "cell_type": "code",
      "source": [
        "y = leitura()"
      ],
      "metadata": {
        "colab": {
          "base_uri": "https://localhost:8080/"
        },
        "id": "kxWmH9CnH0Bu",
        "outputId": "36ab9479-1912-4915-fa2a-5e52c7108150"
      },
      "execution_count": 7,
      "outputs": [
        {
          "name": "stdout",
          "output_type": "stream",
          "text": [
            "4 7 9 2\n"
          ]
        }
      ]
    },
    {
      "cell_type": "code",
      "source": [
        "y"
      ],
      "metadata": {
        "colab": {
          "base_uri": "https://localhost:8080/"
        },
        "id": "SiDfYpXHH-pz",
        "outputId": "16398c03-b3f9-48cc-bee8-7b15136f1945"
      },
      "execution_count": 8,
      "outputs": [
        {
          "output_type": "execute_result",
          "data": {
            "text/plain": [
              "[4, 7, 9, 2]"
            ]
          },
          "metadata": {},
          "execution_count": 8
        }
      ]
    },
    {
      "cell_type": "code",
      "source": [
        "dicionario = {5:1, 6:8, 2:4, 3:5}"
      ],
      "metadata": {
        "id": "iXfYmvEPIO-j"
      },
      "execution_count": 9,
      "outputs": []
    },
    {
      "cell_type": "code",
      "source": [
        "items = dicionario.items()\n",
        "items"
      ],
      "metadata": {
        "colab": {
          "base_uri": "https://localhost:8080/"
        },
        "id": "pL71jF7Anfu8",
        "outputId": "4cee89be-9537-45b4-9453-91b2a8532161"
      },
      "execution_count": 10,
      "outputs": [
        {
          "output_type": "execute_result",
          "data": {
            "text/plain": [
              "dict_items([(5, 1), (6, 8), (2, 4), (3, 5)])"
            ]
          },
          "metadata": {},
          "execution_count": 10
        }
      ]
    },
    {
      "cell_type": "code",
      "source": [
        "for elem in items:\n",
        "    print(elem[0],elem[1])"
      ],
      "metadata": {
        "colab": {
          "base_uri": "https://localhost:8080/"
        },
        "id": "G_PY9etbo5nP",
        "outputId": "0549015f-71f5-47a5-eadf-f8755ef1c4ec"
      },
      "execution_count": 11,
      "outputs": [
        {
          "output_type": "stream",
          "name": "stdout",
          "text": [
            "5 1\n",
            "6 8\n",
            "2 4\n",
            "3 5\n"
          ]
        }
      ]
    },
    {
      "cell_type": "code",
      "source": [
        "novo_dic = dict(items)\n",
        "novo_dic"
      ],
      "metadata": {
        "colab": {
          "base_uri": "https://localhost:8080/"
        },
        "id": "JaaTcVIhpDDP",
        "outputId": "37f063df-3949-4ef0-ea74-c41b575e8803"
      },
      "execution_count": 12,
      "outputs": [
        {
          "output_type": "execute_result",
          "data": {
            "text/plain": [
              "{5: 1, 6: 8, 2: 4, 3: 5}"
            ]
          },
          "metadata": {},
          "execution_count": 12
        }
      ]
    },
    {
      "cell_type": "markdown",
      "source": [
        "## Aplicação: como ordenar um dicionário?\n",
        "\n",
        "Ordenação em relação às chaves"
      ],
      "metadata": {
        "id": "0sJA_sunpJiQ"
      }
    },
    {
      "cell_type": "code",
      "source": [
        "sorted_keys = sorted(dicionario)\n",
        "sorted_keys"
      ],
      "metadata": {
        "colab": {
          "base_uri": "https://localhost:8080/"
        },
        "id": "8IHA9Y3UpMfP",
        "outputId": "caa8a074-4028-49ec-8ed7-aca05ae5d63b"
      },
      "execution_count": 13,
      "outputs": [
        {
          "output_type": "execute_result",
          "data": {
            "text/plain": [
              "[2, 3, 5, 6]"
            ]
          },
          "metadata": {},
          "execution_count": 13
        }
      ]
    },
    {
      "cell_type": "markdown",
      "source": [
        "Apenas ordenação das chaves e retorno em uma lista... não é o que queremos... queremos receber o dicionário ordenado conforme as chaves.\n",
        "\n",
        "**Alternativa 1:** pegar a lista de chaves ordenadas e criar um novo dicionário utilizando o dicionário original. Crie um novo dicionário. Deve-se iterar sobre cada chave na lista ordenada e inserir os elementos consultando-se seus valores no dicionário original. "
      ],
      "metadata": {
        "id": "CnEC9ZrXpah-"
      }
    },
    {
      "cell_type": "code",
      "source": [
        "sorted_dic = {}\n",
        "for ch in sorted_keys:\n",
        "    sorted_dic[ch] = dicionario[ch]\n",
        "sorted_dic"
      ],
      "metadata": {
        "colab": {
          "base_uri": "https://localhost:8080/"
        },
        "id": "21JVUwQrpXDv",
        "outputId": "f100fef7-ce66-4f5e-ea06-9b9c7719da7c"
      },
      "execution_count": 14,
      "outputs": [
        {
          "output_type": "execute_result",
          "data": {
            "text/plain": [
              "{2: 4, 3: 5, 5: 1, 6: 8}"
            ]
          },
          "metadata": {},
          "execution_count": 14
        }
      ]
    },
    {
      "cell_type": "markdown",
      "source": [
        "**Alternativa 2:** \n"
      ],
      "metadata": {
        "id": "Iu8xYMRbqMLN"
      }
    },
    {
      "cell_type": "code",
      "source": [
        "lista_tuplas = [(x[1],x[0]) for x in dicionario.items()]\n",
        "lista_tuplas"
      ],
      "metadata": {
        "colab": {
          "base_uri": "https://localhost:8080/"
        },
        "id": "ErKmqA8Uq23b",
        "outputId": "8ca76f24-c6f0-487d-a172-d500938c63aa"
      },
      "execution_count": 15,
      "outputs": [
        {
          "output_type": "execute_result",
          "data": {
            "text/plain": [
              "[(1, 5), (8, 6), (4, 2), (5, 3)]"
            ]
          },
          "metadata": {},
          "execution_count": 15
        }
      ]
    },
    {
      "cell_type": "code",
      "source": [
        "pega_tupla_invertida = lambda x: (x[1],x[0])\n",
        "\n",
        "for x in dicionario.items():\n",
        "    print(pega_tupla_invertida(x))"
      ],
      "metadata": {
        "colab": {
          "base_uri": "https://localhost:8080/"
        },
        "id": "99prhWYku2sI",
        "outputId": "7ea73fae-c9a2-4d0b-e2c6-2d116e910095"
      },
      "execution_count": 16,
      "outputs": [
        {
          "output_type": "stream",
          "name": "stdout",
          "text": [
            "(1, 5)\n",
            "(8, 6)\n",
            "(4, 2)\n",
            "(5, 3)\n"
          ]
        }
      ]
    },
    {
      "cell_type": "markdown",
      "source": [
        "Agora que foi possível entender o funcionamento da função lambda para pegar elementos em uma lista de tuplas, vamos utilizar a função lambda no argumento *key* da função sorted:"
      ],
      "metadata": {
        "id": "qrco1iHa1WDk"
      }
    },
    {
      "cell_type": "code",
      "source": [
        "novo_dic = sorted(dicionario.items(),key = lambda x: (x[0],x[1]) )"
      ],
      "metadata": {
        "id": "b1Oi50RlrpF4"
      },
      "execution_count": 17,
      "outputs": []
    },
    {
      "cell_type": "code",
      "source": [
        "novo_dic"
      ],
      "metadata": {
        "colab": {
          "base_uri": "https://localhost:8080/"
        },
        "id": "DzZbXFwXr50X",
        "outputId": "24903a4b-5080-49df-ab47-737fee2d457c"
      },
      "execution_count": 18,
      "outputs": [
        {
          "output_type": "execute_result",
          "data": {
            "text/plain": [
              "[(2, 4), (3, 5), (5, 1), (6, 8)]"
            ]
          },
          "metadata": {},
          "execution_count": 18
        }
      ]
    },
    {
      "cell_type": "markdown",
      "source": [
        "novo_dic ainda não é um dicionário. Vamos utilizar a funçao dict vista anteriormente da seguinte maneira:"
      ],
      "metadata": {
        "id": "tCWo-Ru-1jgC"
      }
    },
    {
      "cell_type": "code",
      "source": [
        "novo_dic = dict(sorted(dicionario.items(),key = lambda x: (x[0],x[1]) ))\n",
        "novo_dic"
      ],
      "metadata": {
        "colab": {
          "base_uri": "https://localhost:8080/"
        },
        "id": "OIfBZDsZ1ica",
        "outputId": "e9053fb1-fd08-435e-af21-36b833c65384"
      },
      "execution_count": 19,
      "outputs": [
        {
          "output_type": "execute_result",
          "data": {
            "text/plain": [
              "{2: 4, 3: 5, 5: 1, 6: 8}"
            ]
          },
          "metadata": {},
          "execution_count": 19
        }
      ]
    },
    {
      "cell_type": "markdown",
      "source": [
        "veja que as chaves estão ordenadas! Agora vamos ordenar um dicionário em ordem crescentes dos valores das chaves. Vamos inverter a ordem de formação dos elementos de cada tupla, uma vez que a ordenação sempre ocorre em relação ao primeiro elemento:"
      ],
      "metadata": {
        "id": "VnmQ4MWY1uzx"
      }
    },
    {
      "cell_type": "code",
      "source": [
        "novo_dic = dict(sorted(dicionario.items(),key = lambda x: (x[1],x[0]) ))\n",
        "novo_dic"
      ],
      "metadata": {
        "colab": {
          "base_uri": "https://localhost:8080/"
        },
        "id": "d1H4jYBe1s0S",
        "outputId": "042635a4-3012-45ab-e560-c6841dbc32fd"
      },
      "execution_count": 20,
      "outputs": [
        {
          "output_type": "execute_result",
          "data": {
            "text/plain": [
              "{5: 1, 2: 4, 3: 5, 6: 8}"
            ]
          },
          "metadata": {},
          "execution_count": 20
        }
      ]
    }
  ]
}