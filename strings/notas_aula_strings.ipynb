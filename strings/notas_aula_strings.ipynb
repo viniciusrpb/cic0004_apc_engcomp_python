{
  "nbformat": 4,
  "nbformat_minor": 0,
  "metadata": {
    "colab": {
      "provenance": [],
      "authorship_tag": "ABX9TyMfT0kcUd+cYotar1fWlDLB",
      "include_colab_link": true
    },
    "kernelspec": {
      "name": "python3",
      "display_name": "Python 3"
    },
    "language_info": {
      "name": "python"
    }
  },
  "cells": [
    {
      "cell_type": "markdown",
      "metadata": {
        "id": "view-in-github",
        "colab_type": "text"
      },
      "source": [
        "<a href=\"https://colab.research.google.com/github/viniciusrpb/cic0004_apc_engcomp/blob/main/strings/notas_aula_strings.ipynb\" target=\"_parent\"><img src=\"https://colab.research.google.com/assets/colab-badge.svg\" alt=\"Open In Colab\"/></a>"
      ]
    },
    {
      "cell_type": "markdown",
      "source": [
        "# Capítulo 7 - Strings"
      ],
      "metadata": {
        "id": "3w3TmHlGaWg6"
      }
    },
    {
      "cell_type": "markdown",
      "source": [
        "Para ler uma string em Python, digite o comando input:"
      ],
      "metadata": {
        "id": "XzfGXHrgE_MI"
      }
    },
    {
      "cell_type": "code",
      "execution_count": 1,
      "metadata": {
        "colab": {
          "base_uri": "https://localhost:8080/"
        },
        "id": "KXjwEgmmXup0",
        "outputId": "52383b30-772d-4cae-8af4-b18319216baa"
      },
      "outputs": [
        {
          "name": "stdout",
          "output_type": "stream",
          "text": [
            "Athletico Paranaense\n"
          ]
        }
      ],
      "source": [
        "nome = input()"
      ]
    },
    {
      "cell_type": "code",
      "source": [
        "type(nome)"
      ],
      "metadata": {
        "colab": {
          "base_uri": "https://localhost:8080/"
        },
        "id": "XfLrhV3caibk",
        "outputId": "dcda56f2-4f05-432d-86a3-7a6974b8a728"
      },
      "execution_count": 2,
      "outputs": [
        {
          "output_type": "execute_result",
          "data": {
            "text/plain": [
              "str"
            ]
          },
          "metadata": {},
          "execution_count": 2
        }
      ]
    },
    {
      "cell_type": "code",
      "source": [
        "nome"
      ],
      "metadata": {
        "colab": {
          "base_uri": "https://localhost:8080/",
          "height": 36
        },
        "id": "MBlTCYR2amXI",
        "outputId": "d4fc4afa-6568-4162-cde4-4a2cc5741e24"
      },
      "execution_count": 3,
      "outputs": [
        {
          "output_type": "execute_result",
          "data": {
            "text/plain": [
              "'Athletico Paranaense'"
            ],
            "application/vnd.google.colaboratory.intrinsic+json": {
              "type": "string"
            }
          },
          "metadata": {},
          "execution_count": 3
        }
      ]
    },
    {
      "cell_type": "markdown",
      "source": [
        "## Processamento de Strings"
      ],
      "metadata": {
        "id": "NXutPxrqbXiQ"
      }
    },
    {
      "cell_type": "code",
      "source": [
        "word = \"Teste Natural\""
      ],
      "metadata": {
        "id": "F2tC2_bhbZ5c"
      },
      "execution_count": 4,
      "outputs": []
    },
    {
      "cell_type": "markdown",
      "source": [
        "Para pegar o tamanho de uma string, utilize a função len()"
      ],
      "metadata": {
        "id": "J6LX539zcJIC"
      }
    },
    {
      "cell_type": "code",
      "source": [
        "tam = len(word)\n",
        "print(tam)"
      ],
      "metadata": {
        "colab": {
          "base_uri": "https://localhost:8080/"
        },
        "id": "vJMXTS38cImg",
        "outputId": "ee46fb37-b501-4131-a5c8-60f0ee111acb"
      },
      "execution_count": 5,
      "outputs": [
        {
          "output_type": "stream",
          "name": "stdout",
          "text": [
            "13\n"
          ]
        }
      ]
    },
    {
      "cell_type": "markdown",
      "source": [
        "Essa aqui vocês já conhecem..."
      ],
      "metadata": {
        "id": "YOsr4ifAcSLK"
      }
    },
    {
      "cell_type": "code",
      "source": [
        "word.split()"
      ],
      "metadata": {
        "colab": {
          "base_uri": "https://localhost:8080/"
        },
        "id": "Ek1NzzvicUud",
        "outputId": "c58233f3-a752-4f98-ecc2-476e8ed73f9a"
      },
      "execution_count": 6,
      "outputs": [
        {
          "output_type": "execute_result",
          "data": {
            "text/plain": [
              "['Teste', 'Natural']"
            ]
          },
          "metadata": {},
          "execution_count": 6
        }
      ]
    },
    {
      "cell_type": "code",
      "source": [
        "word.split(\"o\")"
      ],
      "metadata": {
        "colab": {
          "base_uri": "https://localhost:8080/"
        },
        "id": "IIzX0uKZc7UR",
        "outputId": "026480b2-2c81-4943-9f42-fd1b666b2241"
      },
      "execution_count": 7,
      "outputs": [
        {
          "output_type": "execute_result",
          "data": {
            "text/plain": [
              "['Teste Natural']"
            ]
          },
          "metadata": {},
          "execution_count": 7
        }
      ]
    },
    {
      "cell_type": "markdown",
      "source": [
        "Percorrer uma string passando por cada caractere utilizando posições indexadas:\n",
        "\n",
        "word[index] : acessar o caractere da string word que está na posição index"
      ],
      "metadata": {
        "id": "a867cvw-dn1R"
      }
    },
    {
      "cell_type": "code",
      "source": [
        "for index in range(0,tam):\n",
        "    print(f'Posição: {index} Caractere: {word[index]}')"
      ],
      "metadata": {
        "colab": {
          "base_uri": "https://localhost:8080/"
        },
        "id": "LS9gdlb9dqP7",
        "outputId": "ed0a0a90-2559-4f55-8bb3-53b59498be78"
      },
      "execution_count": 8,
      "outputs": [
        {
          "output_type": "stream",
          "name": "stdout",
          "text": [
            "Posição: 0 Caractere: T\n",
            "Posição: 1 Caractere: e\n",
            "Posição: 2 Caractere: s\n",
            "Posição: 3 Caractere: t\n",
            "Posição: 4 Caractere: e\n",
            "Posição: 5 Caractere:  \n",
            "Posição: 6 Caractere: N\n",
            "Posição: 7 Caractere: a\n",
            "Posição: 8 Caractere: t\n",
            "Posição: 9 Caractere: u\n",
            "Posição: 10 Caractere: r\n",
            "Posição: 11 Caractere: a\n",
            "Posição: 12 Caractere: l\n"
          ]
        }
      ]
    },
    {
      "cell_type": "code",
      "source": [
        "index = 0\n",
        "while index < tam:\n",
        "    print(f'Posição: {index} Caractere: {word[index]}')\n",
        "    index += 1"
      ],
      "metadata": {
        "colab": {
          "base_uri": "https://localhost:8080/"
        },
        "id": "HqEpjmWyeCyU",
        "outputId": "50358ebe-0c11-40d4-f49c-1fe21fc4e228"
      },
      "execution_count": 9,
      "outputs": [
        {
          "output_type": "stream",
          "name": "stdout",
          "text": [
            "Posição: 0 Caractere: T\n",
            "Posição: 1 Caractere: e\n",
            "Posição: 2 Caractere: s\n",
            "Posição: 3 Caractere: t\n",
            "Posição: 4 Caractere: e\n",
            "Posição: 5 Caractere:  \n",
            "Posição: 6 Caractere: N\n",
            "Posição: 7 Caractere: a\n",
            "Posição: 8 Caractere: t\n",
            "Posição: 9 Caractere: u\n",
            "Posição: 10 Caractere: r\n",
            "Posição: 11 Caractere: a\n",
            "Posição: 12 Caractere: l\n"
          ]
        }
      ]
    },
    {
      "cell_type": "code",
      "source": [
        "for caractere in word:\n",
        "    print(caractere)"
      ],
      "metadata": {
        "colab": {
          "base_uri": "https://localhost:8080/"
        },
        "id": "dkMUAkWJfSE4",
        "outputId": "ed06f192-1fd6-4905-dfb5-aa828a6a6b88"
      },
      "execution_count": 10,
      "outputs": [
        {
          "output_type": "stream",
          "name": "stdout",
          "text": [
            "T\n",
            "e\n",
            "s\n",
            "t\n",
            "e\n",
            " \n",
            "N\n",
            "a\n",
            "t\n",
            "u\n",
            "r\n",
            "a\n",
            "l\n"
          ]
        }
      ]
    },
    {
      "cell_type": "markdown",
      "source": [
        "## Tabela ASCII\n",
        "\n",
        "Não precisa decorar a tabela ASCII, mas saber (ou saber consultar) os decimais de alguns caracteres mais importantes:\n",
        "\n",
        "\n",
        "\n",
        "*   '0' : decimal 48\n",
        "*   'A' : decimal 65\n",
        "*   'a' : decimal 97\n",
        "\n"
      ],
      "metadata": {
        "id": "LFVgrTRrikLN"
      }
    },
    {
      "cell_type": "code",
      "source": [
        "ord('0')"
      ],
      "metadata": {
        "colab": {
          "base_uri": "https://localhost:8080/"
        },
        "id": "MALYyEarijQ3",
        "outputId": "e325c346-7014-473d-dd1b-8d4353abaa5b"
      },
      "execution_count": 11,
      "outputs": [
        {
          "output_type": "execute_result",
          "data": {
            "text/plain": [
              "48"
            ]
          },
          "metadata": {},
          "execution_count": 11
        }
      ]
    },
    {
      "cell_type": "code",
      "source": [
        "ord('C')"
      ],
      "metadata": {
        "colab": {
          "base_uri": "https://localhost:8080/"
        },
        "id": "o1ZJ60tYi_fS",
        "outputId": "0c790314-11dd-4896-dfa5-476d73d0d6b5"
      },
      "execution_count": 12,
      "outputs": [
        {
          "output_type": "execute_result",
          "data": {
            "text/plain": [
              "67"
            ]
          },
          "metadata": {},
          "execution_count": 12
        }
      ]
    },
    {
      "cell_type": "code",
      "source": [
        "decimal = 100\n",
        "chr(decimal)"
      ],
      "metadata": {
        "colab": {
          "base_uri": "https://localhost:8080/",
          "height": 36
        },
        "id": "n3k0BufzjHWb",
        "outputId": "3629d208-f2e9-46fc-e00c-0e36a0443ae9"
      },
      "execution_count": 13,
      "outputs": [
        {
          "output_type": "execute_result",
          "data": {
            "text/plain": [
              "'d'"
            ],
            "application/vnd.google.colaboratory.intrinsic+json": {
              "type": "string"
            }
          },
          "metadata": {},
          "execution_count": 13
        }
      ]
    },
    {
      "cell_type": "code",
      "source": [
        "def nossaInt(string_num):\n",
        "\n",
        "    n = len(string_num)\n",
        "\n",
        "    num_dec = 0\n",
        "\n",
        "    potencia_dez = 1 # 10^0\n",
        "\n",
        "    # i = n-1, n-2, ..., 0\n",
        "    for i in range(n-1,-1,-1):\n",
        "        digito = ord(string_num[i])-ord('0') # converte caractere em digito numerico\n",
        "        termo = digito*potencia_dez\n",
        "        num_dec = num_dec + termo\n",
        "        potencia_dez = potencia_dez*10\n",
        "\n",
        "    return num_dec"
      ],
      "metadata": {
        "id": "o5DBKh-vkbIY"
      },
      "execution_count": 14,
      "outputs": []
    },
    {
      "cell_type": "code",
      "source": [
        "dec = nossaInt(\"777754896\")\n",
        "print(dec)"
      ],
      "metadata": {
        "colab": {
          "base_uri": "https://localhost:8080/"
        },
        "id": "64X4o8CYlzZv",
        "outputId": "0abe4419-98d2-46db-ba53-21afcc5051f4"
      },
      "execution_count": 15,
      "outputs": [
        {
          "output_type": "stream",
          "name": "stdout",
          "text": [
            "777754896\n"
          ]
        }
      ]
    },
    {
      "cell_type": "code",
      "source": [
        "word"
      ],
      "metadata": {
        "colab": {
          "base_uri": "https://localhost:8080/",
          "height": 36
        },
        "id": "gYF4pFOZrCDU",
        "outputId": "8ece6fb3-c3ca-45c1-e77c-1a92508f2b21"
      },
      "execution_count": 16,
      "outputs": [
        {
          "output_type": "execute_result",
          "data": {
            "text/plain": [
              "'Teste Natural'"
            ],
            "application/vnd.google.colaboratory.intrinsic+json": {
              "type": "string"
            }
          },
          "metadata": {},
          "execution_count": 16
        }
      ]
    },
    {
      "cell_type": "code",
      "source": [
        "word[1]"
      ],
      "metadata": {
        "colab": {
          "base_uri": "https://localhost:8080/",
          "height": 36
        },
        "id": "mes_h_bNrGdo",
        "outputId": "0fc2f264-19ef-4be9-c9c4-85fdadb49e6a"
      },
      "execution_count": 17,
      "outputs": [
        {
          "output_type": "execute_result",
          "data": {
            "text/plain": [
              "'e'"
            ],
            "application/vnd.google.colaboratory.intrinsic+json": {
              "type": "string"
            }
          },
          "metadata": {},
          "execution_count": 17
        }
      ]
    },
    {
      "cell_type": "markdown",
      "source": [
        "Podemos pegar intervalos de caracteres:\n",
        "\n",
        "word[a,b] pegar todos os caracteres que estão no intervalo: [a,b)"
      ],
      "metadata": {
        "id": "f_mweYbXrMsx"
      }
    },
    {
      "cell_type": "code",
      "source": [
        "word[0:2]"
      ],
      "metadata": {
        "colab": {
          "base_uri": "https://localhost:8080/",
          "height": 36
        },
        "id": "0g5czBlnrOe5",
        "outputId": "c1000d8b-bda1-46a5-8673-da5583b5d8bc"
      },
      "execution_count": 18,
      "outputs": [
        {
          "output_type": "execute_result",
          "data": {
            "text/plain": [
              "'Te'"
            ],
            "application/vnd.google.colaboratory.intrinsic+json": {
              "type": "string"
            }
          },
          "metadata": {},
          "execution_count": 18
        }
      ]
    },
    {
      "cell_type": "code",
      "source": [
        "word[0:18]"
      ],
      "metadata": {
        "colab": {
          "base_uri": "https://localhost:8080/",
          "height": 36
        },
        "id": "rBm7NcFlrT0x",
        "outputId": "6ae2cc80-1379-464b-de3e-7b3fd80c171b"
      },
      "execution_count": 19,
      "outputs": [
        {
          "output_type": "execute_result",
          "data": {
            "text/plain": [
              "'Teste Natural'"
            ],
            "application/vnd.google.colaboratory.intrinsic+json": {
              "type": "string"
            }
          },
          "metadata": {},
          "execution_count": 19
        }
      ]
    },
    {
      "cell_type": "code",
      "source": [
        "word[3:7]"
      ],
      "metadata": {
        "colab": {
          "base_uri": "https://localhost:8080/",
          "height": 36
        },
        "id": "093pd-uUreB9",
        "outputId": "4467895b-e8b7-4130-8364-bf5841de371f"
      },
      "execution_count": 20,
      "outputs": [
        {
          "output_type": "execute_result",
          "data": {
            "text/plain": [
              "'te N'"
            ],
            "application/vnd.google.colaboratory.intrinsic+json": {
              "type": "string"
            }
          },
          "metadata": {},
          "execution_count": 20
        }
      ]
    },
    {
      "cell_type": "code",
      "source": [
        "word[:-6]"
      ],
      "metadata": {
        "colab": {
          "base_uri": "https://localhost:8080/",
          "height": 36
        },
        "id": "I9FIk4TDrm9r",
        "outputId": "ab6c3203-7230-483f-847a-2490520c0f04"
      },
      "execution_count": 21,
      "outputs": [
        {
          "output_type": "execute_result",
          "data": {
            "text/plain": [
              "'Teste N'"
            ],
            "application/vnd.google.colaboratory.intrinsic+json": {
              "type": "string"
            }
          },
          "metadata": {},
          "execution_count": 21
        }
      ]
    },
    {
      "cell_type": "markdown",
      "source": [
        "pegando-se os caracteres alternadamente, isto é, a cada dois caracteres"
      ],
      "metadata": {
        "id": "MmB85Sg0rxAs"
      }
    },
    {
      "cell_type": "code",
      "source": [
        "word[0:18:2]"
      ],
      "metadata": {
        "colab": {
          "base_uri": "https://localhost:8080/",
          "height": 36
        },
        "id": "4Ige6GN5rwO8",
        "outputId": "19142b80-bd03-4692-c335-bd4c11e72f11"
      },
      "execution_count": 22,
      "outputs": [
        {
          "output_type": "execute_result",
          "data": {
            "text/plain": [
              "'TseNtrl'"
            ],
            "application/vnd.google.colaboratory.intrinsic+json": {
              "type": "string"
            }
          },
          "metadata": {},
          "execution_count": 22
        }
      ]
    },
    {
      "cell_type": "code",
      "source": [
        "a = 1\n",
        "b = 10\n",
        "t = 2\n",
        "word[a:b:t]"
      ],
      "metadata": {
        "colab": {
          "base_uri": "https://localhost:8080/",
          "height": 36
        },
        "id": "K3Sk69HasGR0",
        "outputId": "e61f9dbd-87ff-445d-9aca-a1dcba4b6ee7"
      },
      "execution_count": 23,
      "outputs": [
        {
          "output_type": "execute_result",
          "data": {
            "text/plain": [
              "'et au'"
            ],
            "application/vnd.google.colaboratory.intrinsic+json": {
              "type": "string"
            }
          },
          "metadata": {},
          "execution_count": 23
        }
      ]
    },
    {
      "cell_type": "markdown",
      "source": [
        "operador de concatenação: +"
      ],
      "metadata": {
        "id": "VESDY02WtO0r"
      }
    },
    {
      "cell_type": "code",
      "source": [
        "str1 = \"Athletico\"\n",
        "str2 = \"Paranaense\"\n",
        "\n",
        "str3 = str1+\" \"+str2\n",
        "print(str3)"
      ],
      "metadata": {
        "colab": {
          "base_uri": "https://localhost:8080/"
        },
        "id": "wayUl-wYtQn_",
        "outputId": "fef4c7e0-aeb6-4c71-cb2f-968144780287"
      },
      "execution_count": 24,
      "outputs": [
        {
          "output_type": "stream",
          "name": "stdout",
          "text": [
            "Athletico Paranaense\n"
          ]
        }
      ]
    },
    {
      "cell_type": "code",
      "source": [
        "str1 = str1+\" \"+str2\n",
        "print(str1)"
      ],
      "metadata": {
        "colab": {
          "base_uri": "https://localhost:8080/"
        },
        "id": "Q4q7W1Ectngm",
        "outputId": "f65c2a14-e42b-4054-c989-e1b598f3b4a2"
      },
      "execution_count": 25,
      "outputs": [
        {
          "output_type": "stream",
          "name": "stdout",
          "text": [
            "Athletico Paranaense\n"
          ]
        }
      ]
    },
    {
      "cell_type": "markdown",
      "source": [
        "Strings são imutáveis. Caso queiramos alterar uma string, devemos gerar uma nova string a partir da string original com a alteração realizada.\n",
        "\n",
        "Por exemplo, alterar o caractere na posição $pos$ de uma string pelo caractere c"
      ],
      "metadata": {
        "id": "QIUP-IA1sbAg"
      }
    },
    {
      "cell_type": "code",
      "source": [
        "def alteraCaractere(string,pos,c):\n",
        "    nova_string = \"\"\n",
        "\n",
        "    tam = len(string)\n",
        "\n",
        "    index = 0\n",
        "    while index < tam:\n",
        "\n",
        "        if index == pos:\n",
        "            nova_string=nova_string+c\n",
        "        else:\n",
        "            nova_string=nova_string+string[index]\n",
        "\n",
        "        index+=1\n",
        "\n",
        "    return nova_string"
      ],
      "metadata": {
        "id": "x2hhLNbdsO9u"
      },
      "execution_count": 26,
      "outputs": []
    },
    {
      "cell_type": "code",
      "source": [
        "pos = 4\n",
        "c = 'a'\n",
        "nstr = alteraCaractere(word,pos,c)"
      ],
      "metadata": {
        "id": "UHG7plRmvPQp"
      },
      "execution_count": 27,
      "outputs": []
    },
    {
      "cell_type": "code",
      "source": [
        "nstr"
      ],
      "metadata": {
        "colab": {
          "base_uri": "https://localhost:8080/",
          "height": 36
        },
        "id": "KRRP0tixvYrB",
        "outputId": "ce94b520-7c87-49b6-d0f5-af5f8cb45a49"
      },
      "execution_count": 28,
      "outputs": [
        {
          "output_type": "execute_result",
          "data": {
            "text/plain": [
              "'Testa Natural'"
            ],
            "application/vnd.google.colaboratory.intrinsic+json": {
              "type": "string"
            }
          },
          "metadata": {},
          "execution_count": 28
        }
      ]
    },
    {
      "cell_type": "code",
      "source": [
        "def alteraCaractere2(string,pos,c):\n",
        "    nova_string = \"\"\n",
        "\n",
        "    tam = len(string)\n",
        "\n",
        "    index = 0\n",
        "    while index < pos:\n",
        "        nova_string=nova_string+string[index]\n",
        "        index+=1\n",
        "\n",
        "    nova_string=nova_string+c\n",
        "    index+=1\n",
        "\n",
        "    while index < tam:\n",
        "        nova_string=nova_string+string[index]\n",
        "        index+=1\n",
        "\n",
        "    return nova_string"
      ],
      "metadata": {
        "id": "cUrXjcWNwDLM"
      },
      "execution_count": 29,
      "outputs": []
    },
    {
      "cell_type": "markdown",
      "source": [
        "Exercício para casa: implementar uma função alteraCaractere3 utilizando notação compacta indexada\n",
        "\n",
        "\"word[a:b]\""
      ],
      "metadata": {
        "id": "e5Ocdax5wvK-"
      }
    },
    {
      "cell_type": "code",
      "source": [
        "pos = 4\n",
        "c = 'a'\n",
        "nstr = alteraCaractere2(word,pos,c)"
      ],
      "metadata": {
        "id": "xR28sS2EwmaJ"
      },
      "execution_count": 30,
      "outputs": []
    },
    {
      "cell_type": "code",
      "source": [
        "nstr"
      ],
      "metadata": {
        "colab": {
          "base_uri": "https://localhost:8080/",
          "height": 36
        },
        "id": "GSspcsLWwo42",
        "outputId": "426e897c-759a-4c32-d2af-1db628fb7567"
      },
      "execution_count": 31,
      "outputs": [
        {
          "output_type": "execute_result",
          "data": {
            "text/plain": [
              "'Testa Natural'"
            ],
            "application/vnd.google.colaboratory.intrinsic+json": {
              "type": "string"
            }
          },
          "metadata": {},
          "execution_count": 31
        }
      ]
    },
    {
      "cell_type": "markdown",
      "source": [
        "método replace"
      ],
      "metadata": {
        "id": "1gIhZfYpvil1"
      }
    },
    {
      "cell_type": "code",
      "source": [
        "word.replace(\"Petronio\",\"Peronio\")"
      ],
      "metadata": {
        "colab": {
          "base_uri": "https://localhost:8080/",
          "height": 36
        },
        "id": "7cB1_FmivkWW",
        "outputId": "38571ca1-64c0-465a-c5ab-091d642f8167"
      },
      "execution_count": 32,
      "outputs": [
        {
          "output_type": "execute_result",
          "data": {
            "text/plain": [
              "'Teste Natural'"
            ],
            "application/vnd.google.colaboratory.intrinsic+json": {
              "type": "string"
            }
          },
          "metadata": {},
          "execution_count": 32
        }
      ]
    },
    {
      "cell_type": "markdown",
      "source": [
        "## Funções adicionais"
      ],
      "metadata": {
        "id": "-_X3ZAC5xAW5"
      }
    },
    {
      "cell_type": "code",
      "source": [
        "word.lower()"
      ],
      "metadata": {
        "colab": {
          "base_uri": "https://localhost:8080/",
          "height": 36
        },
        "id": "Hto0kiXOxCGI",
        "outputId": "e1981ee4-ebc7-4c2c-cc81-25812ab49ad4"
      },
      "execution_count": 33,
      "outputs": [
        {
          "output_type": "execute_result",
          "data": {
            "text/plain": [
              "'teste natural'"
            ],
            "application/vnd.google.colaboratory.intrinsic+json": {
              "type": "string"
            }
          },
          "metadata": {},
          "execution_count": 33
        }
      ]
    },
    {
      "cell_type": "code",
      "source": [
        "word.upper()"
      ],
      "metadata": {
        "colab": {
          "base_uri": "https://localhost:8080/",
          "height": 36
        },
        "id": "H08de2fMxH1H",
        "outputId": "a74e7a11-0211-4da9-eb47-0dd4523b7485"
      },
      "execution_count": 34,
      "outputs": [
        {
          "output_type": "execute_result",
          "data": {
            "text/plain": [
              "'TESTE NATURAL'"
            ],
            "application/vnd.google.colaboratory.intrinsic+json": {
              "type": "string"
            }
          },
          "metadata": {},
          "execution_count": 34
        }
      ]
    },
    {
      "cell_type": "code",
      "source": [
        "num = '214'\n",
        "num.isdigit()"
      ],
      "metadata": {
        "colab": {
          "base_uri": "https://localhost:8080/"
        },
        "id": "6BKI-LdQxKCf",
        "outputId": "dee09faa-b8a0-438c-9492-fcffce95e0f4"
      },
      "execution_count": 35,
      "outputs": [
        {
          "output_type": "execute_result",
          "data": {
            "text/plain": [
              "True"
            ]
          },
          "metadata": {},
          "execution_count": 35
        }
      ]
    },
    {
      "cell_type": "code",
      "source": [
        "num = '214n'\n",
        "num.isdigit()"
      ],
      "metadata": {
        "colab": {
          "base_uri": "https://localhost:8080/"
        },
        "id": "tPqsdGhtxXp3",
        "outputId": "117fb876-f61b-462d-fbc2-3a862860cd16"
      },
      "execution_count": 36,
      "outputs": [
        {
          "output_type": "execute_result",
          "data": {
            "text/plain": [
              "False"
            ]
          },
          "metadata": {},
          "execution_count": 36
        }
      ]
    },
    {
      "cell_type": "code",
      "source": [
        "num = '214.5'\n",
        "num.isdigit()"
      ],
      "metadata": {
        "colab": {
          "base_uri": "https://localhost:8080/"
        },
        "id": "HOTTEk9JxbVM",
        "outputId": "2af31699-895e-4d19-cacc-b7176be702e1"
      },
      "execution_count": 37,
      "outputs": [
        {
          "output_type": "execute_result",
          "data": {
            "text/plain": [
              "False"
            ]
          },
          "metadata": {},
          "execution_count": 37
        }
      ]
    },
    {
      "cell_type": "code",
      "source": [
        "num = '214.5'\n",
        "num.isalnum()"
      ],
      "metadata": {
        "colab": {
          "base_uri": "https://localhost:8080/"
        },
        "id": "zJ66Dtdjxgfw",
        "outputId": "8cdb6312-c11e-4cda-9d24-33c113b9e265"
      },
      "execution_count": 38,
      "outputs": [
        {
          "output_type": "execute_result",
          "data": {
            "text/plain": [
              "False"
            ]
          },
          "metadata": {},
          "execution_count": 38
        }
      ]
    },
    {
      "cell_type": "code",
      "source": [
        "num = '214n'\n",
        "num.isalnum()"
      ],
      "metadata": {
        "colab": {
          "base_uri": "https://localhost:8080/"
        },
        "id": "P_A6r7Suxo34",
        "outputId": "0be66cdc-4a95-4759-a4ed-6f3ce445f505"
      },
      "execution_count": 39,
      "outputs": [
        {
          "output_type": "execute_result",
          "data": {
            "text/plain": [
              "True"
            ]
          },
          "metadata": {},
          "execution_count": 39
        }
      ]
    },
    {
      "cell_type": "markdown",
      "source": [
        "método count: retorna a quantidade de ocorrências da string passada como argumento"
      ],
      "metadata": {
        "id": "LRjUktqxyRhi"
      }
    },
    {
      "cell_type": "code",
      "source": [
        "word.count(\"ni\")"
      ],
      "metadata": {
        "colab": {
          "base_uri": "https://localhost:8080/"
        },
        "id": "6zQwsvACxwE3",
        "outputId": "3178229a-6c6a-4b02-da16-9a60697c5990"
      },
      "execution_count": 40,
      "outputs": [
        {
          "output_type": "execute_result",
          "data": {
            "text/plain": [
              "0"
            ]
          },
          "metadata": {},
          "execution_count": 40
        }
      ]
    },
    {
      "cell_type": "markdown",
      "source": [
        "método find: encontra a primeira ocorrencia da string passada como argumento na string original e retorna sua posição"
      ],
      "metadata": {
        "id": "lUcWUCK_ynjF"
      }
    },
    {
      "cell_type": "code",
      "source": [
        "word.find(\"ni\")"
      ],
      "metadata": {
        "colab": {
          "base_uri": "https://localhost:8080/"
        },
        "id": "pjhygPfbyjDE",
        "outputId": "37d5a3ea-0d7d-41c2-9a33-31e8d2a94796"
      },
      "execution_count": 41,
      "outputs": [
        {
          "output_type": "execute_result",
          "data": {
            "text/plain": [
              "-1"
            ]
          },
          "metadata": {},
          "execution_count": 41
        }
      ]
    },
    {
      "cell_type": "markdown",
      "source": [
        "Exercício: fazer a função nossaString, que converte de inteiro para string:\n",
        "\n",
        "- operador \"+\" para concatenação\n",
        "- método das divisões sucessivas (divisor 10) e a função chr()"
      ],
      "metadata": {
        "id": "qdCgh-I7y01K"
      }
    },
    {
      "cell_type": "code",
      "source": [
        "chr(49)"
      ],
      "metadata": {
        "colab": {
          "base_uri": "https://localhost:8080/",
          "height": 36
        },
        "id": "zf3_-RrzzB_V",
        "outputId": "d0d20d92-6b4f-4a1b-ec68-cc125a904457"
      },
      "execution_count": 42,
      "outputs": [
        {
          "output_type": "execute_result",
          "data": {
            "text/plain": [
              "'1'"
            ],
            "application/vnd.google.colaboratory.intrinsic+json": {
              "type": "string"
            }
          },
          "metadata": {},
          "execution_count": 42
        }
      ]
    }
  ]
}