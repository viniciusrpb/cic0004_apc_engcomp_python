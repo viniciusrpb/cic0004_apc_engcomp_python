{
  "nbformat": 4,
  "nbformat_minor": 0,
  "metadata": {
    "colab": {
      "provenance": [],
      "authorship_tag": "ABX9TyNXjFAB8tc4XKY8iZNVLsJJ",
      "include_colab_link": true
    },
    "kernelspec": {
      "name": "python3",
      "display_name": "Python 3"
    },
    "language_info": {
      "name": "python"
    }
  },
  "cells": [
    {
      "cell_type": "markdown",
      "metadata": {
        "id": "view-in-github",
        "colab_type": "text"
      },
      "source": [
        "<a href=\"https://colab.research.google.com/github/viniciusrpb/cic0007_icc_noturno/blob/main/condicionais/highlights.ipynb\" target=\"_parent\"><img src=\"https://colab.research.google.com/assets/colab-badge.svg\" alt=\"Open In Colab\"/></a>"
      ]
    },
    {
      "cell_type": "markdown",
      "source": [
        "# Lição 2: Estruturas Condicionais\n",
        "\n",
        "Estruturas condicionais permitem que ocorram desvios no fluxo natural (sequencial) de execução do código-fonte.\n",
        "\n",
        "O tipo mais simples é a estrutura condicional simples (if):"
      ],
      "metadata": {
        "id": "KwcZy9P3P3ek"
      }
    },
    {
      "cell_type": "code",
      "execution_count": null,
      "metadata": {
        "id": "Cx7DaLteNgt5"
      },
      "outputs": [],
      "source": [
        "if COMPARACAO :\n",
        "    # esse comandos sao executados se,\n",
        "    # e somente se COMPARACAO for satisfeita, isto é, se for verdadeira"
      ]
    },
    {
      "cell_type": "markdown",
      "source": [
        "em que COMPARACAO é uma expressão comparativa (por exemplo, uma comparação matemática) que retorna um valor verdade que afeta a execução de comandos e instruções no código-fonte.\n",
        "\n",
        "A seguir, listamos exemplos de comparações em condicionais. Todas as comparações são operações binárias, isto é, recebem dois operandos e um operador comparativo, que pode ser matemático ou lógico.\n",
        "\n",
        "Uma comparação retorna o valor verdade *True* se ela for satisfeita (verdadeira) ou *False* caso contrário.\n",
        "\n",
        "\n",
        "\n"
      ],
      "metadata": {
        "id": "xqRwAVvXSA1e"
      }
    },
    {
      "cell_type": "code",
      "source": [
        "x = 3\n",
        "y = 2"
      ],
      "metadata": {
        "id": "jHTBFou5SDx9"
      },
      "execution_count": null,
      "outputs": []
    },
    {
      "cell_type": "markdown",
      "source": [
        "## 4.1. Operadores de Comparação Matemática\n",
        "\n",
        "### Operador \"Igualdade\" (==)"
      ],
      "metadata": {
        "id": "H0-Iz0CIWlkS"
      }
    },
    {
      "cell_type": "code",
      "source": [
        "ans = x==y\n",
        "\n",
        "print(f\"{x} == {y}? {ans}\")\n",
        "\n",
        "ans = x==3\n",
        "\n",
        "print(f\"{x} == 3? {ans}\")"
      ],
      "metadata": {
        "colab": {
          "base_uri": "https://localhost:8080/"
        },
        "id": "FlqzeKBWWm1Z",
        "outputId": "d9c31592-d9ee-43ed-bbb5-88240a17b557"
      },
      "execution_count": null,
      "outputs": [
        {
          "output_type": "stream",
          "name": "stdout",
          "text": [
            "3 == 2? False\n",
            "3 == 3? True\n"
          ]
        }
      ]
    },
    {
      "cell_type": "markdown",
      "source": [
        "### Operador \"Diferente\" (!=)\n"
      ],
      "metadata": {
        "id": "4qXMgXhIXmhd"
      }
    },
    {
      "cell_type": "code",
      "source": [
        "ans = x!=y\n",
        "\n",
        "print(f\"{x} != {y}? {ans}\")\n",
        "\n",
        "ans = x!=3\n",
        "\n",
        "print(f\"{x} != 3? {ans}\")"
      ],
      "metadata": {
        "colab": {
          "base_uri": "https://localhost:8080/"
        },
        "id": "_8ODVTkyW0CR",
        "outputId": "245cb2c0-fa7a-41a9-fb29-e68414c384bf"
      },
      "execution_count": null,
      "outputs": [
        {
          "output_type": "stream",
          "name": "stdout",
          "text": [
            "3 != 2? True\n",
            "3 != 3? False\n"
          ]
        }
      ]
    },
    {
      "cell_type": "markdown",
      "source": [
        "### Operador \"Maior\" (>)"
      ],
      "metadata": {
        "id": "YUiTZ0Z_W5EA"
      }
    },
    {
      "cell_type": "code",
      "source": [
        "ans = x>y\n",
        "\n",
        "print(f\"{x} > {y}? {ans}\")\n",
        "\n",
        "ans = x>3\n",
        "\n",
        "print(f\"{x} > 3? {ans}\")"
      ],
      "metadata": {
        "colab": {
          "base_uri": "https://localhost:8080/"
        },
        "id": "HSBbCWC7X7uU",
        "outputId": "b5f52b66-881a-404b-d921-b855cc979110"
      },
      "execution_count": null,
      "outputs": [
        {
          "output_type": "stream",
          "name": "stdout",
          "text": [
            "3 > 2? True\n",
            "3 > 3? False\n"
          ]
        }
      ]
    },
    {
      "cell_type": "markdown",
      "source": [
        "### Operador \"Maior ou igual\" (>=)"
      ],
      "metadata": {
        "id": "oDaw5N8UYSGL"
      }
    },
    {
      "cell_type": "code",
      "source": [
        "ans = x>=y\n",
        "\n",
        "print(f\"{x} > {y}? {ans}\")\n",
        "\n",
        "ans = x>=3\n",
        "\n",
        "print(f\"{x} >= 3? {ans}\")"
      ],
      "metadata": {
        "colab": {
          "base_uri": "https://localhost:8080/"
        },
        "id": "TGa3h3O-YSNi",
        "outputId": "4c0392de-49be-4257-9d89-e4a2c02e28b0"
      },
      "execution_count": null,
      "outputs": [
        {
          "output_type": "stream",
          "name": "stdout",
          "text": [
            "3 > 2? True\n",
            "3 >= 3? True\n"
          ]
        }
      ]
    },
    {
      "cell_type": "markdown",
      "source": [
        "### Operador \"Menor\" (<)"
      ],
      "metadata": {
        "id": "UOcCMo8QYYhC"
      }
    },
    {
      "cell_type": "code",
      "source": [
        "ans = x<y\n",
        "\n",
        "print(f\"{x} < {y}? {ans}\")\n",
        "\n",
        "ans = x<4\n",
        "\n",
        "print(f\"{x} < 4? {ans}\")"
      ],
      "metadata": {
        "colab": {
          "base_uri": "https://localhost:8080/"
        },
        "id": "pB-uLg3QYaoZ",
        "outputId": "01053df0-4a28-4373-fded-646a2e5eff56"
      },
      "execution_count": null,
      "outputs": [
        {
          "output_type": "stream",
          "name": "stdout",
          "text": [
            "3 < 2? False\n",
            "3 < 4? True\n"
          ]
        }
      ]
    },
    {
      "cell_type": "markdown",
      "source": [
        "### Operador \"Menor ou igual\" (<=)"
      ],
      "metadata": {
        "id": "uOIxA_QnYeQh"
      }
    },
    {
      "cell_type": "code",
      "source": [
        "ans = x<=y\n",
        "\n",
        "print(f\"{x} <= {y}? {ans}\")\n",
        "\n",
        "ans = x<=3\n",
        "\n",
        "print(f\"{x} <= 3? {ans}\")"
      ],
      "metadata": {
        "colab": {
          "base_uri": "https://localhost:8080/"
        },
        "id": "w08qdhD5YfrK",
        "outputId": "8159b08c-d329-47d6-a857-cf5781447039"
      },
      "execution_count": null,
      "outputs": [
        {
          "output_type": "stream",
          "name": "stdout",
          "text": [
            "3 <= 2? False\n",
            "3 <= 3? True\n"
          ]
        }
      ]
    },
    {
      "cell_type": "markdown",
      "source": [
        "## 2.2. Operadores Lógicos\n",
        "\n",
        "Os operadores lógicos\n",
        "\n",
        "\n",
        "\n",
        "\n"
      ],
      "metadata": {
        "id": "w6pmfzyQcLLW"
      }
    },
    {
      "cell_type": "code",
      "source": [
        "t = True\n",
        "f = False"
      ],
      "metadata": {
        "id": "K5JzwgImc8eV"
      },
      "execution_count": null,
      "outputs": []
    },
    {
      "cell_type": "markdown",
      "source": [
        "### Operador NOT (not)\n",
        "\n",
        "O operador unário NOT apenas inverte o valor verdade de uma variável *A* ou de uma constante booleana (True ou False):\n",
        "\n",
        "| A | not A|\n",
        "|---|---|\n",
        "| 0 | 1 |\n",
        "| 1 | 1 |"
      ],
      "metadata": {
        "id": "XGyClaqQdID0"
      }
    },
    {
      "cell_type": "code",
      "source": [
        "ans = not t\n",
        "\n",
        "print(f\"not {t} = {ans}\")"
      ],
      "metadata": {
        "colab": {
          "base_uri": "https://localhost:8080/"
        },
        "id": "NE9C68_ydIUk",
        "outputId": "6e88afd9-e8a3-4c61-844b-66069b730a5d"
      },
      "execution_count": null,
      "outputs": [
        {
          "output_type": "stream",
          "name": "stdout",
          "text": [
            "not True = False\n"
          ]
        }
      ]
    },
    {
      "cell_type": "code",
      "source": [
        "ans = not (x > y)\n",
        "\n",
        "print(f\"not ( {x} > {y} ) = {ans}\")\n"
      ],
      "metadata": {
        "colab": {
          "base_uri": "https://localhost:8080/"
        },
        "id": "S9QPDzl9dQZS",
        "outputId": "09c38725-7da9-44c1-c197-264743799dff"
      },
      "execution_count": null,
      "outputs": [
        {
          "output_type": "stream",
          "name": "stdout",
          "text": [
            "not ( 3 > 2 ) = False\n"
          ]
        }
      ]
    },
    {
      "cell_type": "markdown",
      "source": [
        "### Operador AND (and)\n",
        "\n",
        "O operador binário AND possui a seguinte tabela verdade:\n",
        "\n",
        "| A | B | A and B|\n",
        "|---|---|--------|\n",
        "| 0 | 0 | 0 |\n",
        "| 0 | 1 | 0 |\n",
        "| 1 | 0 | 0 |\n",
        "| 1 | 1 | 1 |"
      ],
      "metadata": {
        "id": "uc5Pqyp1crH-"
      }
    },
    {
      "cell_type": "code",
      "source": [
        "ans = t and f\n",
        "\n",
        "print(f\"{t} and {f} = {ans}\")"
      ],
      "metadata": {
        "colab": {
          "base_uri": "https://localhost:8080/"
        },
        "id": "6aP8ykiacKcG",
        "outputId": "d83e2718-bbc5-47d3-e75c-6c46a45b3e94"
      },
      "execution_count": null,
      "outputs": [
        {
          "output_type": "stream",
          "name": "stdout",
          "text": [
            "True and False = False\n"
          ]
        }
      ]
    },
    {
      "cell_type": "markdown",
      "source": [
        "Exemplo de uma conjunção de comparações matemáticas:\n",
        "\n"
      ],
      "metadata": {
        "id": "mqMnGJDBeXKh"
      }
    },
    {
      "cell_type": "code",
      "source": [
        "ans = (x > y) and (x > 0)\n",
        "\n",
        "print(f\" {x} > {y} and {x} > 0 = {ans}\")"
      ],
      "metadata": {
        "colab": {
          "base_uri": "https://localhost:8080/"
        },
        "id": "0pSKu0p-eWsR",
        "outputId": "412c56f9-a14c-4fae-8d29-57665a182bb1"
      },
      "execution_count": null,
      "outputs": [
        {
          "output_type": "stream",
          "name": "stdout",
          "text": [
            " 3 > 2 and 3 > 0 = True\n"
          ]
        }
      ]
    },
    {
      "cell_type": "markdown",
      "source": [
        "### Operador OR (or)\n",
        "\n",
        "O operador binário OR possui a seguinte tabela verdade:\n",
        "\n",
        "| A | B | A or B|\n",
        "|---|---|--------|\n",
        "| 0 | 0 | 0 |\n",
        "| 0 | 1 | 1 |\n",
        "| 1 | 0 | 1 |\n",
        "| 1 | 1 | 1 |"
      ],
      "metadata": {
        "id": "TJVmIEMsev4g"
      }
    },
    {
      "cell_type": "code",
      "source": [
        "ans = t or f\n",
        "\n",
        "print(f\"{t} and {f} = {ans}\")"
      ],
      "metadata": {
        "colab": {
          "base_uri": "https://localhost:8080/"
        },
        "id": "SCUyTGOsfDZ-",
        "outputId": "c08fab0c-51c5-4f99-838a-160eb8fb8b5a"
      },
      "execution_count": null,
      "outputs": [
        {
          "output_type": "stream",
          "name": "stdout",
          "text": [
            "True and False = True\n"
          ]
        }
      ]
    },
    {
      "cell_type": "markdown",
      "source": [
        "Exemplo de uma conjunção de comparações matemáticas:"
      ],
      "metadata": {
        "id": "hp2NM4Y0fH1m"
      }
    },
    {
      "cell_type": "code",
      "source": [
        "ans = (x > y) or (x < 0)\n",
        "\n",
        "print(f\" {x} > {y} and {x} < 0 = {ans}\")"
      ],
      "metadata": {
        "colab": {
          "base_uri": "https://localhost:8080/"
        },
        "id": "YvFoXFJVfLNG",
        "outputId": "1e144064-a627-4ff2-f95c-4f8694b28ecd"
      },
      "execution_count": null,
      "outputs": [
        {
          "output_type": "stream",
          "name": "stdout",
          "text": [
            " 3 > 2 and 3 < 0 = True\n"
          ]
        }
      ]
    },
    {
      "cell_type": "markdown",
      "source": [
        "mas agora vamos voltar às estruturas condicionais..."
      ],
      "metadata": {
        "id": "mLdLK00gfiZ9"
      }
    },
    {
      "cell_type": "code",
      "source": [
        "x = 3\n",
        "if x >= 0:\n",
        "    print(\"x eh maior ou igual a zero\")"
      ],
      "metadata": {
        "id": "cHnL7JOtQb_L",
        "colab": {
          "base_uri": "https://localhost:8080/"
        },
        "outputId": "587f285a-50a9-40fc-dc67-048daf470461"
      },
      "execution_count": null,
      "outputs": [
        {
          "output_type": "stream",
          "name": "stdout",
          "text": [
            "x eh maior ou igual a zero\n"
          ]
        }
      ]
    },
    {
      "cell_type": "markdown",
      "source": [
        "mas se $x=-3$"
      ],
      "metadata": {
        "id": "_s3NOACyfx5l"
      }
    },
    {
      "cell_type": "code",
      "source": [
        "x = -3\n",
        "if x >= 0:\n",
        "    print(\"x eh maior ou igual a zero\")"
      ],
      "metadata": {
        "id": "wssVzCBDf0Ud"
      },
      "execution_count": null,
      "outputs": []
    },
    {
      "cell_type": "markdown",
      "source": [
        "nada foi impresso nesse último exemplo! Repare que o comando da linha 3 é executado apenas se a comparação na condicional do if na linha 2 for satisfeita, isto é, se for verdadeira.\n",
        "\n",
        "## 4.3. Estrutura condicional if-else"
      ],
      "metadata": {
        "id": "YDngqIgjQzr9"
      }
    },
    {
      "cell_type": "code",
      "source": [
        "if CONDICIONAL :\n",
        "    # esse comandos sao executados se,\n",
        "    # e somente se CONDICIONAL for satisfeita\n",
        "else:\n",
        "    # se CONDICIONAL for falsa, os comandos nesse bloco\n",
        "    # sao executados"
      ],
      "metadata": {
        "id": "fkmc26mZQ2_y"
      },
      "execution_count": null,
      "outputs": []
    },
    {
      "cell_type": "markdown",
      "source": [
        "Compare o funcionamento da mesma estrutura condicional para dois valores distintos de $x$:"
      ],
      "metadata": {
        "id": "czGj1HixgWak"
      }
    },
    {
      "cell_type": "code",
      "source": [
        "x = 5\n",
        "if x >= 0:\n",
        "    print(\"x eh maior ou igual a zero\")\n",
        "else:\n",
        "    print(\"x eh menor do que zero\")"
      ],
      "metadata": {
        "colab": {
          "base_uri": "https://localhost:8080/"
        },
        "id": "6ljcrj1NRGT4",
        "outputId": "6c3a4c84-27bf-46c6-9772-7f67a153cde3"
      },
      "execution_count": null,
      "outputs": [
        {
          "output_type": "stream",
          "name": "stdout",
          "text": [
            "x eh maior ou igual a zero\n"
          ]
        }
      ]
    },
    {
      "cell_type": "code",
      "source": [
        "x = -3\n",
        "if x >= 0:\n",
        "    print(\"x eh maior ou igual a zero\")\n",
        "else:\n",
        "    print(\"x eh menor do que zero\")"
      ],
      "metadata": {
        "colab": {
          "base_uri": "https://localhost:8080/"
        },
        "id": "6vq5VdvPRaAl",
        "outputId": "7f0b59ba-7f18-424c-8e00-de45f1752c30"
      },
      "execution_count": null,
      "outputs": [
        {
          "output_type": "stream",
          "name": "stdout",
          "text": [
            "x eh menor do que zero\n"
          ]
        }
      ]
    },
    {
      "cell_type": "markdown",
      "source": [
        "importância da indentação em blocos if-else"
      ],
      "metadata": {
        "id": "eyv3TAPXR67N"
      }
    },
    {
      "cell_type": "code",
      "source": [
        "x = 5\n",
        "if x >= 0:\n",
        "    print(\"x eh maior ou igual a zero\")\n",
        "\n",
        "#esse print nao faz parte do escopo do bloco if\n",
        "print(\"x eh menor do que zero\")"
      ],
      "metadata": {
        "colab": {
          "base_uri": "https://localhost:8080/"
        },
        "id": "3kMzf6yPRhny",
        "outputId": "e9cbd5d4-67f7-4519-c34d-5d602b29dc63"
      },
      "execution_count": null,
      "outputs": [
        {
          "output_type": "stream",
          "name": "stdout",
          "text": [
            "x eh maior ou igual a zero\n",
            "x eh menor do que zero\n"
          ]
        }
      ]
    },
    {
      "cell_type": "markdown",
      "source": [
        "Colocando mais comandos dentro dos blocos:"
      ],
      "metadata": {
        "id": "8ovr9kOSSBmL"
      }
    },
    {
      "cell_type": "code",
      "source": [
        "x = int(input(\"Digite um numero: \"))\n",
        "if x >= 0:\n",
        "    y = 2*x\n",
        "    print(f\"x >= 0 foi satisfeita e y eh igual a {y}\")\n",
        "else:\n",
        "    y = -3*x\n",
        "    print(f\"x >= 0 NAO foi satisfeita e y eh igual a {y}\")"
      ],
      "metadata": {
        "colab": {
          "base_uri": "https://localhost:8080/"
        },
        "id": "kiQff1-xSHBC",
        "outputId": "cd00b3eb-18ac-470e-f617-322ca086d3fb"
      },
      "execution_count": null,
      "outputs": [
        {
          "output_type": "stream",
          "name": "stdout",
          "text": [
            "Digite um numero: -3\n",
            "x >= 0 NAO foi satisfeita e y eh igual a 9\n"
          ]
        }
      ]
    },
    {
      "cell_type": "markdown",
      "source": [
        "if-else: três caminhos"
      ],
      "metadata": {
        "id": "Ij3heLmzTdRW"
      }
    },
    {
      "cell_type": "code",
      "source": [
        "x = 2\n",
        "\n",
        "if x > 0:\n",
        "    print(f\"Caminho 1: {x} eh maior do que zero\")\n",
        "else:\n",
        "    if x < 0:\n",
        "        print(f\"Caminho 2: {x} eh menor do que zero\")\n",
        "    else:\n",
        "        print(f\"Caminho 3: {x} == 0\")\n",
        "    print(\"Fim do if-else interno\")\n",
        "\n",
        "print(\"Fim do if-else externo\")"
      ],
      "metadata": {
        "colab": {
          "base_uri": "https://localhost:8080/"
        },
        "id": "cdPZ8hzKTciY",
        "outputId": "5597c731-712e-4755-fa49-848b9b2f69c9"
      },
      "execution_count": null,
      "outputs": [
        {
          "output_type": "stream",
          "name": "stdout",
          "text": [
            "Caminho 1: 2 eh maior do que zero\n",
            "Fim do if-else externo\n"
          ]
        }
      ]
    },
    {
      "cell_type": "code",
      "source": [
        "x = -4\n",
        "\n",
        "if x > 0:\n",
        "    print(f\"Caminho 1: {x} eh maior do que zero\")\n",
        "else:\n",
        "    if x < 0:\n",
        "        print(f\"Caminho 2: {x} eh menor do que zero\")\n",
        "    else:\n",
        "        print(f\"Caminho 3: {x} == 0\")\n",
        "    print(\"Fim do if-else interno\")\n",
        "\n",
        "print(\"Fim do if-else externo\")"
      ],
      "metadata": {
        "colab": {
          "base_uri": "https://localhost:8080/"
        },
        "id": "4ce5qUvOVoI0",
        "outputId": "8f78d376-4d29-424c-a135-2d798f616dfe"
      },
      "execution_count": null,
      "outputs": [
        {
          "output_type": "stream",
          "name": "stdout",
          "text": [
            "Caminho 2: -4 eh menor do que zero\n",
            "Fim do if-else interno\n",
            "Fim do if-else externo\n"
          ]
        }
      ]
    },
    {
      "cell_type": "markdown",
      "source": [
        "Calculadora ineficiente: observe que todos os ifs são verificados!"
      ],
      "metadata": {
        "id": "IKEhF02LXAC9"
      }
    },
    {
      "cell_type": "code",
      "source": [
        "x = int(input(\"Digite um numero: \"))\n",
        "y = int(input(\"Digite um numero: \"))\n",
        "op = int(input(\"Digite uma opcao: \"))\n",
        "\n",
        "if op == 1:\n",
        "    print(x+y)\n",
        "if op == 2:\n",
        "    print(x-y)\n",
        "if op == 3:\n",
        "    print(x*y)\n",
        "if op == 4:\n",
        "    print(x//y)\n",
        "if op < 1 or op > 4:\n",
        "    print(\"Operacao Invalida\")"
      ],
      "metadata": {
        "colab": {
          "base_uri": "https://localhost:8080/"
        },
        "id": "mdOhz7cOWYD-",
        "outputId": "16f891ab-50a7-447f-d809-064e66b12bcd"
      },
      "execution_count": null,
      "outputs": [
        {
          "output_type": "stream",
          "name": "stdout",
          "text": [
            "Digite um numero: 1\n",
            "Digite um numero: 2\n",
            "Digite uma opcao: 8\n",
            "Operacao Invalida\n"
          ]
        }
      ]
    },
    {
      "cell_type": "markdown",
      "source": [
        "**Calculadora eficiente**: aqui nem sempre todos as comparações nos ifs são verificadas. Por exemplo, se $op = 1$, apenas o comando $print(x+y)$ é executado e nada mais é feito."
      ],
      "metadata": {
        "id": "Mngf3RGlW_Tj"
      }
    },
    {
      "cell_type": "code",
      "source": [
        "x = int(input(\"Digite um numero: \"))\n",
        "y = int(input(\"Digite um numero: \"))\n",
        "op = int(input(\"Digite uma opcao: \"))\n",
        "\n",
        "if op == 1:\n",
        "    print(x+y)\n",
        "else:\n",
        "    if op == 2:\n",
        "        print(x-y)\n",
        "    else:\n",
        "        if op == 3:\n",
        "            print(x*y)\n",
        "        else:\n",
        "            if op == 4:\n",
        "                print(x//y)\n",
        "            else:\n",
        "                print(\"Operacao Invalida\")"
      ],
      "metadata": {
        "colab": {
          "base_uri": "https://localhost:8080/"
        },
        "id": "dnnh-qm1XDt9",
        "outputId": "43f8163c-85e1-4a5c-893b-ecb8f6b12895"
      },
      "execution_count": null,
      "outputs": [
        {
          "output_type": "stream",
          "name": "stdout",
          "text": [
            "Digite um numero: 1\n",
            "Digite um numero: 4\n",
            "Digite uma opcao: 1\n",
            "5\n"
          ]
        }
      ]
    },
    {
      "cell_type": "markdown",
      "source": [
        "Simplificando a estrutura if-else construída no trecho de código-fonte anterior para uma estrutura elif, obtém-se:"
      ],
      "metadata": {
        "id": "dFXn6zBxYVnC"
      }
    },
    {
      "cell_type": "code",
      "source": [
        "x = int(input(\"Digite um numero: \"))\n",
        "y = int(input(\"Digite um numero: \"))\n",
        "op = int(input(\"Digite uma opcao: \"))\n",
        "\n",
        "if op == 1:\n",
        "    print(x+y)\n",
        "elif op == 2:\n",
        "    print(x-y)\n",
        "elif op == 3:\n",
        "    print(x*y)\n",
        "elif op == 4:\n",
        "    print(x//y)\n",
        "else:\n",
        "    print(\"Operacao Invalida\")"
      ],
      "metadata": {
        "id": "rFQPlRIfYXj6",
        "colab": {
          "base_uri": "https://localhost:8080/"
        },
        "outputId": "2481430d-0918-4e7d-d5ae-7a1453e03980"
      },
      "execution_count": null,
      "outputs": [
        {
          "output_type": "stream",
          "name": "stdout",
          "text": [
            "Digite um numero: 8\n",
            "Digite um numero: 4\n",
            "Digite uma opcao: 3\n",
            "32\n"
          ]
        }
      ]
    },
    {
      "cell_type": "markdown",
      "source": [
        "**IMPORTANTE:** não existe o comando switch-case (natural da linguagem C/C++) em Python."
      ],
      "metadata": {
        "id": "k4Tr6-IHiCJk"
      }
    },
    {
      "cell_type": "markdown",
      "source": [
        "Vamos analisar agora um caso interessante em que vários if's em sequência são mais apropriados do que blocos if-else aninhados (ou elifs). No exemplo a seguir, temos uma variável $x$ e queremos saber diversas propriedades distintas dela.\n",
        "\n",
        "Por exemplo, queremos saber se um número inteiro positivo $x$ é:\n",
        "\n",
        "\n",
        "*   realmente positivo (maior ou igual a zero)\n",
        "*   par\n",
        "*   quadrado perfeito\n",
        "\n",
        "\n",
        "Bom, primeiramente vamos criar uma função que recebe como parâmetro um número inteiro $a$ que retorna $True$ se $a$ é um quadrado perfeito ou $False$ caso contrário:"
      ],
      "metadata": {
        "id": "qA7cX6hYZgXC"
      }
    },
    {
      "cell_type": "code",
      "source": [
        "import math\n",
        "\n",
        "def ehQuadPerfeito(a):\n",
        "    if a > 0:\n",
        "        ra = int(math.sqrt(a))\n",
        "        if ra*ra == a:\n",
        "            return True\n",
        "        else:\n",
        "            return False\n",
        "    else:\n",
        "        return False"
      ],
      "metadata": {
        "id": "hFeRgAovcqi8"
      },
      "execution_count": null,
      "outputs": []
    },
    {
      "cell_type": "markdown",
      "source": [
        "Validando a função criada..."
      ],
      "metadata": {
        "id": "QemauEVIiy27"
      }
    },
    {
      "cell_type": "code",
      "source": [
        "ehQuadPerfeito(5)"
      ],
      "metadata": {
        "colab": {
          "base_uri": "https://localhost:8080/"
        },
        "id": "yBoABaXTcruU",
        "outputId": "92760831-8095-4d01-a5bf-4d402fd2cd25"
      },
      "execution_count": null,
      "outputs": [
        {
          "output_type": "execute_result",
          "data": {
            "text/plain": [
              "False"
            ]
          },
          "metadata": {},
          "execution_count": 61
        }
      ]
    },
    {
      "cell_type": "code",
      "source": [
        "ehQuadPerfeito(36)"
      ],
      "metadata": {
        "colab": {
          "base_uri": "https://localhost:8080/"
        },
        "id": "KlvMyB6ri13C",
        "outputId": "f8838f08-c991-4337-8892-f4621caac969"
      },
      "execution_count": null,
      "outputs": [
        {
          "output_type": "execute_result",
          "data": {
            "text/plain": [
              "True"
            ]
          },
          "metadata": {},
          "execution_count": 62
        }
      ]
    },
    {
      "cell_type": "markdown",
      "source": [
        "Tudo certo! Vamos agora montar um código-fonte que resolve o problema:"
      ],
      "metadata": {
        "id": "J-tW6Fi6i-2Z"
      }
    },
    {
      "cell_type": "code",
      "source": [
        "x = int(input(\"Digite um numero inteiro positivo: \"))\n",
        "\n",
        "if x > 0:\n",
        "    print(f'{x} eh maior do que zero')\n",
        "    if x % 2 == 0:\n",
        "        print(f'{x} eh par')\n",
        "    if ehQuadPerfeito(x):\n",
        "        print(f'{x} eh quadrado perfeito')\n",
        "else:\n",
        "    print(f'{x} eh negativo, Bye!')\n"
      ],
      "metadata": {
        "colab": {
          "base_uri": "https://localhost:8080/"
        },
        "id": "KxMEjnZQZf5i",
        "outputId": "5c64eea9-5b50-4add-b6c4-b4ac4bbefece"
      },
      "execution_count": null,
      "outputs": [
        {
          "output_type": "stream",
          "name": "stdout",
          "text": [
            "Digite um numero inteiro positivo: 16\n",
            "16 eh maior do que zero\n",
            "16 eh par\n",
            "16 eh quadrado perfeito\n"
          ]
        }
      ]
    },
    {
      "cell_type": "markdown",
      "source": [
        "Vamos colocar tudo em uma função para facilitar a execução desse trecho de código diversas vezes:"
      ],
      "metadata": {
        "id": "JGjopycjjk2Y"
      }
    },
    {
      "cell_type": "code",
      "source": [
        "def verificaInteiro(x):\n",
        "    if x > 0:\n",
        "        print(f'{x} eh maior do que zero')\n",
        "        if x % 2 == 0:\n",
        "            print(f'{x} eh par')\n",
        "        if ehQuadPerfeito(x):\n",
        "            print(f'{x} eh quadrado perfeito')\n",
        "    else:\n",
        "        print(f'{x} eh negativo, Bye!')\n"
      ],
      "metadata": {
        "id": "DjXy0CpWjk8v"
      },
      "execution_count": null,
      "outputs": []
    },
    {
      "cell_type": "code",
      "source": [
        "b = int(input(\"Digite um numero inteiro positivo: \"))\n",
        "verificaInteiro(b)"
      ],
      "metadata": {
        "colab": {
          "base_uri": "https://localhost:8080/"
        },
        "id": "7Mpb-cR3jrtu",
        "outputId": "6aeb3774-6918-4aef-d0f1-fd6353ebb4b5"
      },
      "execution_count": null,
      "outputs": [
        {
          "output_type": "stream",
          "name": "stdout",
          "text": [
            "Digite um numero inteiro positivo: 36\n",
            "36 eh maior do que zero\n",
            "36 eh par\n",
            "36 eh quadrado perfeito\n"
          ]
        }
      ]
    },
    {
      "cell_type": "code",
      "source": [
        "b = int(input(\"Digite um numero inteiro positivo: \"))\n",
        "verificaInteiro(b)"
      ],
      "metadata": {
        "colab": {
          "base_uri": "https://localhost:8080/"
        },
        "id": "OnojlZHJj3T-",
        "outputId": "814bbb09-fddc-40e6-cf37-8a50408bcc8d"
      },
      "execution_count": null,
      "outputs": [
        {
          "output_type": "stream",
          "name": "stdout",
          "text": [
            "Digite um numero inteiro positivo: 17\n",
            "17 eh maior do que zero\n"
          ]
        }
      ]
    },
    {
      "cell_type": "code",
      "source": [
        "b = int(input(\"Digite um numero inteiro positivo: \"))\n",
        "verificaInteiro(b)"
      ],
      "metadata": {
        "colab": {
          "base_uri": "https://localhost:8080/"
        },
        "id": "01UBp9lcj61m",
        "outputId": "f007aa39-92bb-4db0-ead7-a2dd893e1bcf"
      },
      "execution_count": null,
      "outputs": [
        {
          "output_type": "stream",
          "name": "stdout",
          "text": [
            "Digite um numero inteiro positivo: -9\n",
            "-9 eh negativo, Bye!\n"
          ]
        }
      ]
    },
    {
      "cell_type": "markdown",
      "source": [
        "## 4.4. Expressões booleanas 2\n",
        "\n",
        "Como o Python analisa condicionais que contém expressões booleanas?\n",
        "\n",
        "Veja o exemplo abaixo:"
      ],
      "metadata": {
        "id": "xO0mIgvZj_BN"
      }
    },
    {
      "cell_type": "code",
      "source": [
        "x = 6\n",
        "y = 7\n",
        "\n",
        "if x % 2 != 0 and r > 6:\n",
        "    print(\"Vai dar certo\")\n",
        "else:\n",
        "    print(\"Nao vai dar certo\")"
      ],
      "metadata": {
        "id": "ECVzp2RUnv8c",
        "colab": {
          "base_uri": "https://localhost:8080/"
        },
        "outputId": "0950d894-1da7-4913-f29a-445ad8ebb9f8"
      },
      "execution_count": null,
      "outputs": [
        {
          "output_type": "stream",
          "name": "stdout",
          "text": [
            "Nao vai dar certo\n"
          ]
        }
      ]
    },
    {
      "cell_type": "markdown",
      "source": [
        "Repare que a variável $r$ não foi declarada, nem inicializada em nenhum momento - o que é um **erro grosseiro** em condições normais de desenvolvimento. No comando if, observe que a comparação $x \\% 2$ retorna $False$, não sendo necessário executar a outra comparação (r > 6), pois de acordo com o operador AND, basta uma das comparações retornar $False$ que a expressão booleana retornará $False$ de qualquer maneira.\n",
        "\n",
        "Tal análise é similar para o operador OR:"
      ],
      "metadata": {
        "id": "Bs1Dgd3ckjM8"
      }
    },
    {
      "cell_type": "code",
      "source": [
        "x = 6\n",
        "y = 7\n",
        "\n",
        "if x % 2 == 0 or r > 6:\n",
        "    print(\"Vai dar certo\")\n",
        "else:\n",
        "    print(\"Nao vai dar certo\")"
      ],
      "metadata": {
        "colab": {
          "base_uri": "https://localhost:8080/"
        },
        "id": "-Mh5WGU8lV0Y",
        "outputId": "c5f91a79-9269-42ad-b1fe-41081e47a60e"
      },
      "execution_count": null,
      "outputs": [
        {
          "output_type": "stream",
          "name": "stdout",
          "text": [
            "Vai dar certo\n"
          ]
        }
      ]
    },
    {
      "cell_type": "markdown",
      "source": [
        "Nesse caso, $x \\% 2$ é verdadeiro, fazendo com que a expressão booleana do if seja verdadeira de qualquer jeito, não sendo necessária analisar a segunda comparação matemática. Assim, o Python nem percebeu a presença do $r$ não inicializado nessa situação específica.\n",
        "\n",
        "Agora, se $x \\% 2$ resultar em $False$, aí o erro grosseiro será percebido :)\n",
        "\n"
      ],
      "metadata": {
        "id": "AsLgHhkgl28_"
      }
    },
    {
      "cell_type": "code",
      "source": [
        "x = 6\n",
        "y = 7\n",
        "\n",
        "if x % 2 != 0 or r > 6:\n",
        "    print(\"Vai dar certo\")\n",
        "else:\n",
        "    print(\"Nao vai dar certo\")"
      ],
      "metadata": {
        "colab": {
          "base_uri": "https://localhost:8080/",
          "height": 236
        },
        "id": "YBA_X0HAmYvO",
        "outputId": "1538bbd2-93a4-4cff-c715-61b86a379505"
      },
      "execution_count": null,
      "outputs": [
        {
          "output_type": "error",
          "ename": "NameError",
          "evalue": "ignored",
          "traceback": [
            "\u001b[0;31m---------------------------------------------------------------------------\u001b[0m",
            "\u001b[0;31mNameError\u001b[0m                                 Traceback (most recent call last)",
            "\u001b[0;32m<ipython-input-75-f27cabac54b6>\u001b[0m in \u001b[0;36m<module>\u001b[0;34m()\u001b[0m\n\u001b[1;32m      2\u001b[0m \u001b[0my\u001b[0m \u001b[0;34m=\u001b[0m \u001b[0;36m7\u001b[0m\u001b[0;34m\u001b[0m\u001b[0;34m\u001b[0m\u001b[0m\n\u001b[1;32m      3\u001b[0m \u001b[0;34m\u001b[0m\u001b[0m\n\u001b[0;32m----> 4\u001b[0;31m \u001b[0;32mif\u001b[0m \u001b[0mx\u001b[0m \u001b[0;34m%\u001b[0m \u001b[0;36m2\u001b[0m \u001b[0;34m!=\u001b[0m \u001b[0;36m0\u001b[0m \u001b[0;32mor\u001b[0m \u001b[0mr\u001b[0m \u001b[0;34m>\u001b[0m \u001b[0;36m6\u001b[0m\u001b[0;34m:\u001b[0m\u001b[0;34m\u001b[0m\u001b[0;34m\u001b[0m\u001b[0m\n\u001b[0m\u001b[1;32m      5\u001b[0m     \u001b[0mprint\u001b[0m\u001b[0;34m(\u001b[0m\u001b[0;34m\"Vai dar certo\"\u001b[0m\u001b[0;34m)\u001b[0m\u001b[0;34m\u001b[0m\u001b[0;34m\u001b[0m\u001b[0m\n\u001b[1;32m      6\u001b[0m \u001b[0;32melse\u001b[0m\u001b[0;34m:\u001b[0m\u001b[0;34m\u001b[0m\u001b[0;34m\u001b[0m\u001b[0m\n",
            "\u001b[0;31mNameError\u001b[0m: name 'r' is not defined"
          ]
        }
      ]
    }
  ]
}