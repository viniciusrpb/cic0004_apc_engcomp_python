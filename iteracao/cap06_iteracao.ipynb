{
  "nbformat": 4,
  "nbformat_minor": 0,
  "metadata": {
    "colab": {
      "provenance": [],
      "authorship_tag": "ABX9TyPX10zIxDTEyCiYynMZuGhK",
      "include_colab_link": true
    },
    "kernelspec": {
      "name": "python3",
      "display_name": "Python 3"
    },
    "language_info": {
      "name": "python"
    }
  },
  "cells": [
    {
      "cell_type": "markdown",
      "metadata": {
        "id": "view-in-github",
        "colab_type": "text"
      },
      "source": [
        "<a href=\"https://colab.research.google.com/github/viniciusrpb/cic0004_apc_engcomp/blob/main/iteracao/cap06_iteracao.ipynb\" target=\"_parent\"><img src=\"https://colab.research.google.com/assets/colab-badge.svg\" alt=\"Open In Colab\"/></a>"
      ]
    },
    {
      "cell_type": "markdown",
      "source": [
        "# Capítulo 5 - Iteração (Estruturas de Repetição)\n",
        "\n",
        "\n",
        "## While"
      ],
      "metadata": {
        "id": "gbZRk6H3WtfC"
      }
    },
    {
      "cell_type": "code",
      "execution_count": null,
      "metadata": {
        "id": "okGYh_WNWsQZ"
      },
      "outputs": [],
      "source": [
        "while condicional:\n",
        "    #comando 1\n",
        "    #comando 2\n",
        "    "
      ]
    },
    {
      "cell_type": "markdown",
      "source": [
        "### Exemplo 1\n",
        "\n",
        "Solicitar ao usuário que digite números ímpares e que esse processo pare até que um número par seja fornecido:"
      ],
      "metadata": {
        "id": "aa_o3eAZXxvj"
      }
    },
    {
      "cell_type": "code",
      "source": [
        "19\n",
        "n = 1\n",
        "\n",
        "while n % 2 != 0:\n",
        "    n = int(input(\"Digite um numero impar: \"))\n"
      ],
      "metadata": {
        "id": "0HF2KZP0XzDV",
        "colab": {
          "base_uri": "https://localhost:8080/"
        },
        "outputId": "983159f7-b807-4337-dded-6dc292751f0a"
      },
      "execution_count": 2,
      "outputs": [
        {
          "name": "stdout",
          "output_type": "stream",
          "text": [
            "Digite um numero impar: 3\n",
            "Digite um numero impar: 7\n",
            "Digite um numero impar: 11\n",
            "Digite um numero impar: 1\n",
            "Digite um numero impar: 4\n"
          ]
        }
      ]
    },
    {
      "cell_type": "markdown",
      "source": [
        "- Inicialmente, a variável $n = 1$ . Porquê 1? Porque $1$ é ímpar e assim viabiliza a entrada na estrutura de repetição, e consequentemente, pode-se fazer as perguntas para o usuário (condicional será verdadeira na primeira vez)\n",
        "\n",
        "Possibilidade 2"
      ],
      "metadata": {
        "id": "osRUdMVkYZM5"
      }
    },
    {
      "cell_type": "code",
      "source": [
        "def pergunta():\n",
        "    x = int(input(\"Digite um numero impar: \"))\n",
        "    return x\n",
        "\n",
        "def imprime_num(t):\n",
        "    print(f'Voce digitou {t}')\n",
        "\n",
        "n = pergunta()\n",
        "while n % 2 != 0:\n",
        "    n = pergunta()\n",
        "    imprime_num(n)\n",
        "\n",
        "print(f\"Voce digitou um numero par {n} :(\")"
      ],
      "metadata": {
        "id": "tuqXM24nYzF2",
        "colab": {
          "base_uri": "https://localhost:8080/"
        },
        "outputId": "32fa29dc-13d5-47db-e221-de2ac157595c"
      },
      "execution_count": 3,
      "outputs": [
        {
          "output_type": "stream",
          "name": "stdout",
          "text": [
            "Digite um numero impar: 3\n",
            "Digite um numero impar: 13\n",
            "Voce digitou 13\n",
            "Digite um numero impar: 17\n",
            "Voce digitou 17\n",
            "Digite um numero impar: 8\n",
            "Voce digitou 8\n",
            "Voce digitou um numero par 8 :(\n"
          ]
        }
      ]
    },
    {
      "cell_type": "markdown",
      "source": [
        "## Laço For\n",
        "\n",
        "Estrutura de repetição mais utilizada como um processo de contagem.\n",
        "\n",
        "Em Python, o laço for é empregado em conjunto com a função range!\n",
        "\n",
        "No exemplo abaixo, $num = 1, \\ldots, 10$"
      ],
      "metadata": {
        "id": "kK44EhfYksFh"
      }
    },
    {
      "cell_type": "code",
      "source": [
        "inicio = 1\n",
        "fim = 11\n",
        "passo = 1\n",
        "\n",
        "# range(inicio,fim) = [inicio,fim)\n",
        "for num in range(inicio,fim,passo):\n",
        "    print(num)\n"
      ],
      "metadata": {
        "id": "1Lq_8y7uky5M",
        "colab": {
          "base_uri": "https://localhost:8080/"
        },
        "outputId": "23d748c3-a7eb-442f-c7bb-8b3a398a9ae9"
      },
      "execution_count": 4,
      "outputs": [
        {
          "output_type": "stream",
          "name": "stdout",
          "text": [
            "1\n",
            "2\n",
            "3\n",
            "4\n",
            "5\n",
            "6\n",
            "7\n",
            "8\n",
            "9\n",
            "10\n"
          ]
        }
      ]
    },
    {
      "cell_type": "markdown",
      "source": [
        "podemos fazer essa mesma operação de repetição utilizando o laço **while**:"
      ],
      "metadata": {
        "id": "8Dw4aRqsoxd9"
      }
    },
    {
      "cell_type": "code",
      "source": [
        "inicio = 1\n",
        "fim = 11\n",
        "passo = 1\n",
        "\n",
        "num = inicio\n",
        "while num < fim:\n",
        "    print(num)\n",
        "    num = num + passo"
      ],
      "metadata": {
        "id": "6kvFhiDEo4Jy",
        "colab": {
          "base_uri": "https://localhost:8080/"
        },
        "outputId": "f76be64b-38ba-438a-b6bf-1e4b2d44da0e"
      },
      "execution_count": 5,
      "outputs": [
        {
          "output_type": "stream",
          "name": "stdout",
          "text": [
            "1\n",
            "2\n",
            "3\n",
            "4\n",
            "5\n",
            "6\n",
            "7\n",
            "8\n",
            "9\n",
            "10\n"
          ]
        }
      ]
    },
    {
      "cell_type": "markdown",
      "source": [
        "Exemplo 2"
      ],
      "metadata": {
        "id": "GYtcpkl3lPg8"
      }
    },
    {
      "cell_type": "code",
      "source": [
        "inicio = 1\n",
        "fim = 11\n",
        "passo = 2\n",
        "\n",
        "# range(inicio,fim) = [inicio,fim)\n",
        "for num in range(inicio,fim,passo):\n",
        "    print(num)"
      ],
      "metadata": {
        "id": "OaTYfdVolQkQ",
        "colab": {
          "base_uri": "https://localhost:8080/"
        },
        "outputId": "213f44d6-672b-4876-fb14-d35182c155ae"
      },
      "execution_count": 6,
      "outputs": [
        {
          "output_type": "stream",
          "name": "stdout",
          "text": [
            "1\n",
            "3\n",
            "5\n",
            "7\n",
            "9\n"
          ]
        }
      ]
    },
    {
      "cell_type": "markdown",
      "source": [
        "Exemplo 3"
      ],
      "metadata": {
        "id": "tNHaFIlPlVNq"
      }
    },
    {
      "cell_type": "code",
      "source": [
        "inicio = 10\n",
        "fim = -1\n",
        "passo = 2\n",
        "\n",
        "# range(inicio,fim) = [inicio,fim)\n",
        "for num in range(inicio,fim,passo):\n",
        "    print(num)"
      ],
      "metadata": {
        "id": "LeMIxosflX9q"
      },
      "execution_count": 7,
      "outputs": []
    },
    {
      "cell_type": "markdown",
      "source": [
        "Exemplo 4 (incorreto)\n",
        "\n",
        "Intervalo crescente em que inicio > fim"
      ],
      "metadata": {
        "id": "6TuMukdilfja"
      }
    },
    {
      "cell_type": "code",
      "source": [
        "inicio = 10\n",
        "fim = -1\n",
        "passo = 1\n",
        "\n",
        "# range(inicio,fim) = [inicio,fim)\n",
        "for num in range(inicio,fim,passo):\n",
        "    print(num)"
      ],
      "metadata": {
        "id": "UPNzjH6ilhWS"
      },
      "execution_count": 8,
      "outputs": []
    },
    {
      "cell_type": "markdown",
      "source": [
        "Exemplo 5\n",
        "\n",
        "Pode-se colocar diretamente constantes **inteiras** na função range. O padrão é que os números no intervalo sejam crescente."
      ],
      "metadata": {
        "id": "A2fWvVLDl0Gi"
      }
    },
    {
      "cell_type": "code",
      "source": [
        "for i in range(0,9):\n",
        "    print(2*i)"
      ],
      "metadata": {
        "id": "mVIpqNrwl2gc",
        "colab": {
          "base_uri": "https://localhost:8080/"
        },
        "outputId": "049e5a90-958f-4e45-f631-c0532c878370"
      },
      "execution_count": 9,
      "outputs": [
        {
          "output_type": "stream",
          "name": "stdout",
          "text": [
            "0\n",
            "2\n",
            "4\n",
            "6\n",
            "8\n",
            "10\n",
            "12\n",
            "14\n",
            "16\n"
          ]
        }
      ]
    },
    {
      "cell_type": "markdown",
      "source": [
        "Exemplo 6\n",
        "\n",
        "Uso do laço for com input().split()"
      ],
      "metadata": {
        "id": "eGMtmzqWnUrx"
      }
    },
    {
      "cell_type": "code",
      "source": [
        "a,b,c = (int(x) for x in input().split())\n",
        "print(a)\n",
        "print(b)\n",
        "print(c)"
      ],
      "metadata": {
        "id": "9R2v_qPRnbYT",
        "colab": {
          "base_uri": "https://localhost:8080/"
        },
        "outputId": "089369f9-9dbd-42c5-8e7e-aa8b06d53440"
      },
      "execution_count": 10,
      "outputs": [
        {
          "output_type": "stream",
          "name": "stdout",
          "text": [
            "6 7 2\n",
            "6\n",
            "7\n",
            "2\n"
          ]
        }
      ]
    },
    {
      "cell_type": "markdown",
      "source": [
        "reescrevendo em um bloco de código:"
      ],
      "metadata": {
        "id": "yb_E-wSLoClT"
      }
    },
    {
      "cell_type": "code",
      "source": [
        "for x in input().split():\n",
        "    print(x)"
      ],
      "metadata": {
        "id": "6KcZkJKroEMA",
        "colab": {
          "base_uri": "https://localhost:8080/"
        },
        "outputId": "fbe579a1-7970-4e3c-d31c-9f5afe2a9ed4"
      },
      "execution_count": 11,
      "outputs": [
        {
          "output_type": "stream",
          "name": "stdout",
          "text": [
            "5 8 11 3 -3 6\n",
            "5\n",
            "8\n",
            "11\n",
            "3\n",
            "-3\n",
            "6\n"
          ]
        }
      ]
    },
    {
      "cell_type": "code",
      "source": [
        "ans = input().split()"
      ],
      "metadata": {
        "id": "oMzxhGY9oWXr",
        "colab": {
          "base_uri": "https://localhost:8080/"
        },
        "outputId": "85fed98f-77b4-4572-a617-b04d25c08b7e"
      },
      "execution_count": 12,
      "outputs": [
        {
          "name": "stdout",
          "output_type": "stream",
          "text": [
            "4 1 8\n"
          ]
        }
      ]
    },
    {
      "cell_type": "code",
      "source": [
        "ans"
      ],
      "metadata": {
        "id": "M523ZEraoZMK",
        "colab": {
          "base_uri": "https://localhost:8080/"
        },
        "outputId": "b6dcfe3b-70d7-4146-91dd-e871b9112f1c"
      },
      "execution_count": 13,
      "outputs": [
        {
          "output_type": "execute_result",
          "data": {
            "text/plain": [
              "['4', '1', '8']"
            ]
          },
          "metadata": {},
          "execution_count": 13
        }
      ]
    },
    {
      "cell_type": "markdown",
      "source": [
        "Exemplo 7\n",
        "\n",
        "Uso do laço for com entrada digitada pelo usuário humano. Solicitar que o usuário humano informe **exatamente** 5 números inteiros"
      ],
      "metadata": {
        "id": "bXu_5ghwpvEI"
      }
    },
    {
      "cell_type": "code",
      "source": [
        "# range(1,6) = 1,2,3,4,5\n",
        "for i in range(1,6):\n",
        "    num = input(\"Digite um numero inteiro: \")\n",
        "    print(num)"
      ],
      "metadata": {
        "id": "iKwW-2g6p1PX",
        "colab": {
          "base_uri": "https://localhost:8080/"
        },
        "outputId": "3dea09f6-73de-4e1d-cd89-7a02abc2c553"
      },
      "execution_count": 15,
      "outputs": [
        {
          "output_type": "stream",
          "name": "stdout",
          "text": [
            "Digite um numero inteiro: 4\n",
            "4\n",
            "Digite um numero inteiro: 1\n",
            "1\n",
            "Digite um numero inteiro: 2\n",
            "2\n",
            "Digite um numero inteiro: 9\n",
            "9\n",
            "Digite um numero inteiro: 14\n",
            "14\n"
          ]
        }
      ]
    },
    {
      "cell_type": "markdown",
      "source": [
        "Se você não sabe a quantidade **exata** de números que o usuário vai digitar, deve-se o laço while. Por exemplo, o usuário digita número até que um critério seja satisfeito (ou não satisfeito).\n",
        "\n",
        "### Exemplo 8\n",
        "\n",
        "Utilizando laço for, solicite que o usuário digite números ímpares até que um número par seja fornecido"
      ],
      "metadata": {
        "id": "0xEqc_hnqR5B"
      }
    },
    {
      "cell_type": "code",
      "source": [
        "def ehPar(x):\n",
        "    if x % 2 == 0:\n",
        "        return True\n",
        "    return False\n",
        "\n",
        "for i in range(0,10):\n",
        "    print(f'Iteracao: {i}')\n",
        "    num = int(input(\"Digite um numero impar: \"))\n",
        "    if ehPar(num) == True:\n",
        "        break # comando que pára a execucao do laço"
      ],
      "metadata": {
        "id": "D1GwoRhtqk-r",
        "colab": {
          "base_uri": "https://localhost:8080/"
        },
        "outputId": "bb651115-a6df-458a-f75b-3f3fa3f7cbdf"
      },
      "execution_count": 16,
      "outputs": [
        {
          "name": "stdout",
          "output_type": "stream",
          "text": [
            "Iteracao: 0\n",
            "Digite um numero impar: 5\n",
            "Iteracao: 1\n",
            "Digite um numero impar: 9\n",
            "Iteracao: 2\n",
            "Digite um numero impar: 11\n",
            "Iteracao: 3\n",
            "Digite um numero impar: 13\n",
            "Iteracao: 4\n",
            "Digite um numero impar: 19\n",
            "Iteracao: 5\n",
            "Digite um numero impar: 8\n"
          ]
        }
      ]
    },
    {
      "cell_type": "markdown",
      "source": [
        "Podemos também colocar um laço dentro do outro."
      ],
      "metadata": {
        "id": "4_vfdxeksTlv"
      }
    },
    {
      "cell_type": "code",
      "source": [
        "a = 1\n",
        "for i in range(0,6): # Laço mais externo i = 1,2,3,4,5\n",
        "    print(f'i={i}')\n",
        "    for j in range(0,6): # Laço mais interno j = 1,2,3,4,5\n",
        "        print(f'Iteração {a}: j={j}')\n",
        "        a+=1"
      ],
      "metadata": {
        "id": "avpI8GVsrxNt",
        "colab": {
          "base_uri": "https://localhost:8080/"
        },
        "outputId": "ed8678b3-634b-4411-956f-a153a1122249"
      },
      "execution_count": 17,
      "outputs": [
        {
          "output_type": "stream",
          "name": "stdout",
          "text": [
            "i=0\n",
            "Iteração 1: j=0\n",
            "Iteração 2: j=1\n",
            "Iteração 3: j=2\n",
            "Iteração 4: j=3\n",
            "Iteração 5: j=4\n",
            "Iteração 6: j=5\n",
            "i=1\n",
            "Iteração 7: j=0\n",
            "Iteração 8: j=1\n",
            "Iteração 9: j=2\n",
            "Iteração 10: j=3\n",
            "Iteração 11: j=4\n",
            "Iteração 12: j=5\n",
            "i=2\n",
            "Iteração 13: j=0\n",
            "Iteração 14: j=1\n",
            "Iteração 15: j=2\n",
            "Iteração 16: j=3\n",
            "Iteração 17: j=4\n",
            "Iteração 18: j=5\n",
            "i=3\n",
            "Iteração 19: j=0\n",
            "Iteração 20: j=1\n",
            "Iteração 21: j=2\n",
            "Iteração 22: j=3\n",
            "Iteração 23: j=4\n",
            "Iteração 24: j=5\n",
            "i=4\n",
            "Iteração 25: j=0\n",
            "Iteração 26: j=1\n",
            "Iteração 27: j=2\n",
            "Iteração 28: j=3\n",
            "Iteração 29: j=4\n",
            "Iteração 30: j=5\n",
            "i=5\n",
            "Iteração 31: j=0\n",
            "Iteração 32: j=1\n",
            "Iteração 33: j=2\n",
            "Iteração 34: j=3\n",
            "Iteração 35: j=4\n",
            "Iteração 36: j=5\n"
          ]
        }
      ]
    },
    {
      "cell_type": "markdown",
      "source": [
        "## Tarefas\n",
        "\n",
        "### Determinar o maior valor inteiro dentre n inteiros lidos da entrada, sendo um número inteiro por linha"
      ],
      "metadata": {
        "id": "GsWsY7m_94kY"
      }
    },
    {
      "cell_type": "code",
      "source": [
        "n = int(input())\n",
        "\n",
        "maior = int(input())\n",
        "i = 2     # jah lemos um inteiro da entrada\n",
        "\n",
        "while i <= n:\n",
        "    a = int(input())\n",
        "    if a > maior:\n",
        "        maior = a\n",
        "\n",
        "    i+=1\n",
        "\n",
        "print(f'Maior valor eh {maior}')"
      ],
      "metadata": {
        "id": "yTOYDkjx9462",
        "colab": {
          "base_uri": "https://localhost:8080/"
        },
        "outputId": "f5cc44ac-78f6-479e-8123-51e619be92ed"
      },
      "execution_count": 20,
      "outputs": [
        {
          "output_type": "stream",
          "name": "stdout",
          "text": [
            "6\n",
            "4\n",
            "1\n",
            "7\n",
            "3\n",
            "2\n",
            "9\n",
            "Maior valor eh 9\n"
          ]
        }
      ]
    },
    {
      "cell_type": "markdown",
      "source": [
        "### Tarefa 2: encontrar a posição e o maior valor inteiro dentre $n$ inteiros lidos da entrada"
      ],
      "metadata": {
        "id": "pJNdVbQh-SqL"
      }
    },
    {
      "cell_type": "code",
      "source": [
        "n = int(input())\n",
        "\n",
        "maior = int(input())\n",
        "pos_maior = 1\n",
        "i = 2\n",
        "\n",
        "while i <= n:\n",
        "    a = int(input())\n",
        "    if a > maior:\n",
        "        maior = a\n",
        "        pos_maior = i\n",
        "\n",
        "    i+=1\n",
        "\n",
        "print(f'Maior valor eh {maior} e estah na posicao {pos_maior}')"
      ],
      "metadata": {
        "id": "y5fbqIRi-Swe",
        "colab": {
          "base_uri": "https://localhost:8080/"
        },
        "outputId": "691646a2-e903-4ca9-ca98-13bc51346cec"
      },
      "execution_count": 21,
      "outputs": [
        {
          "output_type": "stream",
          "name": "stdout",
          "text": [
            "6\n",
            "4\n",
            "1\n",
            "7\n",
            "3\n",
            "2\n",
            "9\n",
            "Maior valor eh 9 e estah na posicao 6\n"
          ]
        }
      ]
    },
    {
      "cell_type": "markdown",
      "source": [
        "### Tarefa 3: encontrar o segundo maior valor inteiro dentre $n$ inteiros lidos da entrada"
      ],
      "metadata": {
        "id": "9KJa7Jqx-paf"
      }
    },
    {
      "cell_type": "code",
      "source": [
        "n = int(input())  # n>=2\n",
        "\n",
        "maior = int(input()) # guarda o maior elemento encontrado\n",
        "segmaior = int(input())  # serve para guardar o segundo maior elemento\n",
        "\n",
        "if segmaior > maior:\n",
        "    aux = maior\n",
        "    maior = segmaior\n",
        "    segmaior = aux\n",
        "\n",
        "for i in range(3,n+1):\n",
        "    a = int(input())\n",
        "\n",
        "    if a > maior:\n",
        "        segmaior = maior\n",
        "        maior = a\n",
        "    elif a > segmaior:\n",
        "        segmaior = a\n",
        "\n",
        "print(f'Maior elemento: {maior}\\nSeg maior elemento: {segmaior}')"
      ],
      "metadata": {
        "id": "hWm68oMt-pvX",
        "colab": {
          "base_uri": "https://localhost:8080/"
        },
        "outputId": "e7d7422b-b579-48d1-9671-c1d092a61866"
      },
      "execution_count": 22,
      "outputs": [
        {
          "output_type": "stream",
          "name": "stdout",
          "text": [
            "6\n",
            "3\n",
            "2\n",
            "9\n",
            "4\n",
            "7\n",
            "1\n",
            "Maior elemento: 9\n",
            "Seg maior elemento: 7\n"
          ]
        }
      ]
    }
  ]
}