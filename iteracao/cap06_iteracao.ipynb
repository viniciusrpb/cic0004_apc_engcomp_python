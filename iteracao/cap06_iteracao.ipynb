{
  "nbformat": 4,
  "nbformat_minor": 0,
  "metadata": {
    "colab": {
      "provenance": [],
      "authorship_tag": "ABX9TyN5ehMmIPpg+bnXMxemTDZG",
      "include_colab_link": true
    },
    "kernelspec": {
      "name": "python3",
      "display_name": "Python 3"
    },
    "language_info": {
      "name": "python"
    }
  },
  "cells": [
    {
      "cell_type": "markdown",
      "metadata": {
        "id": "view-in-github",
        "colab_type": "text"
      },
      "source": [
        "<a href=\"https://colab.research.google.com/github/viniciusrpb/cic0004_apc_engcomp/blob/main/iteracao/cap06_iteracao.ipynb\" target=\"_parent\"><img src=\"https://colab.research.google.com/assets/colab-badge.svg\" alt=\"Open In Colab\"/></a>"
      ]
    },
    {
      "cell_type": "markdown",
      "source": [
        "# Capítulo 6 - Iteração (Estruturas de Repetição)\n",
        "\n",
        "\n",
        "## While"
      ],
      "metadata": {
        "id": "gbZRk6H3WtfC"
      }
    },
    {
      "cell_type": "code",
      "execution_count": null,
      "metadata": {
        "id": "okGYh_WNWsQZ",
        "colab": {
          "base_uri": "https://localhost:8080/",
          "height": 132
        },
        "outputId": "1c0f5362-cb99-4186-d222-5f23c6d71a8c"
      },
      "outputs": [
        {
          "output_type": "error",
          "ename": "SyntaxError",
          "evalue": "ignored",
          "traceback": [
            "\u001b[0;36m  File \u001b[0;32m\"<ipython-input-1-e9594f212081>\"\u001b[0;36m, line \u001b[0;32m4\u001b[0m\n\u001b[0;31m    \u001b[0m\n\u001b[0m    ^\u001b[0m\n\u001b[0;31mSyntaxError\u001b[0m\u001b[0;31m:\u001b[0m incomplete input\n"
          ]
        }
      ],
      "source": [
        "while condicional:\n",
        "    #comando 1\n",
        "    #comando 2\n",
        "    "
      ]
    },
    {
      "cell_type": "markdown",
      "source": [
        "### Exemplo 1\n",
        "\n",
        "Solicitar ao usuário que digite números ímpares e que esse processo pare até que um número par seja fornecido:"
      ],
      "metadata": {
        "id": "aa_o3eAZXxvj"
      }
    },
    {
      "cell_type": "code",
      "source": [
        "n = 1\n",
        "\n",
        "while n % 2 != 0:\n",
        "    n = int(input(\"Digite um numero impar: \"))\n"
      ],
      "metadata": {
        "id": "0HF2KZP0XzDV"
      },
      "execution_count": null,
      "outputs": []
    },
    {
      "cell_type": "markdown",
      "source": [
        "- Inicialmente, a variável $n = 1$ . Porquê 1? Porque $1$ é ímpar e assim viabiliza a entrada na estrutura de repetição, e consequentemente, pode-se fazer as perguntas para o usuário (condicional será verdadeira na primeira vez)\n",
        "\n",
        "Possibilidade 2"
      ],
      "metadata": {
        "id": "osRUdMVkYZM5"
      }
    },
    {
      "cell_type": "code",
      "source": [
        "def pergunta():\n",
        "    x = int(input(\"Digite um numero impar: \"))\n",
        "    return x\n",
        "\n",
        "def imprime_num(t):\n",
        "    print(f'Voce digitou {t}')\n",
        "\n",
        "n = pergunta()\n",
        "while n % 2 != 0:\n",
        "    n = pergunta()\n",
        "    imprime_num(n)\n",
        "\n",
        "print(f\"Voce digitou um numero par {n} :(\")"
      ],
      "metadata": {
        "id": "tuqXM24nYzF2"
      },
      "execution_count": null,
      "outputs": []
    },
    {
      "cell_type": "markdown",
      "source": [
        "## Laço For\n",
        "\n",
        "Estrutura de repetição mais utilizada como um processo de contagem.\n",
        "\n",
        "Em Python, o laço for é empregado em conjunto com a função range!\n",
        "\n",
        "No exemplo abaixo, $num = 1, \\ldots, 10$"
      ],
      "metadata": {
        "id": "kK44EhfYksFh"
      }
    },
    {
      "cell_type": "code",
      "source": [
        "inicio = 1\n",
        "fim = 11\n",
        "passo = 1\n",
        "\n",
        "# range(inicio,fim) = [inicio,fim)\n",
        "for num in range(inicio,fim,passo):\n",
        "    print(num)\n"
      ],
      "metadata": {
        "id": "1Lq_8y7uky5M"
      },
      "execution_count": null,
      "outputs": []
    },
    {
      "cell_type": "markdown",
      "source": [
        "podemos fazer essa mesma operação de repetição utilizando o laço **while**:"
      ],
      "metadata": {
        "id": "8Dw4aRqsoxd9"
      }
    },
    {
      "cell_type": "code",
      "source": [
        "inicio = 1\n",
        "fim = 11\n",
        "passo = 1\n",
        "\n",
        "num = inicio\n",
        "while num < fim:\n",
        "    print(num)\n",
        "    num = num + passo"
      ],
      "metadata": {
        "id": "6kvFhiDEo4Jy"
      },
      "execution_count": null,
      "outputs": []
    },
    {
      "cell_type": "markdown",
      "source": [
        "Exemplo 2"
      ],
      "metadata": {
        "id": "GYtcpkl3lPg8"
      }
    },
    {
      "cell_type": "code",
      "source": [
        "inicio = 1\n",
        "fim = 11\n",
        "passo = 2\n",
        "\n",
        "# range(inicio,fim) = [inicio,fim)\n",
        "for num in range(inicio,fim,passo):\n",
        "    print(num)"
      ],
      "metadata": {
        "id": "OaTYfdVolQkQ"
      },
      "execution_count": null,
      "outputs": []
    },
    {
      "cell_type": "markdown",
      "source": [
        "Exemplo 3"
      ],
      "metadata": {
        "id": "tNHaFIlPlVNq"
      }
    },
    {
      "cell_type": "code",
      "source": [
        "inicio = 10\n",
        "fim = -1\n",
        "passo = 2\n",
        "\n",
        "# range(inicio,fim) = [inicio,fim)\n",
        "for num in range(inicio,fim,passo):\n",
        "    print(num)"
      ],
      "metadata": {
        "id": "LeMIxosflX9q"
      },
      "execution_count": null,
      "outputs": []
    },
    {
      "cell_type": "markdown",
      "source": [
        "Exemplo 4 (incorreto)\n",
        "\n",
        "Intervalo crescente em que inicio > fim"
      ],
      "metadata": {
        "id": "6TuMukdilfja"
      }
    },
    {
      "cell_type": "code",
      "source": [
        "inicio = 10\n",
        "fim = -1\n",
        "passo = 1\n",
        "\n",
        "# range(inicio,fim) = [inicio,fim)\n",
        "for num in range(inicio,fim,passo):\n",
        "    print(num)"
      ],
      "metadata": {
        "id": "UPNzjH6ilhWS"
      },
      "execution_count": null,
      "outputs": []
    },
    {
      "cell_type": "markdown",
      "source": [
        "Exemplo 5\n",
        "\n",
        "Pode-se colocar diretamente constantes **inteiras** na função range. O padrão é que os números no intervalo sejam crescente."
      ],
      "metadata": {
        "id": "A2fWvVLDl0Gi"
      }
    },
    {
      "cell_type": "code",
      "source": [
        "for i in range(0,9):\n",
        "    print(2*i)"
      ],
      "metadata": {
        "id": "mVIpqNrwl2gc"
      },
      "execution_count": null,
      "outputs": []
    },
    {
      "cell_type": "markdown",
      "source": [
        "Exemplo 6\n",
        "\n",
        "Uso do laço for com input().split()"
      ],
      "metadata": {
        "id": "eGMtmzqWnUrx"
      }
    },
    {
      "cell_type": "code",
      "source": [
        "a,b,c = (int(x) for x in input().split())\n",
        "print(a)\n",
        "print(b)\n",
        "print(c)"
      ],
      "metadata": {
        "id": "9R2v_qPRnbYT"
      },
      "execution_count": null,
      "outputs": []
    },
    {
      "cell_type": "markdown",
      "source": [
        "reescrevendo em um bloco de código:"
      ],
      "metadata": {
        "id": "yb_E-wSLoClT"
      }
    },
    {
      "cell_type": "code",
      "source": [
        "for x in input().split():\n",
        "    print(x)"
      ],
      "metadata": {
        "id": "6KcZkJKroEMA"
      },
      "execution_count": null,
      "outputs": []
    },
    {
      "cell_type": "code",
      "source": [
        "ans = input().split()"
      ],
      "metadata": {
        "id": "oMzxhGY9oWXr"
      },
      "execution_count": null,
      "outputs": []
    },
    {
      "cell_type": "code",
      "source": [
        "ans"
      ],
      "metadata": {
        "id": "M523ZEraoZMK"
      },
      "execution_count": null,
      "outputs": []
    },
    {
      "cell_type": "markdown",
      "source": [
        "Exemplo 7\n",
        "\n",
        "Uso do laço for com entrada digitada pelo usuário humano. Solicitar que o usuário humano informe **exatamente** 5 números inteiros"
      ],
      "metadata": {
        "id": "bXu_5ghwpvEI"
      }
    },
    {
      "cell_type": "code",
      "source": [
        "# range(1,6) = 1,2,3,4,5\n",
        "for i in range(1,6):\n",
        "    num = input(\"Digite um numero inteiro: \")\n",
        "    print(num)"
      ],
      "metadata": {
        "id": "iKwW-2g6p1PX"
      },
      "execution_count": null,
      "outputs": []
    },
    {
      "cell_type": "markdown",
      "source": [
        "Se você não sabe a quantidade **exata** de números que o usuário vai digitar, deve-se o laço while. Por exemplo, o usuário digita número até que um critério seja satisfeito (ou não satisfeito).\n",
        "\n",
        "### Exemplo 8\n",
        "\n",
        "Utilizando laço for, solicite que o usuário digite números ímpares até que um número par seja fornecido"
      ],
      "metadata": {
        "id": "0xEqc_hnqR5B"
      }
    },
    {
      "cell_type": "code",
      "source": [
        "def ehPar(x):\n",
        "    if x % 2 == 0:\n",
        "        return True\n",
        "    return False\n",
        "\n",
        "for i in range(0,10):\n",
        "    print(f'Iteracao: {i}')\n",
        "    num = int(input(\"Digite um numero impar: \"))\n",
        "    if ehPar(num) == True:\n",
        "        break # comando que pára a execucao do laço"
      ],
      "metadata": {
        "id": "D1GwoRhtqk-r"
      },
      "execution_count": null,
      "outputs": []
    },
    {
      "cell_type": "markdown",
      "source": [
        "Podemos também colocar um laço dentro do outro."
      ],
      "metadata": {
        "id": "4_vfdxeksTlv"
      }
    },
    {
      "cell_type": "code",
      "source": [
        "a = 1\n",
        "for i in range(0,6): # Laço mais externo i = 1,2,3,4,5\n",
        "    print(f'i={i}')\n",
        "    for j in range(0,6): # Laço mais interno j = 1,2,3,4,5\n",
        "        print(f'Iteração {a}: j={j}')\n",
        "        a+=1"
      ],
      "metadata": {
        "id": "avpI8GVsrxNt"
      },
      "execution_count": null,
      "outputs": []
    },
    {
      "cell_type": "markdown",
      "source": [
        "## Tarefas\n",
        "\n",
        "### Determinar o maior valor inteiro dentre n inteiros lidos da entrada, sendo um número inteiro por linha"
      ],
      "metadata": {
        "id": "GsWsY7m_94kY"
      }
    },
    {
      "cell_type": "code",
      "source": [
        "n = int(input())\n",
        "\n",
        "maior = int(input())\n",
        "i = 2     # jah lemos um inteiro da entrada\n",
        "\n",
        "while i <= n:\n",
        "    a = int(input())\n",
        "    if a > maior:\n",
        "        maior = a\n",
        "\n",
        "    i+=1\n",
        "\n",
        "print(f'Maior valor eh {maior}')"
      ],
      "metadata": {
        "id": "yTOYDkjx9462"
      },
      "execution_count": null,
      "outputs": []
    },
    {
      "cell_type": "markdown",
      "source": [
        "### Tarefa 2: encontrar a posição e o maior valor inteiro dentre $n$ inteiros lidos da entrada"
      ],
      "metadata": {
        "id": "pJNdVbQh-SqL"
      }
    },
    {
      "cell_type": "code",
      "source": [
        "n = int(input())\n",
        "\n",
        "maior = int(input())\n",
        "pos_maior = 1\n",
        "i = 2\n",
        "\n",
        "while i <= n:\n",
        "    a = int(input())\n",
        "    if a > maior:\n",
        "        maior = a\n",
        "        pos_maior = i\n",
        "\n",
        "    i+=1\n",
        "\n",
        "print(f'Maior valor eh {maior} e estah na posicao {pos_maior}')"
      ],
      "metadata": {
        "id": "y5fbqIRi-Swe"
      },
      "execution_count": null,
      "outputs": []
    },
    {
      "cell_type": "markdown",
      "source": [
        "### Tarefa 3: encontrar o segundo maior valor inteiro dentre $n$ inteiros lidos da entrada"
      ],
      "metadata": {
        "id": "9KJa7Jqx-paf"
      }
    },
    {
      "cell_type": "code",
      "source": [
        "n = int(input())  # n>=2\n",
        "\n",
        "maior = int(input()) # guarda o maior elemento encontrado\n",
        "segmaior = int(input())  # serve para guardar o segundo maior elemento\n",
        "\n",
        "if segmaior > maior:\n",
        "    aux = maior\n",
        "    maior = segmaior\n",
        "    segmaior = aux\n",
        "\n",
        "for i in range(3,n+1):\n",
        "    a = int(input())\n",
        "\n",
        "    if a > maior:\n",
        "        segmaior = maior\n",
        "        maior = a\n",
        "    elif a > segmaior:\n",
        "        segmaior = a\n",
        "\n",
        "print(f'Maior elemento: {maior}\\nSeg maior elemento: {segmaior}')"
      ],
      "metadata": {
        "id": "hWm68oMt-pvX"
      },
      "execution_count": null,
      "outputs": []
    }
  ]
}