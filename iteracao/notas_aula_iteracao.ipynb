{
  "nbformat": 4,
  "nbformat_minor": 0,
  "metadata": {
    "colab": {
      "provenance": [],
      "authorship_tag": "ABX9TyOQamgahPxLzOxLsI1bnCLn",
      "include_colab_link": true
    },
    "kernelspec": {
      "name": "python3",
      "display_name": "Python 3"
    },
    "language_info": {
      "name": "python"
    }
  },
  "cells": [
    {
      "cell_type": "markdown",
      "metadata": {
        "id": "view-in-github",
        "colab_type": "text"
      },
      "source": [
        "<a href=\"https://colab.research.google.com/github/viniciusrpb/cic0004_apc_turma04/blob/main/iteracao/notas_aula_iteracao.ipynb\" target=\"_parent\"><img src=\"https://colab.research.google.com/assets/colab-badge.svg\" alt=\"Open In Colab\"/></a>"
      ]
    },
    {
      "cell_type": "markdown",
      "source": [
        "# Capítulo 6 - Iteração (Estruturas de Repetição)\n",
        "\n",
        "\n",
        "## While"
      ],
      "metadata": {
        "id": "gbZRk6H3WtfC"
      }
    },
    {
      "cell_type": "code",
      "execution_count": null,
      "metadata": {
        "id": "okGYh_WNWsQZ"
      },
      "outputs": [],
      "source": [
        "while condicional:\n",
        "    #comando 1\n",
        "    #comando 2\n",
        "    "
      ]
    },
    {
      "cell_type": "markdown",
      "source": [
        "### Exemplo 1\n",
        "\n",
        "Solicitar ao usuário que digite números ímpares e que esse processo pare até que um número par seja fornecido:"
      ],
      "metadata": {
        "id": "aa_o3eAZXxvj"
      }
    },
    {
      "cell_type": "code",
      "source": [
        "n = 1\n",
        "\n",
        "while n % 2 != 0:\n",
        "    n = int(input(\"Digite um numero impar: \"))\n"
      ],
      "metadata": {
        "colab": {
          "base_uri": "https://localhost:8080/"
        },
        "id": "0HF2KZP0XzDV",
        "outputId": "4cc33535-0ffc-426c-9581-dbea646cc555"
      },
      "execution_count": null,
      "outputs": [
        {
          "name": "stdout",
          "output_type": "stream",
          "text": [
            "Digite um numero impar: 3\n",
            "Digite um numero impar: 7\n",
            "Digite um numero impar: 1\n",
            "Digite um numero impar: 4\n"
          ]
        }
      ]
    },
    {
      "cell_type": "markdown",
      "source": [
        "- Inicialmente, a variável $n = 1$ . Porquê 1? Porque $1$ é ímpar e assim viabiliza a entrada na estrutura de repetição, e consequentemente, pode-se fazer as perguntas para o usuário (condicional será verdadeira na primeira vez)\n",
        "\n",
        "Possibilidade 2"
      ],
      "metadata": {
        "id": "osRUdMVkYZM5"
      }
    },
    {
      "cell_type": "code",
      "source": [
        "def pergunta():\n",
        "    x = int(input(\"Digite um numero impar: \"))\n",
        "    return x\n",
        "\n",
        "def imprime_num(t):\n",
        "    print(f'Voce digitou {t}')\n",
        "\n",
        "n = pergunta()\n",
        "while n % 2 != 0:\n",
        "    n = pergunta()\n",
        "    imprime_num(n)\n",
        "\n",
        "print(f\"Voce digitou um numero par {n} :(\")"
      ],
      "metadata": {
        "colab": {
          "base_uri": "https://localhost:8080/"
        },
        "id": "tuqXM24nYzF2",
        "outputId": "db35b5b3-6d06-4a5e-b605-c63d5beb033a"
      },
      "execution_count": null,
      "outputs": [
        {
          "output_type": "stream",
          "name": "stdout",
          "text": [
            "Digite um numero impar: 5\n",
            "Digite um numero impar: 3\n",
            "Voce digitou 3\n",
            "Digite um numero impar: 15\n",
            "Voce digitou 15\n",
            "Digite um numero impar: 33\n",
            "Voce digitou 33\n",
            "Digite um numero impar: 16\n",
            "Voce digitou 16\n",
            "Voce digitou um numero par 16 :(\n"
          ]
        }
      ]
    },
    {
      "cell_type": "markdown",
      "source": [
        "## Laço For\n",
        "\n",
        "Estrutura de repetição mais utilizada como um processo de contagem.\n",
        "\n",
        "Em Python, o laço for é empregado em conjunto com a função range!\n",
        "\n",
        "No exemplo abaixo, $num = 1, \\ldots, 10$"
      ],
      "metadata": {
        "id": "kK44EhfYksFh"
      }
    },
    {
      "cell_type": "code",
      "source": [
        "inicio = 1\n",
        "fim = 11\n",
        "passo = 1\n",
        "\n",
        "# range(inicio,fim) = [inicio,fim)\n",
        "for num in range(inicio,fim,passo):\n",
        "    print(num)\n"
      ],
      "metadata": {
        "colab": {
          "base_uri": "https://localhost:8080/"
        },
        "id": "1Lq_8y7uky5M",
        "outputId": "b23232b1-748c-4c2c-9d16-5a1d9cbebc78"
      },
      "execution_count": null,
      "outputs": [
        {
          "output_type": "stream",
          "name": "stdout",
          "text": [
            "1\n",
            "2\n",
            "3\n",
            "4\n",
            "5\n",
            "6\n",
            "7\n",
            "8\n",
            "9\n",
            "10\n"
          ]
        }
      ]
    },
    {
      "cell_type": "markdown",
      "source": [
        "podemos fazer essa mesma operação de repetição utilizando o laço **while**:"
      ],
      "metadata": {
        "id": "8Dw4aRqsoxd9"
      }
    },
    {
      "cell_type": "code",
      "source": [
        "inicio = 1\n",
        "fim = 11\n",
        "passo = 1\n",
        "\n",
        "num = inicio\n",
        "while num < fim:\n",
        "    print(num)\n",
        "    num = num + passo"
      ],
      "metadata": {
        "colab": {
          "base_uri": "https://localhost:8080/"
        },
        "id": "6kvFhiDEo4Jy",
        "outputId": "349fd656-d476-4c17-d1f8-9e17779639d9"
      },
      "execution_count": null,
      "outputs": [
        {
          "output_type": "stream",
          "name": "stdout",
          "text": [
            "1\n",
            "2\n",
            "3\n",
            "4\n",
            "5\n",
            "6\n",
            "7\n",
            "8\n",
            "9\n",
            "10\n"
          ]
        }
      ]
    },
    {
      "cell_type": "markdown",
      "source": [
        "Exemplo 2"
      ],
      "metadata": {
        "id": "GYtcpkl3lPg8"
      }
    },
    {
      "cell_type": "code",
      "source": [
        "inicio = 1\n",
        "fim = 11\n",
        "passo = 2\n",
        "\n",
        "# range(inicio,fim) = [inicio,fim)\n",
        "for num in range(inicio,fim,passo):\n",
        "    print(num)"
      ],
      "metadata": {
        "colab": {
          "base_uri": "https://localhost:8080/"
        },
        "id": "OaTYfdVolQkQ",
        "outputId": "657c9655-7e40-43c9-a55c-e1c489215046"
      },
      "execution_count": null,
      "outputs": [
        {
          "output_type": "stream",
          "name": "stdout",
          "text": [
            "1\n",
            "3\n",
            "5\n",
            "7\n",
            "9\n"
          ]
        }
      ]
    },
    {
      "cell_type": "markdown",
      "source": [
        "Exemplo 3"
      ],
      "metadata": {
        "id": "tNHaFIlPlVNq"
      }
    },
    {
      "cell_type": "code",
      "source": [
        "inicio = 10\n",
        "fim = -1\n",
        "passo = 2\n",
        "\n",
        "# range(inicio,fim) = [inicio,fim)\n",
        "for num in range(inicio,fim,passo):\n",
        "    print(num)"
      ],
      "metadata": {
        "colab": {
          "base_uri": "https://localhost:8080/"
        },
        "id": "LeMIxosflX9q",
        "outputId": "e1f80d41-4853-4556-c7db-ed3008c56b9a"
      },
      "execution_count": null,
      "outputs": [
        {
          "output_type": "stream",
          "name": "stdout",
          "text": [
            "10\n",
            "8\n",
            "6\n",
            "4\n",
            "2\n",
            "0\n"
          ]
        }
      ]
    },
    {
      "cell_type": "markdown",
      "source": [
        "Exemplo 4 (incorreto)\n",
        "\n",
        "Intervalo crescente em que inicio > fim"
      ],
      "metadata": {
        "id": "6TuMukdilfja"
      }
    },
    {
      "cell_type": "code",
      "source": [
        "inicio = 10\n",
        "fim = -1\n",
        "passo = 1\n",
        "\n",
        "# range(inicio,fim) = [inicio,fim)\n",
        "for num in range(inicio,fim,passo):\n",
        "    print(num)"
      ],
      "metadata": {
        "id": "UPNzjH6ilhWS"
      },
      "execution_count": null,
      "outputs": []
    },
    {
      "cell_type": "markdown",
      "source": [
        "Exemplo 5\n",
        "\n",
        "Pode-se colocar diretamente constantes **inteiras** na função range. O padrão é que os números no intervalo sejam crescente."
      ],
      "metadata": {
        "id": "A2fWvVLDl0Gi"
      }
    },
    {
      "cell_type": "code",
      "source": [
        "for i in range(0,9):\n",
        "    print(2*i)"
      ],
      "metadata": {
        "colab": {
          "base_uri": "https://localhost:8080/"
        },
        "id": "mVIpqNrwl2gc",
        "outputId": "4b28505e-a3cd-4886-b7d6-f2884621fe97"
      },
      "execution_count": null,
      "outputs": [
        {
          "output_type": "stream",
          "name": "stdout",
          "text": [
            "0\n",
            "2\n",
            "4\n",
            "6\n",
            "8\n",
            "10\n",
            "12\n",
            "14\n",
            "16\n"
          ]
        }
      ]
    },
    {
      "cell_type": "markdown",
      "source": [
        "Exemplo 6\n",
        "\n",
        "Uso do laço for com input().split()"
      ],
      "metadata": {
        "id": "eGMtmzqWnUrx"
      }
    },
    {
      "cell_type": "code",
      "source": [
        "a,b,c = (int(x) for x in input().split())\n",
        "print(a)\n",
        "print(b)\n",
        "print(c)"
      ],
      "metadata": {
        "colab": {
          "base_uri": "https://localhost:8080/"
        },
        "id": "9R2v_qPRnbYT",
        "outputId": "9581e3ee-f0d6-4786-b333-9e23bfa10955"
      },
      "execution_count": null,
      "outputs": [
        {
          "output_type": "stream",
          "name": "stdout",
          "text": [
            "6 11 3\n",
            "6\n",
            "11\n",
            "3\n"
          ]
        }
      ]
    },
    {
      "cell_type": "markdown",
      "source": [
        "reescrevendo em um bloco de código:"
      ],
      "metadata": {
        "id": "yb_E-wSLoClT"
      }
    },
    {
      "cell_type": "code",
      "source": [
        "for x in input().split():\n",
        "    print(x)"
      ],
      "metadata": {
        "colab": {
          "base_uri": "https://localhost:8080/"
        },
        "id": "6KcZkJKroEMA",
        "outputId": "a23deacf-861e-4cd2-9e74-55cac2faa643"
      },
      "execution_count": null,
      "outputs": [
        {
          "output_type": "stream",
          "name": "stdout",
          "text": [
            "6 11 3\n",
            "6\n",
            "11\n",
            "3\n"
          ]
        }
      ]
    },
    {
      "cell_type": "code",
      "source": [
        "ans = input().split()"
      ],
      "metadata": {
        "colab": {
          "base_uri": "https://localhost:8080/"
        },
        "id": "oMzxhGY9oWXr",
        "outputId": "1857421f-194c-4c66-9dd4-7a2c8864e08a"
      },
      "execution_count": null,
      "outputs": [
        {
          "name": "stdout",
          "output_type": "stream",
          "text": [
            "7 4 3 2 9 10\n"
          ]
        }
      ]
    },
    {
      "cell_type": "code",
      "source": [
        "ans"
      ],
      "metadata": {
        "colab": {
          "base_uri": "https://localhost:8080/"
        },
        "id": "M523ZEraoZMK",
        "outputId": "cb2f3d43-65f1-4780-91f6-34842ff556f7"
      },
      "execution_count": null,
      "outputs": [
        {
          "output_type": "execute_result",
          "data": {
            "text/plain": [
              "['7', '4', '3', '2', '9', '10']"
            ]
          },
          "metadata": {},
          "execution_count": 23
        }
      ]
    },
    {
      "cell_type": "markdown",
      "source": [
        "Exemplo 7\n",
        "\n",
        "Uso do laço for com entrada digitada pelo usuário humano. Solicitar que o usuário humano informe **exatamente** 5 números inteiros"
      ],
      "metadata": {
        "id": "bXu_5ghwpvEI"
      }
    },
    {
      "cell_type": "code",
      "source": [
        "# range(1,6) = 1,2,3,4,5\n",
        "for i in range(1,6):\n",
        "    num = input(\"Digite um numero inteiro: \")\n",
        "    print(num)"
      ],
      "metadata": {
        "colab": {
          "base_uri": "https://localhost:8080/"
        },
        "id": "iKwW-2g6p1PX",
        "outputId": "5c53bbf3-9436-431a-ced8-82dbfe4b5869"
      },
      "execution_count": null,
      "outputs": [
        {
          "output_type": "stream",
          "name": "stdout",
          "text": [
            "Digite um numero inteiro: 4\n",
            "4\n",
            "Digite um numero inteiro: 8\n",
            "8\n",
            "Digite um numero inteiro: 2\n",
            "2\n",
            "Digite um numero inteiro: 1\n",
            "1\n",
            "Digite um numero inteiro: 7\n",
            "7\n"
          ]
        }
      ]
    },
    {
      "cell_type": "markdown",
      "source": [
        "Se você não sabe a quantidade **exata** de números que o usuário vai digitar, deve-se o laço while. Por exemplo, o usuário digita número até que um critério seja satisfeito (ou não satisfeito).\n",
        "\n",
        "### Exemplo 8\n",
        "\n",
        "Utilizando laço for, solicite que o usuário digite números ímpares até que um número par seja fornecido"
      ],
      "metadata": {
        "id": "0xEqc_hnqR5B"
      }
    },
    {
      "cell_type": "code",
      "source": [
        "def ehPar(x):\n",
        "    if x % 2 == 0:\n",
        "        return True\n",
        "    return False\n",
        "\n",
        "for i in range(0,10):\n",
        "    print(f'Iteracao: {i}')\n",
        "    num = int(input(\"Digite um numero impar: \"))\n",
        "    if ehPar(num) == True:\n",
        "        break # comando que pára a execucao do laço"
      ],
      "metadata": {
        "colab": {
          "base_uri": "https://localhost:8080/"
        },
        "id": "D1GwoRhtqk-r",
        "outputId": "e19a5936-6e76-43b9-d9e0-dc96cfb29d4b"
      },
      "execution_count": null,
      "outputs": [
        {
          "name": "stdout",
          "output_type": "stream",
          "text": [
            "Iteracao: 0\n",
            "Digite um numero impar: 9\n",
            "Iteracao: 1\n",
            "Digite um numero impar: 3\n",
            "Iteracao: 2\n",
            "Digite um numero impar: 7\n",
            "Iteracao: 3\n",
            "Digite um numero impar: 8\n"
          ]
        }
      ]
    },
    {
      "cell_type": "markdown",
      "source": [
        "Podemos também colocar um laço dentro do outro."
      ],
      "metadata": {
        "id": "4_vfdxeksTlv"
      }
    },
    {
      "cell_type": "code",
      "source": [
        "a = 1\n",
        "for i in range(0,6): # Laço mais externo i = 1,2,3,4,5\n",
        "    print(f'i={i}')\n",
        "    for j in range(0,6): # Laço mais interno j = 1,2,3,4,5\n",
        "        print(f'Iteração {a}: j={j}')\n",
        "        a+=1"
      ],
      "metadata": {
        "colab": {
          "base_uri": "https://localhost:8080/"
        },
        "id": "avpI8GVsrxNt",
        "outputId": "17f110b7-8221-4042-9cdf-74b2c51f55fd"
      },
      "execution_count": null,
      "outputs": [
        {
          "output_type": "stream",
          "name": "stdout",
          "text": [
            "i=0\n",
            "Iteração 1: j=0\n",
            "Iteração 2: j=1\n",
            "Iteração 3: j=2\n",
            "Iteração 4: j=3\n",
            "Iteração 5: j=4\n",
            "Iteração 6: j=5\n",
            "i=1\n",
            "Iteração 7: j=0\n",
            "Iteração 8: j=1\n",
            "Iteração 9: j=2\n",
            "Iteração 10: j=3\n",
            "Iteração 11: j=4\n",
            "Iteração 12: j=5\n",
            "i=2\n",
            "Iteração 13: j=0\n",
            "Iteração 14: j=1\n",
            "Iteração 15: j=2\n",
            "Iteração 16: j=3\n",
            "Iteração 17: j=4\n",
            "Iteração 18: j=5\n",
            "i=3\n",
            "Iteração 19: j=0\n",
            "Iteração 20: j=1\n",
            "Iteração 21: j=2\n",
            "Iteração 22: j=3\n",
            "Iteração 23: j=4\n",
            "Iteração 24: j=5\n",
            "i=4\n",
            "Iteração 25: j=0\n",
            "Iteração 26: j=1\n",
            "Iteração 27: j=2\n",
            "Iteração 28: j=3\n",
            "Iteração 29: j=4\n",
            "Iteração 30: j=5\n",
            "i=5\n",
            "Iteração 31: j=0\n",
            "Iteração 32: j=1\n",
            "Iteração 33: j=2\n",
            "Iteração 34: j=3\n",
            "Iteração 35: j=4\n",
            "Iteração 36: j=5\n"
          ]
        }
      ]
    }
  ]
}